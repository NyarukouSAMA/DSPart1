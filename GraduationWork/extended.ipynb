{
 "metadata": {
  "language_info": {
   "codemirror_mode": {
    "name": "ipython",
    "version": 3
   },
   "file_extension": ".py",
   "mimetype": "text/x-python",
   "name": "python",
   "nbconvert_exporter": "python",
   "pygments_lexer": "ipython3",
   "version": "3.7.3-final"
  },
  "orig_nbformat": 2,
  "kernelspec": {
   "name": "python3",
   "display_name": "Python 3",
   "language": "python"
  }
 },
 "nbformat": 4,
 "nbformat_minor": 2,
 "cells": [
  {
   "cell_type": "code",
   "execution_count": 1,
   "metadata": {},
   "outputs": [],
   "source": [
    "import numpy as np\n",
    "from scipy.ndimage.filters import gaussian_filter1d\n",
    "\n",
    "import pandas as pd\n",
    "\n",
    "from sklearn.tree import DecisionTreeRegressor\n",
    "from sklearn.preprocessing import StandardScaler\n",
    "from sklearn.model_selection import train_test_split, GridSearchCV\n",
    "from sklearn.metrics import r2_score\n",
    "\n",
    "import matplotlib.pyplot as plt\n",
    "import seaborn as sns\n",
    "\n",
    "%matplotlib inline\n",
    "%config InlineBackend.figure_format = 'svg'"
   ]
  },
  {
   "cell_type": "code",
   "execution_count": 2,
   "metadata": {},
   "outputs": [],
   "source": [
    "TRAIN_DATASET_PATH = './train.csv'\n",
    "TEST_DATASET_PATH = './test.csv'"
   ]
  },
  {
   "source": [
    "**Описание датасета**\n",
    "\n",
    "* **Id** - идентификационный номер квартиры\n",
    "* **DistrictId** - идентификационный номер района\n",
    "* **Rooms** - количество комнат\n",
    "* **Square** - площадь\n",
    "* **LifeSquare** - жилая площадь\n",
    "* **KitchenSquare** - площадь кухни\n",
    "* **Floor** - этаж\n",
    "* **HouseFloor** - количество этажей в доме\n",
    "* **HouseYear** - год постройки дома\n",
    "* **Ecology_1, Ecology_2, Ecology_3** - экологические показатели местности\n",
    "* **Social_1, Social_2, Social_3** - социальные показатели местности\n",
    "* **Healthcare_1, Helthcare_2** - показатели местности, связанные с охраной здоровья\n",
    "* **Shops_1, Shops_2** - показатели, связанные с наличием магазинов, торговых центров\n",
    "* **Price** - цена квартиры"
   ],
   "cell_type": "markdown",
   "metadata": {}
  },
  {
   "cell_type": "code",
   "execution_count": 5,
   "metadata": {},
   "outputs": [],
   "source": [
    "train = pd.read_csv(TRAIN_DATASET_PATH)\n",
    "test = pd.read_csv(TEST_DATASET_PATH)\n",
    "\n",
    "index_count = len(train.columns) if len(train.columns) > len(test.columns) else len(test.columns)"
   ]
  },
  {
   "cell_type": "code",
   "execution_count": 6,
   "metadata": {},
   "outputs": [
    {
     "output_type": "display_data",
     "data": {
      "text/plain": "<Figure size 1152x576 with 1 Axes>",
      "image/svg+xml": "<?xml version=\"1.0\" encoding=\"utf-8\" standalone=\"no\"?>\r\n<!DOCTYPE svg PUBLIC \"-//W3C//DTD SVG 1.1//EN\"\r\n  \"http://www.w3.org/Graphics/SVG/1.1/DTD/svg11.dtd\">\r\n<!-- Created with matplotlib (https://matplotlib.org/) -->\r\n<svg height=\"494.754375pt\" version=\"1.1\" viewBox=\"0 0 946.965625 494.754375\" width=\"946.965625pt\" xmlns=\"http://www.w3.org/2000/svg\" xmlns:xlink=\"http://www.w3.org/1999/xlink\">\r\n <defs>\r\n  <style type=\"text/css\">\r\n*{stroke-linecap:butt;stroke-linejoin:round;}\r\n  </style>\r\n </defs>\r\n <g id=\"figure_1\">\r\n  <g id=\"patch_1\">\r\n   <path d=\"M 0 494.754375 \r\nL 946.965625 494.754375 \r\nL 946.965625 0 \r\nL 0 0 \r\nz\r\n\" style=\"fill:none;\"/>\r\n  </g>\r\n  <g id=\"axes_1\">\r\n   <g id=\"patch_2\">\r\n    <path d=\"M 46.965625 457.198125 \r\nL 939.765625 457.198125 \r\nL 939.765625 22.318125 \r\nL 46.965625 22.318125 \r\nz\r\n\" style=\"fill:#ffffff;\"/>\r\n   </g>\r\n   <g id=\"patch_3\">\r\n    <path clip-path=\"url(#p3f437b9bfe)\" d=\"M 42.501625 457.198125 \r\nL 51.429625 457.198125 \r\nL 51.429625 437.998125 \r\nL 42.501625 437.998125 \r\nz\r\n\" style=\"fill:#1f77b4;\"/>\r\n   </g>\r\n   <g id=\"patch_4\">\r\n    <path clip-path=\"url(#p3f437b9bfe)\" d=\"M 51.429625 457.198125 \r\nL 60.357625 457.198125 \r\nL 60.357625 410.569554 \r\nL 51.429625 410.569554 \r\nz\r\n\" style=\"fill:#1f77b4;\"/>\r\n   </g>\r\n   <g id=\"patch_5\">\r\n    <path clip-path=\"url(#p3f437b9bfe)\" d=\"M 60.357625 457.198125 \r\nL 69.285625 457.198125 \r\nL 69.285625 406.912411 \r\nL 60.357625 406.912411 \r\nz\r\n\" style=\"fill:#1f77b4;\"/>\r\n   </g>\r\n   <g id=\"patch_6\">\r\n    <path clip-path=\"url(#p3f437b9bfe)\" d=\"M 69.285625 457.198125 \r\nL 78.213625 457.198125 \r\nL 78.213625 416.969554 \r\nL 69.285625 416.969554 \r\nz\r\n\" style=\"fill:#1f77b4;\"/>\r\n   </g>\r\n   <g id=\"patch_7\">\r\n    <path clip-path=\"url(#p3f437b9bfe)\" d=\"M 78.213625 457.198125 \r\nL 87.141625 457.198125 \r\nL 87.141625 363.026696 \r\nL 78.213625 363.026696 \r\nz\r\n\" style=\"fill:#1f77b4;\"/>\r\n   </g>\r\n   <g id=\"patch_8\">\r\n    <path clip-path=\"url(#p3f437b9bfe)\" d=\"M 87.141625 457.198125 \r\nL 96.069625 457.198125 \r\nL 96.069625 331.026696 \r\nL 87.141625 331.026696 \r\nz\r\n\" style=\"fill:#1f77b4;\"/>\r\n   </g>\r\n   <g id=\"patch_9\">\r\n    <path clip-path=\"url(#p3f437b9bfe)\" d=\"M 96.069625 457.198125 \r\nL 104.997625 457.198125 \r\nL 104.997625 373.083839 \r\nL 96.069625 373.083839 \r\nz\r\n\" style=\"fill:#1f77b4;\"/>\r\n   </g>\r\n   <g id=\"patch_10\">\r\n    <path clip-path=\"url(#p3f437b9bfe)\" d=\"M 104.997625 457.198125 \r\nL 113.925625 457.198125 \r\nL 113.925625 368.512411 \r\nL 104.997625 368.512411 \r\nz\r\n\" style=\"fill:#1f77b4;\"/>\r\n   </g>\r\n   <g id=\"patch_11\">\r\n    <path clip-path=\"url(#p3f437b9bfe)\" d=\"M 113.925625 457.198125 \r\nL 122.853625 457.198125 \r\nL 122.853625 332.855268 \r\nL 113.925625 332.855268 \r\nz\r\n\" style=\"fill:#1f77b4;\"/>\r\n   </g>\r\n   <g id=\"patch_12\">\r\n    <path clip-path=\"url(#p3f437b9bfe)\" d=\"M 122.853625 457.198125 \r\nL 131.781625 457.198125 \r\nL 131.781625 292.626696 \r\nL 122.853625 292.626696 \r\nz\r\n\" style=\"fill:#1f77b4;\"/>\r\n   </g>\r\n   <g id=\"patch_13\">\r\n    <path clip-path=\"url(#p3f437b9bfe)\" d=\"M 131.781625 457.198125 \r\nL 140.709625 457.198125 \r\nL 140.709625 302.683839 \r\nL 131.781625 302.683839 \r\nz\r\n\" style=\"fill:#1f77b4;\"/>\r\n   </g>\r\n   <g id=\"patch_14\">\r\n    <path clip-path=\"url(#p3f437b9bfe)\" d=\"M 140.709625 457.198125 \r\nL 149.637625 457.198125 \r\nL 149.637625 267.940982 \r\nL 140.709625 267.940982 \r\nz\r\n\" style=\"fill:#1f77b4;\"/>\r\n   </g>\r\n   <g id=\"patch_15\">\r\n    <path clip-path=\"url(#p3f437b9bfe)\" d=\"M 149.637625 457.198125 \r\nL 158.565625 457.198125 \r\nL 158.565625 245.083839 \r\nL 149.637625 245.083839 \r\nz\r\n\" style=\"fill:#1f77b4;\"/>\r\n   </g>\r\n   <g id=\"patch_16\">\r\n    <path clip-path=\"url(#p3f437b9bfe)\" d=\"M 158.565625 457.198125 \r\nL 167.493625 457.198125 \r\nL 167.493625 221.312411 \r\nL 158.565625 221.312411 \r\nz\r\n\" style=\"fill:#1f77b4;\"/>\r\n   </g>\r\n   <g id=\"patch_17\">\r\n    <path clip-path=\"url(#p3f437b9bfe)\" d=\"M 167.493625 457.198125 \r\nL 176.421625 457.198125 \r\nL 176.421625 203.940982 \r\nL 167.493625 203.940982 \r\nz\r\n\" style=\"fill:#1f77b4;\"/>\r\n   </g>\r\n   <g id=\"patch_18\">\r\n    <path clip-path=\"url(#p3f437b9bfe)\" d=\"M 176.421625 457.198125 \r\nL 185.349625 457.198125 \r\nL 185.349625 189.312411 \r\nL 176.421625 189.312411 \r\nz\r\n\" style=\"fill:#1f77b4;\"/>\r\n   </g>\r\n   <g id=\"patch_19\">\r\n    <path clip-path=\"url(#p3f437b9bfe)\" d=\"M 185.349625 457.198125 \r\nL 194.277625 457.198125 \r\nL 194.277625 174.683839 \r\nL 185.349625 174.683839 \r\nz\r\n\" style=\"fill:#1f77b4;\"/>\r\n   </g>\r\n   <g id=\"patch_20\">\r\n    <path clip-path=\"url(#p3f437b9bfe)\" d=\"M 194.277625 457.198125 \r\nL 203.205625 457.198125 \r\nL 203.205625 158.226696 \r\nL 194.277625 158.226696 \r\nz\r\n\" style=\"fill:#1f77b4;\"/>\r\n   </g>\r\n   <g id=\"patch_21\">\r\n    <path clip-path=\"url(#p3f437b9bfe)\" d=\"M 203.205625 457.198125 \r\nL 212.133625 457.198125 \r\nL 212.133625 133.540982 \r\nL 203.205625 133.540982 \r\nz\r\n\" style=\"fill:#1f77b4;\"/>\r\n   </g>\r\n   <g id=\"patch_22\">\r\n    <path clip-path=\"url(#p3f437b9bfe)\" d=\"M 212.133625 457.198125 \r\nL 221.061625 457.198125 \r\nL 221.061625 122.569554 \r\nL 212.133625 122.569554 \r\nz\r\n\" style=\"fill:#1f77b4;\"/>\r\n   </g>\r\n   <g id=\"patch_23\">\r\n    <path clip-path=\"url(#p3f437b9bfe)\" d=\"M 221.061625 457.198125 \r\nL 229.989625 457.198125 \r\nL 229.989625 92.398125 \r\nL 221.061625 92.398125 \r\nz\r\n\" style=\"fill:#1f77b4;\"/>\r\n   </g>\r\n   <g id=\"patch_24\">\r\n    <path clip-path=\"url(#p3f437b9bfe)\" d=\"M 229.989625 457.198125 \r\nL 238.917625 457.198125 \r\nL 238.917625 43.026696 \r\nL 229.989625 43.026696 \r\nz\r\n\" style=\"fill:#1f77b4;\"/>\r\n   </g>\r\n   <g id=\"patch_25\">\r\n    <path clip-path=\"url(#p3f437b9bfe)\" d=\"M 238.917625 457.198125 \r\nL 247.845625 457.198125 \r\nL 247.845625 105.198125 \r\nL 238.917625 105.198125 \r\nz\r\n\" style=\"fill:#1f77b4;\"/>\r\n   </g>\r\n   <g id=\"patch_26\">\r\n    <path clip-path=\"url(#p3f437b9bfe)\" d=\"M 247.845625 457.198125 \r\nL 256.773625 457.198125 \r\nL 256.773625 158.226696 \r\nL 247.845625 158.226696 \r\nz\r\n\" style=\"fill:#1f77b4;\"/>\r\n   </g>\r\n   <g id=\"patch_27\">\r\n    <path clip-path=\"url(#p3f437b9bfe)\" d=\"M 256.773625 457.198125 \r\nL 265.701625 457.198125 \r\nL 265.701625 144.512411 \r\nL 256.773625 144.512411 \r\nz\r\n\" style=\"fill:#1f77b4;\"/>\r\n   </g>\r\n   <g id=\"patch_28\">\r\n    <path clip-path=\"url(#p3f437b9bfe)\" d=\"M 265.701625 457.198125 \r\nL 274.629625 457.198125 \r\nL 274.629625 189.312411 \r\nL 265.701625 189.312411 \r\nz\r\n\" style=\"fill:#1f77b4;\"/>\r\n   </g>\r\n   <g id=\"patch_29\">\r\n    <path clip-path=\"url(#p3f437b9bfe)\" d=\"M 274.629625 457.198125 \r\nL 283.557625 457.198125 \r\nL 283.557625 211.255268 \r\nL 274.629625 211.255268 \r\nz\r\n\" style=\"fill:#1f77b4;\"/>\r\n   </g>\r\n   <g id=\"patch_30\">\r\n    <path clip-path=\"url(#p3f437b9bfe)\" d=\"M 283.557625 457.198125 \r\nL 292.485625 457.198125 \r\nL 292.485625 213.083839 \r\nL 283.557625 213.083839 \r\nz\r\n\" style=\"fill:#1f77b4;\"/>\r\n   </g>\r\n   <g id=\"patch_31\">\r\n    <path clip-path=\"url(#p3f437b9bfe)\" d=\"M 292.485625 457.198125 \r\nL 301.413625 457.198125 \r\nL 301.413625 258.798125 \r\nL 292.485625 258.798125 \r\nz\r\n\" style=\"fill:#1f77b4;\"/>\r\n   </g>\r\n   <g id=\"patch_32\">\r\n    <path clip-path=\"url(#p3f437b9bfe)\" d=\"M 301.413625 457.198125 \r\nL 310.341625 457.198125 \r\nL 310.341625 259.712411 \r\nL 301.413625 259.712411 \r\nz\r\n\" style=\"fill:#1f77b4;\"/>\r\n   </g>\r\n   <g id=\"patch_33\">\r\n    <path clip-path=\"url(#p3f437b9bfe)\" d=\"M 310.341625 457.198125 \r\nL 319.269625 457.198125 \r\nL 319.269625 271.598125 \r\nL 310.341625 271.598125 \r\nz\r\n\" style=\"fill:#1f77b4;\"/>\r\n   </g>\r\n   <g id=\"patch_34\">\r\n    <path clip-path=\"url(#p3f437b9bfe)\" d=\"M 319.269625 457.198125 \r\nL 328.197625 457.198125 \r\nL 328.197625 267.026696 \r\nL 319.269625 267.026696 \r\nz\r\n\" style=\"fill:#1f77b4;\"/>\r\n   </g>\r\n   <g id=\"patch_35\">\r\n    <path clip-path=\"url(#p3f437b9bfe)\" d=\"M 328.197625 457.198125 \r\nL 337.125625 457.198125 \r\nL 337.125625 280.740982 \r\nL 328.197625 280.740982 \r\nz\r\n\" style=\"fill:#1f77b4;\"/>\r\n   </g>\r\n   <g id=\"patch_36\">\r\n    <path clip-path=\"url(#p3f437b9bfe)\" d=\"M 337.125625 457.198125 \r\nL 346.053625 457.198125 \r\nL 346.053625 313.655268 \r\nL 337.125625 313.655268 \r\nz\r\n\" style=\"fill:#1f77b4;\"/>\r\n   </g>\r\n   <g id=\"patch_37\">\r\n    <path clip-path=\"url(#p3f437b9bfe)\" d=\"M 346.053625 457.198125 \r\nL 354.981625 457.198125 \r\nL 354.981625 340.169554 \r\nL 346.053625 340.169554 \r\nz\r\n\" style=\"fill:#1f77b4;\"/>\r\n   </g>\r\n   <g id=\"patch_38\">\r\n    <path clip-path=\"url(#p3f437b9bfe)\" d=\"M 354.981625 457.198125 \r\nL 363.909625 457.198125 \r\nL 363.909625 342.912411 \r\nL 354.981625 342.912411 \r\nz\r\n\" style=\"fill:#1f77b4;\"/>\r\n   </g>\r\n   <g id=\"patch_39\">\r\n    <path clip-path=\"url(#p3f437b9bfe)\" d=\"M 363.909625 457.198125 \r\nL 372.837625 457.198125 \r\nL 372.837625 349.312411 \r\nL 363.909625 349.312411 \r\nz\r\n\" style=\"fill:#1f77b4;\"/>\r\n   </g>\r\n   <g id=\"patch_40\">\r\n    <path clip-path=\"url(#p3f437b9bfe)\" d=\"M 372.837625 457.198125 \r\nL 381.765625 457.198125 \r\nL 381.765625 358.455268 \r\nL 372.837625 358.455268 \r\nz\r\n\" style=\"fill:#1f77b4;\"/>\r\n   </g>\r\n   <g id=\"patch_41\">\r\n    <path clip-path=\"url(#p3f437b9bfe)\" d=\"M 381.765625 457.198125 \r\nL 390.693625 457.198125 \r\nL 390.693625 378.569554 \r\nL 381.765625 378.569554 \r\nz\r\n\" style=\"fill:#1f77b4;\"/>\r\n   </g>\r\n   <g id=\"patch_42\">\r\n    <path clip-path=\"url(#p3f437b9bfe)\" d=\"M 390.693625 457.198125 \r\nL 399.621625 457.198125 \r\nL 399.621625 358.455268 \r\nL 390.693625 358.455268 \r\nz\r\n\" style=\"fill:#1f77b4;\"/>\r\n   </g>\r\n   <g id=\"patch_43\">\r\n    <path clip-path=\"url(#p3f437b9bfe)\" d=\"M 399.621625 457.198125 \r\nL 408.549625 457.198125 \r\nL 408.549625 378.569554 \r\nL 399.621625 378.569554 \r\nz\r\n\" style=\"fill:#1f77b4;\"/>\r\n   </g>\r\n   <g id=\"patch_44\">\r\n    <path clip-path=\"url(#p3f437b9bfe)\" d=\"M 408.549625 457.198125 \r\nL 417.477625 457.198125 \r\nL 417.477625 375.826696 \r\nL 408.549625 375.826696 \r\nz\r\n\" style=\"fill:#1f77b4;\"/>\r\n   </g>\r\n   <g id=\"patch_45\">\r\n    <path clip-path=\"url(#p3f437b9bfe)\" d=\"M 417.477625 457.198125 \r\nL 426.405625 457.198125 \r\nL 426.405625 383.140982 \r\nL 417.477625 383.140982 \r\nz\r\n\" style=\"fill:#1f77b4;\"/>\r\n   </g>\r\n   <g id=\"patch_46\">\r\n    <path clip-path=\"url(#p3f437b9bfe)\" d=\"M 426.405625 457.198125 \r\nL 435.333625 457.198125 \r\nL 435.333625 395.026696 \r\nL 426.405625 395.026696 \r\nz\r\n\" style=\"fill:#1f77b4;\"/>\r\n   </g>\r\n   <g id=\"patch_47\">\r\n    <path clip-path=\"url(#p3f437b9bfe)\" d=\"M 435.333625 457.198125 \r\nL 444.261625 457.198125 \r\nL 444.261625 391.369554 \r\nL 435.333625 391.369554 \r\nz\r\n\" style=\"fill:#1f77b4;\"/>\r\n   </g>\r\n   <g id=\"patch_48\">\r\n    <path clip-path=\"url(#p3f437b9bfe)\" d=\"M 444.261625 457.198125 \r\nL 453.189625 457.198125 \r\nL 453.189625 391.369554 \r\nL 444.261625 391.369554 \r\nz\r\n\" style=\"fill:#1f77b4;\"/>\r\n   </g>\r\n   <g id=\"patch_49\">\r\n    <path clip-path=\"url(#p3f437b9bfe)\" d=\"M 453.189625 457.198125 \r\nL 462.117625 457.198125 \r\nL 462.117625 393.198125 \r\nL 453.189625 393.198125 \r\nz\r\n\" style=\"fill:#1f77b4;\"/>\r\n   </g>\r\n   <g id=\"patch_50\">\r\n    <path clip-path=\"url(#p3f437b9bfe)\" d=\"M 462.117625 457.198125 \r\nL 471.045625 457.198125 \r\nL 471.045625 404.169554 \r\nL 462.117625 404.169554 \r\nz\r\n\" style=\"fill:#1f77b4;\"/>\r\n   </g>\r\n   <g id=\"patch_51\">\r\n    <path clip-path=\"url(#p3f437b9bfe)\" d=\"M 471.045625 457.198125 \r\nL 479.973625 457.198125 \r\nL 479.973625 391.369554 \r\nL 471.045625 391.369554 \r\nz\r\n\" style=\"fill:#1f77b4;\"/>\r\n   </g>\r\n   <g id=\"patch_52\">\r\n    <path clip-path=\"url(#p3f437b9bfe)\" d=\"M 479.973625 457.198125 \r\nL 488.901625 457.198125 \r\nL 488.901625 399.598125 \r\nL 479.973625 399.598125 \r\nz\r\n\" style=\"fill:#1f77b4;\"/>\r\n   </g>\r\n   <g id=\"patch_53\">\r\n    <path clip-path=\"url(#p3f437b9bfe)\" d=\"M 488.901625 457.198125 \r\nL 497.829625 457.198125 \r\nL 497.829625 411.483839 \r\nL 488.901625 411.483839 \r\nz\r\n\" style=\"fill:#1f77b4;\"/>\r\n   </g>\r\n   <g id=\"patch_54\">\r\n    <path clip-path=\"url(#p3f437b9bfe)\" d=\"M 497.829625 457.198125 \r\nL 506.757625 457.198125 \r\nL 506.757625 406.912411 \r\nL 497.829625 406.912411 \r\nz\r\n\" style=\"fill:#1f77b4;\"/>\r\n   </g>\r\n   <g id=\"patch_55\">\r\n    <path clip-path=\"url(#p3f437b9bfe)\" d=\"M 506.757625 457.198125 \r\nL 515.685625 457.198125 \r\nL 515.685625 404.169554 \r\nL 506.757625 404.169554 \r\nz\r\n\" style=\"fill:#1f77b4;\"/>\r\n   </g>\r\n   <g id=\"patch_56\">\r\n    <path clip-path=\"url(#p3f437b9bfe)\" d=\"M 515.685625 457.198125 \r\nL 524.613625 457.198125 \r\nL 524.613625 409.655268 \r\nL 515.685625 409.655268 \r\nz\r\n\" style=\"fill:#1f77b4;\"/>\r\n   </g>\r\n   <g id=\"patch_57\">\r\n    <path clip-path=\"url(#p3f437b9bfe)\" d=\"M 524.613625 457.198125 \r\nL 533.541625 457.198125 \r\nL 533.541625 424.283839 \r\nL 524.613625 424.283839 \r\nz\r\n\" style=\"fill:#1f77b4;\"/>\r\n   </g>\r\n   <g id=\"patch_58\">\r\n    <path clip-path=\"url(#p3f437b9bfe)\" d=\"M 533.541625 457.198125 \r\nL 542.469625 457.198125 \r\nL 542.469625 416.055268 \r\nL 533.541625 416.055268 \r\nz\r\n\" style=\"fill:#1f77b4;\"/>\r\n   </g>\r\n   <g id=\"patch_59\">\r\n    <path clip-path=\"url(#p3f437b9bfe)\" d=\"M 542.469625 457.198125 \r\nL 551.397625 457.198125 \r\nL 551.397625 416.055268 \r\nL 542.469625 416.055268 \r\nz\r\n\" style=\"fill:#1f77b4;\"/>\r\n   </g>\r\n   <g id=\"patch_60\">\r\n    <path clip-path=\"url(#p3f437b9bfe)\" d=\"M 551.397625 457.198125 \r\nL 560.325625 457.198125 \r\nL 560.325625 425.198125 \r\nL 551.397625 425.198125 \r\nz\r\n\" style=\"fill:#1f77b4;\"/>\r\n   </g>\r\n   <g id=\"patch_61\">\r\n    <path clip-path=\"url(#p3f437b9bfe)\" d=\"M 560.325625 457.198125 \r\nL 569.253625 457.198125 \r\nL 569.253625 426.112411 \r\nL 560.325625 426.112411 \r\nz\r\n\" style=\"fill:#1f77b4;\"/>\r\n   </g>\r\n   <g id=\"patch_62\">\r\n    <path clip-path=\"url(#p3f437b9bfe)\" d=\"M 569.253625 457.198125 \r\nL 578.181625 457.198125 \r\nL 578.181625 432.512411 \r\nL 569.253625 432.512411 \r\nz\r\n\" style=\"fill:#1f77b4;\"/>\r\n   </g>\r\n   <g id=\"patch_63\">\r\n    <path clip-path=\"url(#p3f437b9bfe)\" d=\"M 578.181625 457.198125 \r\nL 587.109625 457.198125 \r\nL 587.109625 434.340982 \r\nL 578.181625 434.340982 \r\nz\r\n\" style=\"fill:#1f77b4;\"/>\r\n   </g>\r\n   <g id=\"patch_64\">\r\n    <path clip-path=\"url(#p3f437b9bfe)\" d=\"M 587.109625 457.198125 \r\nL 596.037625 457.198125 \r\nL 596.037625 424.283839 \r\nL 587.109625 424.283839 \r\nz\r\n\" style=\"fill:#1f77b4;\"/>\r\n   </g>\r\n   <g id=\"patch_65\">\r\n    <path clip-path=\"url(#p3f437b9bfe)\" d=\"M 596.037625 457.198125 \r\nL 604.965625 457.198125 \r\nL 604.965625 434.340982 \r\nL 596.037625 434.340982 \r\nz\r\n\" style=\"fill:#1f77b4;\"/>\r\n   </g>\r\n   <g id=\"patch_66\">\r\n    <path clip-path=\"url(#p3f437b9bfe)\" d=\"M 604.965625 457.198125 \r\nL 613.893625 457.198125 \r\nL 613.893625 431.598125 \r\nL 604.965625 431.598125 \r\nz\r\n\" style=\"fill:#1f77b4;\"/>\r\n   </g>\r\n   <g id=\"patch_67\">\r\n    <path clip-path=\"url(#p3f437b9bfe)\" d=\"M 613.893625 457.198125 \r\nL 622.821625 457.198125 \r\nL 622.821625 426.112411 \r\nL 613.893625 426.112411 \r\nz\r\n\" style=\"fill:#1f77b4;\"/>\r\n   </g>\r\n   <g id=\"patch_68\">\r\n    <path clip-path=\"url(#p3f437b9bfe)\" d=\"M 622.821625 457.198125 \r\nL 631.749625 457.198125 \r\nL 631.749625 434.340982 \r\nL 622.821625 434.340982 \r\nz\r\n\" style=\"fill:#1f77b4;\"/>\r\n   </g>\r\n   <g id=\"patch_69\">\r\n    <path clip-path=\"url(#p3f437b9bfe)\" d=\"M 631.749625 457.198125 \r\nL 640.677625 457.198125 \r\nL 640.677625 435.255268 \r\nL 631.749625 435.255268 \r\nz\r\n\" style=\"fill:#1f77b4;\"/>\r\n   </g>\r\n   <g id=\"patch_70\">\r\n    <path clip-path=\"url(#p3f437b9bfe)\" d=\"M 640.677625 457.198125 \r\nL 649.605625 457.198125 \r\nL 649.605625 442.569554 \r\nL 640.677625 442.569554 \r\nz\r\n\" style=\"fill:#1f77b4;\"/>\r\n   </g>\r\n   <g id=\"patch_71\">\r\n    <path clip-path=\"url(#p3f437b9bfe)\" d=\"M 649.605625 457.198125 \r\nL 658.533625 457.198125 \r\nL 658.533625 434.340982 \r\nL 649.605625 434.340982 \r\nz\r\n\" style=\"fill:#1f77b4;\"/>\r\n   </g>\r\n   <g id=\"patch_72\">\r\n    <path clip-path=\"url(#p3f437b9bfe)\" d=\"M 658.533625 457.198125 \r\nL 667.461625 457.198125 \r\nL 667.461625 442.569554 \r\nL 658.533625 442.569554 \r\nz\r\n\" style=\"fill:#1f77b4;\"/>\r\n   </g>\r\n   <g id=\"patch_73\">\r\n    <path clip-path=\"url(#p3f437b9bfe)\" d=\"M 667.461625 457.198125 \r\nL 676.389625 457.198125 \r\nL 676.389625 441.655268 \r\nL 667.461625 441.655268 \r\nz\r\n\" style=\"fill:#1f77b4;\"/>\r\n   </g>\r\n   <g id=\"patch_74\">\r\n    <path clip-path=\"url(#p3f437b9bfe)\" d=\"M 676.389625 457.198125 \r\nL 685.317625 457.198125 \r\nL 685.317625 441.655268 \r\nL 676.389625 441.655268 \r\nz\r\n\" style=\"fill:#1f77b4;\"/>\r\n   </g>\r\n   <g id=\"patch_75\">\r\n    <path clip-path=\"url(#p3f437b9bfe)\" d=\"M 685.317625 457.198125 \r\nL 694.245625 457.198125 \r\nL 694.245625 438.912411 \r\nL 685.317625 438.912411 \r\nz\r\n\" style=\"fill:#1f77b4;\"/>\r\n   </g>\r\n   <g id=\"patch_76\">\r\n    <path clip-path=\"url(#p3f437b9bfe)\" d=\"M 694.245625 457.198125 \r\nL 703.173625 457.198125 \r\nL 703.173625 434.340982 \r\nL 694.245625 434.340982 \r\nz\r\n\" style=\"fill:#1f77b4;\"/>\r\n   </g>\r\n   <g id=\"patch_77\">\r\n    <path clip-path=\"url(#p3f437b9bfe)\" d=\"M 703.173625 457.198125 \r\nL 712.101625 457.198125 \r\nL 712.101625 449.883839 \r\nL 703.173625 449.883839 \r\nz\r\n\" style=\"fill:#1f77b4;\"/>\r\n   </g>\r\n   <g id=\"patch_78\">\r\n    <path clip-path=\"url(#p3f437b9bfe)\" d=\"M 712.101625 457.198125 \r\nL 721.029625 457.198125 \r\nL 721.029625 443.483839 \r\nL 712.101625 443.483839 \r\nz\r\n\" style=\"fill:#1f77b4;\"/>\r\n   </g>\r\n   <g id=\"patch_79\">\r\n    <path clip-path=\"url(#p3f437b9bfe)\" d=\"M 721.029625 457.198125 \r\nL 729.957625 457.198125 \r\nL 729.957625 441.655268 \r\nL 721.029625 441.655268 \r\nz\r\n\" style=\"fill:#1f77b4;\"/>\r\n   </g>\r\n   <g id=\"patch_80\">\r\n    <path clip-path=\"url(#p3f437b9bfe)\" d=\"M 729.957625 457.198125 \r\nL 738.885625 457.198125 \r\nL 738.885625 445.312411 \r\nL 729.957625 445.312411 \r\nz\r\n\" style=\"fill:#1f77b4;\"/>\r\n   </g>\r\n   <g id=\"patch_81\">\r\n    <path clip-path=\"url(#p3f437b9bfe)\" d=\"M 738.885625 457.198125 \r\nL 747.813625 457.198125 \r\nL 747.813625 446.226696 \r\nL 738.885625 446.226696 \r\nz\r\n\" style=\"fill:#1f77b4;\"/>\r\n   </g>\r\n   <g id=\"patch_82\">\r\n    <path clip-path=\"url(#p3f437b9bfe)\" d=\"M 747.813625 457.198125 \r\nL 756.741625 457.198125 \r\nL 756.741625 448.055268 \r\nL 747.813625 448.055268 \r\nz\r\n\" style=\"fill:#1f77b4;\"/>\r\n   </g>\r\n   <g id=\"patch_83\">\r\n    <path clip-path=\"url(#p3f437b9bfe)\" d=\"M 756.741625 457.198125 \r\nL 765.669625 457.198125 \r\nL 765.669625 450.798125 \r\nL 756.741625 450.798125 \r\nz\r\n\" style=\"fill:#1f77b4;\"/>\r\n   </g>\r\n   <g id=\"patch_84\">\r\n    <path clip-path=\"url(#p3f437b9bfe)\" d=\"M 765.669625 457.198125 \r\nL 774.597625 457.198125 \r\nL 774.597625 443.483839 \r\nL 765.669625 443.483839 \r\nz\r\n\" style=\"fill:#1f77b4;\"/>\r\n   </g>\r\n   <g id=\"patch_85\">\r\n    <path clip-path=\"url(#p3f437b9bfe)\" d=\"M 774.597625 457.198125 \r\nL 783.525625 457.198125 \r\nL 783.525625 453.540982 \r\nL 774.597625 453.540982 \r\nz\r\n\" style=\"fill:#1f77b4;\"/>\r\n   </g>\r\n   <g id=\"patch_86\">\r\n    <path clip-path=\"url(#p3f437b9bfe)\" d=\"M 783.525625 457.198125 \r\nL 792.453625 457.198125 \r\nL 792.453625 448.055268 \r\nL 783.525625 448.055268 \r\nz\r\n\" style=\"fill:#1f77b4;\"/>\r\n   </g>\r\n   <g id=\"patch_87\">\r\n    <path clip-path=\"url(#p3f437b9bfe)\" d=\"M 792.453625 457.198125 \r\nL 801.381625 457.198125 \r\nL 801.381625 450.798125 \r\nL 792.453625 450.798125 \r\nz\r\n\" style=\"fill:#1f77b4;\"/>\r\n   </g>\r\n   <g id=\"patch_88\">\r\n    <path clip-path=\"url(#p3f437b9bfe)\" d=\"M 801.381625 457.198125 \r\nL 810.309625 457.198125 \r\nL 810.309625 451.712411 \r\nL 801.381625 451.712411 \r\nz\r\n\" style=\"fill:#1f77b4;\"/>\r\n   </g>\r\n   <g id=\"patch_89\">\r\n    <path clip-path=\"url(#p3f437b9bfe)\" d=\"M 810.309625 457.198125 \r\nL 819.237625 457.198125 \r\nL 819.237625 451.712411 \r\nL 810.309625 451.712411 \r\nz\r\n\" style=\"fill:#1f77b4;\"/>\r\n   </g>\r\n   <g id=\"patch_90\">\r\n    <path clip-path=\"url(#p3f437b9bfe)\" d=\"M 819.237625 457.198125 \r\nL 828.165625 457.198125 \r\nL 828.165625 451.712411 \r\nL 819.237625 451.712411 \r\nz\r\n\" style=\"fill:#1f77b4;\"/>\r\n   </g>\r\n   <g id=\"patch_91\">\r\n    <path clip-path=\"url(#p3f437b9bfe)\" d=\"M 828.165625 457.198125 \r\nL 837.093625 457.198125 \r\nL 837.093625 453.540982 \r\nL 828.165625 453.540982 \r\nz\r\n\" style=\"fill:#1f77b4;\"/>\r\n   </g>\r\n   <g id=\"patch_92\">\r\n    <path clip-path=\"url(#p3f437b9bfe)\" d=\"M 837.093625 457.198125 \r\nL 846.021625 457.198125 \r\nL 846.021625 450.798125 \r\nL 837.093625 450.798125 \r\nz\r\n\" style=\"fill:#1f77b4;\"/>\r\n   </g>\r\n   <g id=\"patch_93\">\r\n    <path clip-path=\"url(#p3f437b9bfe)\" d=\"M 846.021625 457.198125 \r\nL 854.949625 457.198125 \r\nL 854.949625 451.712411 \r\nL 846.021625 451.712411 \r\nz\r\n\" style=\"fill:#1f77b4;\"/>\r\n   </g>\r\n   <g id=\"patch_94\">\r\n    <path clip-path=\"url(#p3f437b9bfe)\" d=\"M 854.949625 457.198125 \r\nL 863.877625 457.198125 \r\nL 863.877625 453.540982 \r\nL 854.949625 453.540982 \r\nz\r\n\" style=\"fill:#1f77b4;\"/>\r\n   </g>\r\n   <g id=\"patch_95\">\r\n    <path clip-path=\"url(#p3f437b9bfe)\" d=\"M 863.877625 457.198125 \r\nL 872.805625 457.198125 \r\nL 872.805625 455.369554 \r\nL 863.877625 455.369554 \r\nz\r\n\" style=\"fill:#1f77b4;\"/>\r\n   </g>\r\n   <g id=\"patch_96\">\r\n    <path clip-path=\"url(#p3f437b9bfe)\" d=\"M 872.805625 457.198125 \r\nL 881.733625 457.198125 \r\nL 881.733625 448.969554 \r\nL 872.805625 448.969554 \r\nz\r\n\" style=\"fill:#1f77b4;\"/>\r\n   </g>\r\n   <g id=\"patch_97\">\r\n    <path clip-path=\"url(#p3f437b9bfe)\" d=\"M 881.733625 457.198125 \r\nL 890.661625 457.198125 \r\nL 890.661625 455.369554 \r\nL 881.733625 455.369554 \r\nz\r\n\" style=\"fill:#1f77b4;\"/>\r\n   </g>\r\n   <g id=\"patch_98\">\r\n    <path clip-path=\"url(#p3f437b9bfe)\" d=\"M 890.661625 457.198125 \r\nL 899.589625 457.198125 \r\nL 899.589625 455.369554 \r\nL 890.661625 455.369554 \r\nz\r\n\" style=\"fill:#1f77b4;\"/>\r\n   </g>\r\n   <g id=\"patch_99\">\r\n    <path clip-path=\"url(#p3f437b9bfe)\" d=\"M 899.589625 457.198125 \r\nL 908.517625 457.198125 \r\nL 908.517625 454.455268 \r\nL 899.589625 454.455268 \r\nz\r\n\" style=\"fill:#1f77b4;\"/>\r\n   </g>\r\n   <g id=\"patch_100\">\r\n    <path clip-path=\"url(#p3f437b9bfe)\" d=\"M 908.517625 457.198125 \r\nL 917.445625 457.198125 \r\nL 917.445625 453.540982 \r\nL 908.517625 453.540982 \r\nz\r\n\" style=\"fill:#1f77b4;\"/>\r\n   </g>\r\n   <g id=\"patch_101\">\r\n    <path clip-path=\"url(#p3f437b9bfe)\" d=\"M 917.445625 457.198125 \r\nL 926.373625 457.198125 \r\nL 926.373625 450.798125 \r\nL 917.445625 450.798125 \r\nz\r\n\" style=\"fill:#1f77b4;\"/>\r\n   </g>\r\n   <g id=\"patch_102\">\r\n    <path clip-path=\"url(#p3f437b9bfe)\" d=\"M 926.373625 457.198125 \r\nL 935.301625 457.198125 \r\nL 935.301625 455.369554 \r\nL 926.373625 455.369554 \r\nz\r\n\" style=\"fill:#1f77b4;\"/>\r\n   </g>\r\n   <g id=\"matplotlib.axis_1\">\r\n    <g id=\"xtick_1\">\r\n     <g id=\"line2d_1\">\r\n      <defs>\r\n       <path d=\"M 0 0 \r\nL 0 3.5 \r\n\" id=\"m78accdf8e4\" style=\"stroke:#000000;stroke-width:0.8;\"/>\r\n      </defs>\r\n      <g>\r\n       <use style=\"stroke:#000000;stroke-width:0.8;\" x=\"110.458712\" xlink:href=\"#m78accdf8e4\" y=\"457.198125\"/>\r\n      </g>\r\n     </g>\r\n     <g id=\"text_1\">\r\n      <!-- 100000 -->\r\n      <defs>\r\n       <path d=\"M 12.40625 8.296875 \r\nL 28.515625 8.296875 \r\nL 28.515625 63.921875 \r\nL 10.984375 60.40625 \r\nL 10.984375 69.390625 \r\nL 28.421875 72.90625 \r\nL 38.28125 72.90625 \r\nL 38.28125 8.296875 \r\nL 54.390625 8.296875 \r\nL 54.390625 0 \r\nL 12.40625 0 \r\nz\r\n\" id=\"DejaVuSans-49\"/>\r\n       <path d=\"M 31.78125 66.40625 \r\nQ 24.171875 66.40625 20.328125 58.90625 \r\nQ 16.5 51.421875 16.5 36.375 \r\nQ 16.5 21.390625 20.328125 13.890625 \r\nQ 24.171875 6.390625 31.78125 6.390625 \r\nQ 39.453125 6.390625 43.28125 13.890625 \r\nQ 47.125 21.390625 47.125 36.375 \r\nQ 47.125 51.421875 43.28125 58.90625 \r\nQ 39.453125 66.40625 31.78125 66.40625 \r\nz\r\nM 31.78125 74.21875 \r\nQ 44.046875 74.21875 50.515625 64.515625 \r\nQ 56.984375 54.828125 56.984375 36.375 \r\nQ 56.984375 17.96875 50.515625 8.265625 \r\nQ 44.046875 -1.421875 31.78125 -1.421875 \r\nQ 19.53125 -1.421875 13.0625 8.265625 \r\nQ 6.59375 17.96875 6.59375 36.375 \r\nQ 6.59375 54.828125 13.0625 64.515625 \r\nQ 19.53125 74.21875 31.78125 74.21875 \r\nz\r\n\" id=\"DejaVuSans-48\"/>\r\n      </defs>\r\n      <g transform=\"translate(91.371212 471.796562)scale(0.1 -0.1)\">\r\n       <use xlink:href=\"#DejaVuSans-49\"/>\r\n       <use x=\"63.623047\" xlink:href=\"#DejaVuSans-48\"/>\r\n       <use x=\"127.246094\" xlink:href=\"#DejaVuSans-48\"/>\r\n       <use x=\"190.869141\" xlink:href=\"#DejaVuSans-48\"/>\r\n       <use x=\"254.492188\" xlink:href=\"#DejaVuSans-48\"/>\r\n       <use x=\"318.115234\" xlink:href=\"#DejaVuSans-48\"/>\r\n      </g>\r\n     </g>\r\n    </g>\r\n    <g id=\"xtick_2\">\r\n     <g id=\"line2d_2\">\r\n      <g>\r\n       <use style=\"stroke:#000000;stroke-width:0.8;\" x=\"265.98288\" xlink:href=\"#m78accdf8e4\" y=\"457.198125\"/>\r\n      </g>\r\n     </g>\r\n     <g id=\"text_2\">\r\n      <!-- 200000 -->\r\n      <defs>\r\n       <path d=\"M 19.1875 8.296875 \r\nL 53.609375 8.296875 \r\nL 53.609375 0 \r\nL 7.328125 0 \r\nL 7.328125 8.296875 \r\nQ 12.9375 14.109375 22.625 23.890625 \r\nQ 32.328125 33.6875 34.8125 36.53125 \r\nQ 39.546875 41.84375 41.421875 45.53125 \r\nQ 43.3125 49.21875 43.3125 52.78125 \r\nQ 43.3125 58.59375 39.234375 62.25 \r\nQ 35.15625 65.921875 28.609375 65.921875 \r\nQ 23.96875 65.921875 18.8125 64.3125 \r\nQ 13.671875 62.703125 7.8125 59.421875 \r\nL 7.8125 69.390625 \r\nQ 13.765625 71.78125 18.9375 73 \r\nQ 24.125 74.21875 28.421875 74.21875 \r\nQ 39.75 74.21875 46.484375 68.546875 \r\nQ 53.21875 62.890625 53.21875 53.421875 \r\nQ 53.21875 48.921875 51.53125 44.890625 \r\nQ 49.859375 40.875 45.40625 35.40625 \r\nQ 44.1875 33.984375 37.640625 27.21875 \r\nQ 31.109375 20.453125 19.1875 8.296875 \r\nz\r\n\" id=\"DejaVuSans-50\"/>\r\n      </defs>\r\n      <g transform=\"translate(246.89538 471.796562)scale(0.1 -0.1)\">\r\n       <use xlink:href=\"#DejaVuSans-50\"/>\r\n       <use x=\"63.623047\" xlink:href=\"#DejaVuSans-48\"/>\r\n       <use x=\"127.246094\" xlink:href=\"#DejaVuSans-48\"/>\r\n       <use x=\"190.869141\" xlink:href=\"#DejaVuSans-48\"/>\r\n       <use x=\"254.492188\" xlink:href=\"#DejaVuSans-48\"/>\r\n       <use x=\"318.115234\" xlink:href=\"#DejaVuSans-48\"/>\r\n      </g>\r\n     </g>\r\n    </g>\r\n    <g id=\"xtick_3\">\r\n     <g id=\"line2d_3\">\r\n      <g>\r\n       <use style=\"stroke:#000000;stroke-width:0.8;\" x=\"421.507048\" xlink:href=\"#m78accdf8e4\" y=\"457.198125\"/>\r\n      </g>\r\n     </g>\r\n     <g id=\"text_3\">\r\n      <!-- 300000 -->\r\n      <defs>\r\n       <path d=\"M 40.578125 39.3125 \r\nQ 47.65625 37.796875 51.625 33 \r\nQ 55.609375 28.21875 55.609375 21.1875 \r\nQ 55.609375 10.40625 48.1875 4.484375 \r\nQ 40.765625 -1.421875 27.09375 -1.421875 \r\nQ 22.515625 -1.421875 17.65625 -0.515625 \r\nQ 12.796875 0.390625 7.625 2.203125 \r\nL 7.625 11.71875 \r\nQ 11.71875 9.328125 16.59375 8.109375 \r\nQ 21.484375 6.890625 26.8125 6.890625 \r\nQ 36.078125 6.890625 40.9375 10.546875 \r\nQ 45.796875 14.203125 45.796875 21.1875 \r\nQ 45.796875 27.640625 41.28125 31.265625 \r\nQ 36.765625 34.90625 28.71875 34.90625 \r\nL 20.21875 34.90625 \r\nL 20.21875 43.015625 \r\nL 29.109375 43.015625 \r\nQ 36.375 43.015625 40.234375 45.921875 \r\nQ 44.09375 48.828125 44.09375 54.296875 \r\nQ 44.09375 59.90625 40.109375 62.90625 \r\nQ 36.140625 65.921875 28.71875 65.921875 \r\nQ 24.65625 65.921875 20.015625 65.03125 \r\nQ 15.375 64.15625 9.8125 62.3125 \r\nL 9.8125 71.09375 \r\nQ 15.4375 72.65625 20.34375 73.4375 \r\nQ 25.25 74.21875 29.59375 74.21875 \r\nQ 40.828125 74.21875 47.359375 69.109375 \r\nQ 53.90625 64.015625 53.90625 55.328125 \r\nQ 53.90625 49.265625 50.4375 45.09375 \r\nQ 46.96875 40.921875 40.578125 39.3125 \r\nz\r\n\" id=\"DejaVuSans-51\"/>\r\n      </defs>\r\n      <g transform=\"translate(402.419548 471.796562)scale(0.1 -0.1)\">\r\n       <use xlink:href=\"#DejaVuSans-51\"/>\r\n       <use x=\"63.623047\" xlink:href=\"#DejaVuSans-48\"/>\r\n       <use x=\"127.246094\" xlink:href=\"#DejaVuSans-48\"/>\r\n       <use x=\"190.869141\" xlink:href=\"#DejaVuSans-48\"/>\r\n       <use x=\"254.492188\" xlink:href=\"#DejaVuSans-48\"/>\r\n       <use x=\"318.115234\" xlink:href=\"#DejaVuSans-48\"/>\r\n      </g>\r\n     </g>\r\n    </g>\r\n    <g id=\"xtick_4\">\r\n     <g id=\"line2d_4\">\r\n      <g>\r\n       <use style=\"stroke:#000000;stroke-width:0.8;\" x=\"577.031216\" xlink:href=\"#m78accdf8e4\" y=\"457.198125\"/>\r\n      </g>\r\n     </g>\r\n     <g id=\"text_4\">\r\n      <!-- 400000 -->\r\n      <defs>\r\n       <path d=\"M 37.796875 64.3125 \r\nL 12.890625 25.390625 \r\nL 37.796875 25.390625 \r\nz\r\nM 35.203125 72.90625 \r\nL 47.609375 72.90625 \r\nL 47.609375 25.390625 \r\nL 58.015625 25.390625 \r\nL 58.015625 17.1875 \r\nL 47.609375 17.1875 \r\nL 47.609375 0 \r\nL 37.796875 0 \r\nL 37.796875 17.1875 \r\nL 4.890625 17.1875 \r\nL 4.890625 26.703125 \r\nz\r\n\" id=\"DejaVuSans-52\"/>\r\n      </defs>\r\n      <g transform=\"translate(557.943716 471.796562)scale(0.1 -0.1)\">\r\n       <use xlink:href=\"#DejaVuSans-52\"/>\r\n       <use x=\"63.623047\" xlink:href=\"#DejaVuSans-48\"/>\r\n       <use x=\"127.246094\" xlink:href=\"#DejaVuSans-48\"/>\r\n       <use x=\"190.869141\" xlink:href=\"#DejaVuSans-48\"/>\r\n       <use x=\"254.492188\" xlink:href=\"#DejaVuSans-48\"/>\r\n       <use x=\"318.115234\" xlink:href=\"#DejaVuSans-48\"/>\r\n      </g>\r\n     </g>\r\n    </g>\r\n    <g id=\"xtick_5\">\r\n     <g id=\"line2d_5\">\r\n      <g>\r\n       <use style=\"stroke:#000000;stroke-width:0.8;\" x=\"732.555384\" xlink:href=\"#m78accdf8e4\" y=\"457.198125\"/>\r\n      </g>\r\n     </g>\r\n     <g id=\"text_5\">\r\n      <!-- 500000 -->\r\n      <defs>\r\n       <path d=\"M 10.796875 72.90625 \r\nL 49.515625 72.90625 \r\nL 49.515625 64.59375 \r\nL 19.828125 64.59375 \r\nL 19.828125 46.734375 \r\nQ 21.96875 47.46875 24.109375 47.828125 \r\nQ 26.265625 48.1875 28.421875 48.1875 \r\nQ 40.625 48.1875 47.75 41.5 \r\nQ 54.890625 34.8125 54.890625 23.390625 \r\nQ 54.890625 11.625 47.5625 5.09375 \r\nQ 40.234375 -1.421875 26.90625 -1.421875 \r\nQ 22.3125 -1.421875 17.546875 -0.640625 \r\nQ 12.796875 0.140625 7.71875 1.703125 \r\nL 7.71875 11.625 \r\nQ 12.109375 9.234375 16.796875 8.0625 \r\nQ 21.484375 6.890625 26.703125 6.890625 \r\nQ 35.15625 6.890625 40.078125 11.328125 \r\nQ 45.015625 15.765625 45.015625 23.390625 \r\nQ 45.015625 31 40.078125 35.4375 \r\nQ 35.15625 39.890625 26.703125 39.890625 \r\nQ 22.75 39.890625 18.8125 39.015625 \r\nQ 14.890625 38.140625 10.796875 36.28125 \r\nz\r\n\" id=\"DejaVuSans-53\"/>\r\n      </defs>\r\n      <g transform=\"translate(713.467884 471.796562)scale(0.1 -0.1)\">\r\n       <use xlink:href=\"#DejaVuSans-53\"/>\r\n       <use x=\"63.623047\" xlink:href=\"#DejaVuSans-48\"/>\r\n       <use x=\"127.246094\" xlink:href=\"#DejaVuSans-48\"/>\r\n       <use x=\"190.869141\" xlink:href=\"#DejaVuSans-48\"/>\r\n       <use x=\"254.492188\" xlink:href=\"#DejaVuSans-48\"/>\r\n       <use x=\"318.115234\" xlink:href=\"#DejaVuSans-48\"/>\r\n      </g>\r\n     </g>\r\n    </g>\r\n    <g id=\"xtick_6\">\r\n     <g id=\"line2d_6\">\r\n      <g>\r\n       <use style=\"stroke:#000000;stroke-width:0.8;\" x=\"888.079553\" xlink:href=\"#m78accdf8e4\" y=\"457.198125\"/>\r\n      </g>\r\n     </g>\r\n     <g id=\"text_6\">\r\n      <!-- 600000 -->\r\n      <defs>\r\n       <path d=\"M 33.015625 40.375 \r\nQ 26.375 40.375 22.484375 35.828125 \r\nQ 18.609375 31.296875 18.609375 23.390625 \r\nQ 18.609375 15.53125 22.484375 10.953125 \r\nQ 26.375 6.390625 33.015625 6.390625 \r\nQ 39.65625 6.390625 43.53125 10.953125 \r\nQ 47.40625 15.53125 47.40625 23.390625 \r\nQ 47.40625 31.296875 43.53125 35.828125 \r\nQ 39.65625 40.375 33.015625 40.375 \r\nz\r\nM 52.59375 71.296875 \r\nL 52.59375 62.3125 \r\nQ 48.875 64.0625 45.09375 64.984375 \r\nQ 41.3125 65.921875 37.59375 65.921875 \r\nQ 27.828125 65.921875 22.671875 59.328125 \r\nQ 17.53125 52.734375 16.796875 39.40625 \r\nQ 19.671875 43.65625 24.015625 45.921875 \r\nQ 28.375 48.1875 33.59375 48.1875 \r\nQ 44.578125 48.1875 50.953125 41.515625 \r\nQ 57.328125 34.859375 57.328125 23.390625 \r\nQ 57.328125 12.15625 50.6875 5.359375 \r\nQ 44.046875 -1.421875 33.015625 -1.421875 \r\nQ 20.359375 -1.421875 13.671875 8.265625 \r\nQ 6.984375 17.96875 6.984375 36.375 \r\nQ 6.984375 53.65625 15.1875 63.9375 \r\nQ 23.390625 74.21875 37.203125 74.21875 \r\nQ 40.921875 74.21875 44.703125 73.484375 \r\nQ 48.484375 72.75 52.59375 71.296875 \r\nz\r\n\" id=\"DejaVuSans-54\"/>\r\n      </defs>\r\n      <g transform=\"translate(868.992053 471.796562)scale(0.1 -0.1)\">\r\n       <use xlink:href=\"#DejaVuSans-54\"/>\r\n       <use x=\"63.623047\" xlink:href=\"#DejaVuSans-48\"/>\r\n       <use x=\"127.246094\" xlink:href=\"#DejaVuSans-48\"/>\r\n       <use x=\"190.869141\" xlink:href=\"#DejaVuSans-48\"/>\r\n       <use x=\"254.492188\" xlink:href=\"#DejaVuSans-48\"/>\r\n       <use x=\"318.115234\" xlink:href=\"#DejaVuSans-48\"/>\r\n      </g>\r\n     </g>\r\n    </g>\r\n    <g id=\"text_7\">\r\n     <!-- Price -->\r\n     <defs>\r\n      <path d=\"M 19.671875 64.796875 \r\nL 19.671875 37.40625 \r\nL 32.078125 37.40625 \r\nQ 38.96875 37.40625 42.71875 40.96875 \r\nQ 46.484375 44.53125 46.484375 51.125 \r\nQ 46.484375 57.671875 42.71875 61.234375 \r\nQ 38.96875 64.796875 32.078125 64.796875 \r\nz\r\nM 9.8125 72.90625 \r\nL 32.078125 72.90625 \r\nQ 44.34375 72.90625 50.609375 67.359375 \r\nQ 56.890625 61.8125 56.890625 51.125 \r\nQ 56.890625 40.328125 50.609375 34.8125 \r\nQ 44.34375 29.296875 32.078125 29.296875 \r\nL 19.671875 29.296875 \r\nL 19.671875 0 \r\nL 9.8125 0 \r\nz\r\n\" id=\"DejaVuSans-80\"/>\r\n      <path d=\"M 41.109375 46.296875 \r\nQ 39.59375 47.171875 37.8125 47.578125 \r\nQ 36.03125 48 33.890625 48 \r\nQ 26.265625 48 22.1875 43.046875 \r\nQ 18.109375 38.09375 18.109375 28.8125 \r\nL 18.109375 0 \r\nL 9.078125 0 \r\nL 9.078125 54.6875 \r\nL 18.109375 54.6875 \r\nL 18.109375 46.1875 \r\nQ 20.953125 51.171875 25.484375 53.578125 \r\nQ 30.03125 56 36.53125 56 \r\nQ 37.453125 56 38.578125 55.875 \r\nQ 39.703125 55.765625 41.0625 55.515625 \r\nz\r\n\" id=\"DejaVuSans-114\"/>\r\n      <path d=\"M 9.421875 54.6875 \r\nL 18.40625 54.6875 \r\nL 18.40625 0 \r\nL 9.421875 0 \r\nz\r\nM 9.421875 75.984375 \r\nL 18.40625 75.984375 \r\nL 18.40625 64.59375 \r\nL 9.421875 64.59375 \r\nz\r\n\" id=\"DejaVuSans-105\"/>\r\n      <path d=\"M 48.78125 52.59375 \r\nL 48.78125 44.1875 \r\nQ 44.96875 46.296875 41.140625 47.34375 \r\nQ 37.3125 48.390625 33.40625 48.390625 \r\nQ 24.65625 48.390625 19.8125 42.84375 \r\nQ 14.984375 37.3125 14.984375 27.296875 \r\nQ 14.984375 17.28125 19.8125 11.734375 \r\nQ 24.65625 6.203125 33.40625 6.203125 \r\nQ 37.3125 6.203125 41.140625 7.25 \r\nQ 44.96875 8.296875 48.78125 10.40625 \r\nL 48.78125 2.09375 \r\nQ 45.015625 0.34375 40.984375 -0.53125 \r\nQ 36.96875 -1.421875 32.421875 -1.421875 \r\nQ 20.0625 -1.421875 12.78125 6.34375 \r\nQ 5.515625 14.109375 5.515625 27.296875 \r\nQ 5.515625 40.671875 12.859375 48.328125 \r\nQ 20.21875 56 33.015625 56 \r\nQ 37.15625 56 41.109375 55.140625 \r\nQ 45.0625 54.296875 48.78125 52.59375 \r\nz\r\n\" id=\"DejaVuSans-99\"/>\r\n      <path d=\"M 56.203125 29.59375 \r\nL 56.203125 25.203125 \r\nL 14.890625 25.203125 \r\nQ 15.484375 15.921875 20.484375 11.0625 \r\nQ 25.484375 6.203125 34.421875 6.203125 \r\nQ 39.59375 6.203125 44.453125 7.46875 \r\nQ 49.3125 8.734375 54.109375 11.28125 \r\nL 54.109375 2.78125 \r\nQ 49.265625 0.734375 44.1875 -0.34375 \r\nQ 39.109375 -1.421875 33.890625 -1.421875 \r\nQ 20.796875 -1.421875 13.15625 6.1875 \r\nQ 5.515625 13.8125 5.515625 26.8125 \r\nQ 5.515625 40.234375 12.765625 48.109375 \r\nQ 20.015625 56 32.328125 56 \r\nQ 43.359375 56 49.78125 48.890625 \r\nQ 56.203125 41.796875 56.203125 29.59375 \r\nz\r\nM 47.21875 32.234375 \r\nQ 47.125 39.59375 43.09375 43.984375 \r\nQ 39.0625 48.390625 32.421875 48.390625 \r\nQ 24.90625 48.390625 20.390625 44.140625 \r\nQ 15.875 39.890625 15.1875 32.171875 \r\nz\r\n\" id=\"DejaVuSans-101\"/>\r\n     </defs>\r\n     <g transform=\"translate(481.08125 485.474687)scale(0.1 -0.1)\">\r\n      <use xlink:href=\"#DejaVuSans-80\"/>\r\n      <use x=\"60.287109\" xlink:href=\"#DejaVuSans-114\"/>\r\n      <use x=\"101.400391\" xlink:href=\"#DejaVuSans-105\"/>\r\n      <use x=\"129.183594\" xlink:href=\"#DejaVuSans-99\"/>\r\n      <use x=\"184.164062\" xlink:href=\"#DejaVuSans-101\"/>\r\n     </g>\r\n    </g>\r\n   </g>\r\n   <g id=\"matplotlib.axis_2\">\r\n    <g id=\"ytick_1\">\r\n     <g id=\"line2d_7\">\r\n      <defs>\r\n       <path d=\"M 0 0 \r\nL -3.5 0 \r\n\" id=\"mf2a674982b\" style=\"stroke:#000000;stroke-width:0.8;\"/>\r\n      </defs>\r\n      <g>\r\n       <use style=\"stroke:#000000;stroke-width:0.8;\" x=\"46.965625\" xlink:href=\"#mf2a674982b\" y=\"457.198125\"/>\r\n      </g>\r\n     </g>\r\n     <g id=\"text_8\">\r\n      <!-- 0 -->\r\n      <g transform=\"translate(33.603125 460.997344)scale(0.1 -0.1)\">\r\n       <use xlink:href=\"#DejaVuSans-48\"/>\r\n      </g>\r\n     </g>\r\n    </g>\r\n    <g id=\"ytick_2\">\r\n     <g id=\"line2d_8\">\r\n      <g>\r\n       <use style=\"stroke:#000000;stroke-width:0.8;\" x=\"46.965625\" xlink:href=\"#mf2a674982b\" y=\"365.769554\"/>\r\n      </g>\r\n     </g>\r\n     <g id=\"text_9\">\r\n      <!-- 100 -->\r\n      <g transform=\"translate(20.878125 369.568772)scale(0.1 -0.1)\">\r\n       <use xlink:href=\"#DejaVuSans-49\"/>\r\n       <use x=\"63.623047\" xlink:href=\"#DejaVuSans-48\"/>\r\n       <use x=\"127.246094\" xlink:href=\"#DejaVuSans-48\"/>\r\n      </g>\r\n     </g>\r\n    </g>\r\n    <g id=\"ytick_3\">\r\n     <g id=\"line2d_9\">\r\n      <g>\r\n       <use style=\"stroke:#000000;stroke-width:0.8;\" x=\"46.965625\" xlink:href=\"#mf2a674982b\" y=\"274.340982\"/>\r\n      </g>\r\n     </g>\r\n     <g id=\"text_10\">\r\n      <!-- 200 -->\r\n      <g transform=\"translate(20.878125 278.140201)scale(0.1 -0.1)\">\r\n       <use xlink:href=\"#DejaVuSans-50\"/>\r\n       <use x=\"63.623047\" xlink:href=\"#DejaVuSans-48\"/>\r\n       <use x=\"127.246094\" xlink:href=\"#DejaVuSans-48\"/>\r\n      </g>\r\n     </g>\r\n    </g>\r\n    <g id=\"ytick_4\">\r\n     <g id=\"line2d_10\">\r\n      <g>\r\n       <use style=\"stroke:#000000;stroke-width:0.8;\" x=\"46.965625\" xlink:href=\"#mf2a674982b\" y=\"182.912411\"/>\r\n      </g>\r\n     </g>\r\n     <g id=\"text_11\">\r\n      <!-- 300 -->\r\n      <g transform=\"translate(20.878125 186.711629)scale(0.1 -0.1)\">\r\n       <use xlink:href=\"#DejaVuSans-51\"/>\r\n       <use x=\"63.623047\" xlink:href=\"#DejaVuSans-48\"/>\r\n       <use x=\"127.246094\" xlink:href=\"#DejaVuSans-48\"/>\r\n      </g>\r\n     </g>\r\n    </g>\r\n    <g id=\"ytick_5\">\r\n     <g id=\"line2d_11\">\r\n      <g>\r\n       <use style=\"stroke:#000000;stroke-width:0.8;\" x=\"46.965625\" xlink:href=\"#mf2a674982b\" y=\"91.483839\"/>\r\n      </g>\r\n     </g>\r\n     <g id=\"text_12\">\r\n      <!-- 400 -->\r\n      <g transform=\"translate(20.878125 95.283058)scale(0.1 -0.1)\">\r\n       <use xlink:href=\"#DejaVuSans-52\"/>\r\n       <use x=\"63.623047\" xlink:href=\"#DejaVuSans-48\"/>\r\n       <use x=\"127.246094\" xlink:href=\"#DejaVuSans-48\"/>\r\n      </g>\r\n     </g>\r\n    </g>\r\n    <g id=\"text_13\">\r\n     <!-- Count -->\r\n     <defs>\r\n      <path d=\"M 64.40625 67.28125 \r\nL 64.40625 56.890625 \r\nQ 59.421875 61.53125 53.78125 63.8125 \r\nQ 48.140625 66.109375 41.796875 66.109375 \r\nQ 29.296875 66.109375 22.65625 58.46875 \r\nQ 16.015625 50.828125 16.015625 36.375 \r\nQ 16.015625 21.96875 22.65625 14.328125 \r\nQ 29.296875 6.6875 41.796875 6.6875 \r\nQ 48.140625 6.6875 53.78125 8.984375 \r\nQ 59.421875 11.28125 64.40625 15.921875 \r\nL 64.40625 5.609375 \r\nQ 59.234375 2.09375 53.4375 0.328125 \r\nQ 47.65625 -1.421875 41.21875 -1.421875 \r\nQ 24.65625 -1.421875 15.125 8.703125 \r\nQ 5.609375 18.84375 5.609375 36.375 \r\nQ 5.609375 53.953125 15.125 64.078125 \r\nQ 24.65625 74.21875 41.21875 74.21875 \r\nQ 47.75 74.21875 53.53125 72.484375 \r\nQ 59.328125 70.75 64.40625 67.28125 \r\nz\r\n\" id=\"DejaVuSans-67\"/>\r\n      <path d=\"M 30.609375 48.390625 \r\nQ 23.390625 48.390625 19.1875 42.75 \r\nQ 14.984375 37.109375 14.984375 27.296875 \r\nQ 14.984375 17.484375 19.15625 11.84375 \r\nQ 23.34375 6.203125 30.609375 6.203125 \r\nQ 37.796875 6.203125 41.984375 11.859375 \r\nQ 46.1875 17.53125 46.1875 27.296875 \r\nQ 46.1875 37.015625 41.984375 42.703125 \r\nQ 37.796875 48.390625 30.609375 48.390625 \r\nz\r\nM 30.609375 56 \r\nQ 42.328125 56 49.015625 48.375 \r\nQ 55.71875 40.765625 55.71875 27.296875 \r\nQ 55.71875 13.875 49.015625 6.21875 \r\nQ 42.328125 -1.421875 30.609375 -1.421875 \r\nQ 18.84375 -1.421875 12.171875 6.21875 \r\nQ 5.515625 13.875 5.515625 27.296875 \r\nQ 5.515625 40.765625 12.171875 48.375 \r\nQ 18.84375 56 30.609375 56 \r\nz\r\n\" id=\"DejaVuSans-111\"/>\r\n      <path d=\"M 8.5 21.578125 \r\nL 8.5 54.6875 \r\nL 17.484375 54.6875 \r\nL 17.484375 21.921875 \r\nQ 17.484375 14.15625 20.5 10.265625 \r\nQ 23.53125 6.390625 29.59375 6.390625 \r\nQ 36.859375 6.390625 41.078125 11.03125 \r\nQ 45.3125 15.671875 45.3125 23.6875 \r\nL 45.3125 54.6875 \r\nL 54.296875 54.6875 \r\nL 54.296875 0 \r\nL 45.3125 0 \r\nL 45.3125 8.40625 \r\nQ 42.046875 3.421875 37.71875 1 \r\nQ 33.40625 -1.421875 27.6875 -1.421875 \r\nQ 18.265625 -1.421875 13.375 4.4375 \r\nQ 8.5 10.296875 8.5 21.578125 \r\nz\r\nM 31.109375 56 \r\nz\r\n\" id=\"DejaVuSans-117\"/>\r\n      <path d=\"M 54.890625 33.015625 \r\nL 54.890625 0 \r\nL 45.90625 0 \r\nL 45.90625 32.71875 \r\nQ 45.90625 40.484375 42.875 44.328125 \r\nQ 39.84375 48.1875 33.796875 48.1875 \r\nQ 26.515625 48.1875 22.3125 43.546875 \r\nQ 18.109375 38.921875 18.109375 30.90625 \r\nL 18.109375 0 \r\nL 9.078125 0 \r\nL 9.078125 54.6875 \r\nL 18.109375 54.6875 \r\nL 18.109375 46.1875 \r\nQ 21.34375 51.125 25.703125 53.5625 \r\nQ 30.078125 56 35.796875 56 \r\nQ 45.21875 56 50.046875 50.171875 \r\nQ 54.890625 44.34375 54.890625 33.015625 \r\nz\r\n\" id=\"DejaVuSans-110\"/>\r\n      <path d=\"M 18.3125 70.21875 \r\nL 18.3125 54.6875 \r\nL 36.8125 54.6875 \r\nL 36.8125 47.703125 \r\nL 18.3125 47.703125 \r\nL 18.3125 18.015625 \r\nQ 18.3125 11.328125 20.140625 9.421875 \r\nQ 21.96875 7.515625 27.59375 7.515625 \r\nL 36.8125 7.515625 \r\nL 36.8125 0 \r\nL 27.59375 0 \r\nQ 17.1875 0 13.234375 3.875 \r\nQ 9.28125 7.765625 9.28125 18.015625 \r\nL 9.28125 47.703125 \r\nL 2.6875 47.703125 \r\nL 2.6875 54.6875 \r\nL 9.28125 54.6875 \r\nL 9.28125 70.21875 \r\nz\r\n\" id=\"DejaVuSans-116\"/>\r\n     </defs>\r\n     <g transform=\"translate(14.798438 254.606562)rotate(-90)scale(0.1 -0.1)\">\r\n      <use xlink:href=\"#DejaVuSans-67\"/>\r\n      <use x=\"69.824219\" xlink:href=\"#DejaVuSans-111\"/>\r\n      <use x=\"131.005859\" xlink:href=\"#DejaVuSans-117\"/>\r\n      <use x=\"194.384766\" xlink:href=\"#DejaVuSans-110\"/>\r\n      <use x=\"257.763672\" xlink:href=\"#DejaVuSans-116\"/>\r\n     </g>\r\n    </g>\r\n   </g>\r\n   <g id=\"line2d_12\">\r\n    <path clip-path=\"url(#p3f437b9bfe)\" d=\"M 46.965625 407.320405 \r\nL 55.893625 403.77696 \r\nL 64.821625 397.105674 \r\nL 73.749625 387.991953 \r\nL 82.677625 377.146347 \r\nL 91.605625 365.068688 \r\nL 100.533625 351.92635 \r\nL 109.461625 337.614705 \r\nL 118.389625 321.951007 \r\nL 127.317625 304.885432 \r\nL 136.245625 286.604665 \r\nL 145.173625 267.493373 \r\nL 154.101625 248.008112 \r\nL 163.029625 228.53862 \r\nL 171.957625 209.327705 \r\nL 180.885625 190.48349 \r\nL 189.813625 172.110895 \r\nL 198.741625 154.52934 \r\nL 207.669625 138.478876 \r\nL 216.597625 125.194501 \r\nL 225.525625 116.222596 \r\nL 234.453625 112.985263 \r\nL 243.381625 116.265613 \r\nL 252.309625 125.868342 \r\nL 261.237625 140.64231 \r\nL 270.165625 158.83982 \r\nL 279.093625 178.620112 \r\nL 288.021625 198.462774 \r\nL 296.949625 217.375782 \r\nL 305.877625 234.920532 \r\nL 314.805625 251.114311 \r\nL 323.733625 266.265429 \r\nL 332.661625 280.760277 \r\nL 341.589625 294.853114 \r\nL 350.517625 308.535358 \r\nL 359.445625 321.544431 \r\nL 368.373625 333.502024 \r\nL 377.301625 344.092826 \r\nL 386.229625 353.189853 \r\nL 395.157625 360.873722 \r\nL 404.085625 367.369901 \r\nL 413.013625 372.943344 \r\nL 421.941625 377.810812 \r\nL 430.869625 382.105771 \r\nL 439.797625 385.891309 \r\nL 448.725625 389.210854 \r\nL 457.653625 392.130839 \r\nL 466.581625 394.755822 \r\nL 475.509625 397.212151 \r\nL 484.437625 399.61594 \r\nL 493.365625 402.048238 \r\nL 502.293625 404.550569 \r\nL 511.221625 407.132024 \r\nL 520.149625 409.782634 \r\nL 529.077625 412.479713 \r\nL 538.005625 415.192093 \r\nL 546.933625 417.876662 \r\nL 555.861625 420.474212 \r\nL 564.789625 422.908407 \r\nL 573.717625 425.093382 \r\nL 582.645625 426.96014 \r\nL 591.573625 428.489462 \r\nL 600.501625 429.733421 \r\nL 609.429625 430.805884 \r\nL 618.357625 431.842944 \r\nL 627.285625 432.951517 \r\nL 636.213625 434.169808 \r\nL 645.141625 435.460231 \r\nL 654.069625 436.735266 \r\nL 662.997625 437.902116 \r\nL 671.925625 438.903062 \r\nL 680.853625 439.738491 \r\nL 689.781625 440.4599 \r\nL 698.709625 441.14286 \r\nL 707.637625 441.853822 \r\nL 716.565625 442.62803 \r\nL 725.493625 443.466402 \r\nL 734.421625 444.348322 \r\nL 743.349625 445.244774 \r\nL 752.277625 446.127922 \r\nL 761.205625 446.975588 \r\nL 770.133625 447.772716 \r\nL 779.061625 448.512423 \r\nL 787.989625 449.193594 \r\nL 796.917625 449.816651 \r\nL 805.845625 450.379255 \r\nL 814.773625 450.876795 \r\nL 823.701625 451.306305 \r\nL 832.629625 451.671427 \r\nL 841.557625 451.984792 \r\nL 850.485625 452.263877 \r\nL 859.413625 452.525713 \r\nL 868.341625 452.780014 \r\nL 877.269625 453.025274 \r\nL 886.197625 453.249333 \r\nL 895.125625 453.434333 \r\nL 904.053625 453.565097 \r\nL 912.981625 453.637633 \r\nL 921.909625 453.661891 \r\nL 930.837625 453.658635 \r\nL 939.765625 453.650071 \r\n\" style=\"fill:none;stroke:#ff7f0e;stroke-linecap:square;stroke-width:1.5;\"/>\r\n   </g>\r\n   <g id=\"patch_103\">\r\n    <path d=\"M 46.965625 457.198125 \r\nL 46.965625 22.318125 \r\n\" style=\"fill:none;stroke:#000000;stroke-linecap:square;stroke-linejoin:miter;stroke-width:0.8;\"/>\r\n   </g>\r\n   <g id=\"patch_104\">\r\n    <path d=\"M 939.765625 457.198125 \r\nL 939.765625 22.318125 \r\n\" style=\"fill:none;stroke:#000000;stroke-linecap:square;stroke-linejoin:miter;stroke-width:0.8;\"/>\r\n   </g>\r\n   <g id=\"patch_105\">\r\n    <path d=\"M 46.965625 457.198125 \r\nL 939.765625 457.198125 \r\n\" style=\"fill:none;stroke:#000000;stroke-linecap:square;stroke-linejoin:miter;stroke-width:0.8;\"/>\r\n   </g>\r\n   <g id=\"patch_106\">\r\n    <path d=\"M 46.965625 22.318125 \r\nL 939.765625 22.318125 \r\n\" style=\"fill:none;stroke:#000000;stroke-linecap:square;stroke-linejoin:miter;stroke-width:0.8;\"/>\r\n   </g>\r\n   <g id=\"text_14\">\r\n    <!-- Target distribution -->\r\n    <defs>\r\n     <path d=\"M -0.296875 72.90625 \r\nL 61.375 72.90625 \r\nL 61.375 64.59375 \r\nL 35.5 64.59375 \r\nL 35.5 0 \r\nL 25.59375 0 \r\nL 25.59375 64.59375 \r\nL -0.296875 64.59375 \r\nz\r\n\" id=\"DejaVuSans-84\"/>\r\n     <path d=\"M 34.28125 27.484375 \r\nQ 23.390625 27.484375 19.1875 25 \r\nQ 14.984375 22.515625 14.984375 16.5 \r\nQ 14.984375 11.71875 18.140625 8.90625 \r\nQ 21.296875 6.109375 26.703125 6.109375 \r\nQ 34.1875 6.109375 38.703125 11.40625 \r\nQ 43.21875 16.703125 43.21875 25.484375 \r\nL 43.21875 27.484375 \r\nz\r\nM 52.203125 31.203125 \r\nL 52.203125 0 \r\nL 43.21875 0 \r\nL 43.21875 8.296875 \r\nQ 40.140625 3.328125 35.546875 0.953125 \r\nQ 30.953125 -1.421875 24.3125 -1.421875 \r\nQ 15.921875 -1.421875 10.953125 3.296875 \r\nQ 6 8.015625 6 15.921875 \r\nQ 6 25.140625 12.171875 29.828125 \r\nQ 18.359375 34.515625 30.609375 34.515625 \r\nL 43.21875 34.515625 \r\nL 43.21875 35.40625 \r\nQ 43.21875 41.609375 39.140625 45 \r\nQ 35.0625 48.390625 27.6875 48.390625 \r\nQ 23 48.390625 18.546875 47.265625 \r\nQ 14.109375 46.140625 10.015625 43.890625 \r\nL 10.015625 52.203125 \r\nQ 14.9375 54.109375 19.578125 55.046875 \r\nQ 24.21875 56 28.609375 56 \r\nQ 40.484375 56 46.34375 49.84375 \r\nQ 52.203125 43.703125 52.203125 31.203125 \r\nz\r\n\" id=\"DejaVuSans-97\"/>\r\n     <path d=\"M 45.40625 27.984375 \r\nQ 45.40625 37.75 41.375 43.109375 \r\nQ 37.359375 48.484375 30.078125 48.484375 \r\nQ 22.859375 48.484375 18.828125 43.109375 \r\nQ 14.796875 37.75 14.796875 27.984375 \r\nQ 14.796875 18.265625 18.828125 12.890625 \r\nQ 22.859375 7.515625 30.078125 7.515625 \r\nQ 37.359375 7.515625 41.375 12.890625 \r\nQ 45.40625 18.265625 45.40625 27.984375 \r\nz\r\nM 54.390625 6.78125 \r\nQ 54.390625 -7.171875 48.1875 -13.984375 \r\nQ 42 -20.796875 29.203125 -20.796875 \r\nQ 24.46875 -20.796875 20.265625 -20.09375 \r\nQ 16.0625 -19.390625 12.109375 -17.921875 \r\nL 12.109375 -9.1875 \r\nQ 16.0625 -11.328125 19.921875 -12.34375 \r\nQ 23.78125 -13.375 27.78125 -13.375 \r\nQ 36.625 -13.375 41.015625 -8.765625 \r\nQ 45.40625 -4.15625 45.40625 5.171875 \r\nL 45.40625 9.625 \r\nQ 42.625 4.78125 38.28125 2.390625 \r\nQ 33.9375 0 27.875 0 \r\nQ 17.828125 0 11.671875 7.65625 \r\nQ 5.515625 15.328125 5.515625 27.984375 \r\nQ 5.515625 40.671875 11.671875 48.328125 \r\nQ 17.828125 56 27.875 56 \r\nQ 33.9375 56 38.28125 53.609375 \r\nQ 42.625 51.21875 45.40625 46.390625 \r\nL 45.40625 54.6875 \r\nL 54.390625 54.6875 \r\nz\r\n\" id=\"DejaVuSans-103\"/>\r\n     <path id=\"DejaVuSans-32\"/>\r\n     <path d=\"M 45.40625 46.390625 \r\nL 45.40625 75.984375 \r\nL 54.390625 75.984375 \r\nL 54.390625 0 \r\nL 45.40625 0 \r\nL 45.40625 8.203125 \r\nQ 42.578125 3.328125 38.25 0.953125 \r\nQ 33.9375 -1.421875 27.875 -1.421875 \r\nQ 17.96875 -1.421875 11.734375 6.484375 \r\nQ 5.515625 14.40625 5.515625 27.296875 \r\nQ 5.515625 40.1875 11.734375 48.09375 \r\nQ 17.96875 56 27.875 56 \r\nQ 33.9375 56 38.25 53.625 \r\nQ 42.578125 51.265625 45.40625 46.390625 \r\nz\r\nM 14.796875 27.296875 \r\nQ 14.796875 17.390625 18.875 11.75 \r\nQ 22.953125 6.109375 30.078125 6.109375 \r\nQ 37.203125 6.109375 41.296875 11.75 \r\nQ 45.40625 17.390625 45.40625 27.296875 \r\nQ 45.40625 37.203125 41.296875 42.84375 \r\nQ 37.203125 48.484375 30.078125 48.484375 \r\nQ 22.953125 48.484375 18.875 42.84375 \r\nQ 14.796875 37.203125 14.796875 27.296875 \r\nz\r\n\" id=\"DejaVuSans-100\"/>\r\n     <path d=\"M 44.28125 53.078125 \r\nL 44.28125 44.578125 \r\nQ 40.484375 46.53125 36.375 47.5 \r\nQ 32.28125 48.484375 27.875 48.484375 \r\nQ 21.1875 48.484375 17.84375 46.4375 \r\nQ 14.5 44.390625 14.5 40.28125 \r\nQ 14.5 37.15625 16.890625 35.375 \r\nQ 19.28125 33.59375 26.515625 31.984375 \r\nL 29.59375 31.296875 \r\nQ 39.15625 29.25 43.1875 25.515625 \r\nQ 47.21875 21.78125 47.21875 15.09375 \r\nQ 47.21875 7.46875 41.1875 3.015625 \r\nQ 35.15625 -1.421875 24.609375 -1.421875 \r\nQ 20.21875 -1.421875 15.453125 -0.5625 \r\nQ 10.6875 0.296875 5.421875 2 \r\nL 5.421875 11.28125 \r\nQ 10.40625 8.6875 15.234375 7.390625 \r\nQ 20.0625 6.109375 24.8125 6.109375 \r\nQ 31.15625 6.109375 34.5625 8.28125 \r\nQ 37.984375 10.453125 37.984375 14.40625 \r\nQ 37.984375 18.0625 35.515625 20.015625 \r\nQ 33.0625 21.96875 24.703125 23.78125 \r\nL 21.578125 24.515625 \r\nQ 13.234375 26.265625 9.515625 29.90625 \r\nQ 5.8125 33.546875 5.8125 39.890625 \r\nQ 5.8125 47.609375 11.28125 51.796875 \r\nQ 16.75 56 26.8125 56 \r\nQ 31.78125 56 36.171875 55.265625 \r\nQ 40.578125 54.546875 44.28125 53.078125 \r\nz\r\n\" id=\"DejaVuSans-115\"/>\r\n     <path d=\"M 48.6875 27.296875 \r\nQ 48.6875 37.203125 44.609375 42.84375 \r\nQ 40.53125 48.484375 33.40625 48.484375 \r\nQ 26.265625 48.484375 22.1875 42.84375 \r\nQ 18.109375 37.203125 18.109375 27.296875 \r\nQ 18.109375 17.390625 22.1875 11.75 \r\nQ 26.265625 6.109375 33.40625 6.109375 \r\nQ 40.53125 6.109375 44.609375 11.75 \r\nQ 48.6875 17.390625 48.6875 27.296875 \r\nz\r\nM 18.109375 46.390625 \r\nQ 20.953125 51.265625 25.265625 53.625 \r\nQ 29.59375 56 35.59375 56 \r\nQ 45.5625 56 51.78125 48.09375 \r\nQ 58.015625 40.1875 58.015625 27.296875 \r\nQ 58.015625 14.40625 51.78125 6.484375 \r\nQ 45.5625 -1.421875 35.59375 -1.421875 \r\nQ 29.59375 -1.421875 25.265625 0.953125 \r\nQ 20.953125 3.328125 18.109375 8.203125 \r\nL 18.109375 0 \r\nL 9.078125 0 \r\nL 9.078125 75.984375 \r\nL 18.109375 75.984375 \r\nz\r\n\" id=\"DejaVuSans-98\"/>\r\n    </defs>\r\n    <g transform=\"translate(437.621875 16.318125)scale(0.12 -0.12)\">\r\n     <use xlink:href=\"#DejaVuSans-84\"/>\r\n     <use x=\"60.833984\" xlink:href=\"#DejaVuSans-97\"/>\r\n     <use x=\"122.113281\" xlink:href=\"#DejaVuSans-114\"/>\r\n     <use x=\"163.210938\" xlink:href=\"#DejaVuSans-103\"/>\r\n     <use x=\"226.6875\" xlink:href=\"#DejaVuSans-101\"/>\r\n     <use x=\"288.210938\" xlink:href=\"#DejaVuSans-116\"/>\r\n     <use x=\"327.419922\" xlink:href=\"#DejaVuSans-32\"/>\r\n     <use x=\"359.207031\" xlink:href=\"#DejaVuSans-100\"/>\r\n     <use x=\"422.683594\" xlink:href=\"#DejaVuSans-105\"/>\r\n     <use x=\"450.466797\" xlink:href=\"#DejaVuSans-115\"/>\r\n     <use x=\"502.566406\" xlink:href=\"#DejaVuSans-116\"/>\r\n     <use x=\"541.775391\" xlink:href=\"#DejaVuSans-114\"/>\r\n     <use x=\"582.888672\" xlink:href=\"#DejaVuSans-105\"/>\r\n     <use x=\"610.671875\" xlink:href=\"#DejaVuSans-98\"/>\r\n     <use x=\"674.148438\" xlink:href=\"#DejaVuSans-117\"/>\r\n     <use x=\"737.527344\" xlink:href=\"#DejaVuSans-116\"/>\r\n     <use x=\"776.736328\" xlink:href=\"#DejaVuSans-105\"/>\r\n     <use x=\"804.519531\" xlink:href=\"#DejaVuSans-111\"/>\r\n     <use x=\"865.701172\" xlink:href=\"#DejaVuSans-110\"/>\r\n    </g>\r\n   </g>\r\n  </g>\r\n </g>\r\n <defs>\r\n  <clipPath id=\"p3f437b9bfe\">\r\n   <rect height=\"434.88\" width=\"892.8\" x=\"46.965625\" y=\"22.318125\"/>\r\n  </clipPath>\r\n </defs>\r\n</svg>\r\n"
     },
     "metadata": {
      "needs_background": "light"
     }
    }
   ],
   "source": [
    "target_name = 'Price'\n",
    "\n",
    "plt.figure(figsize = (16, 8))\n",
    "\n",
    "n, bins, patches = plt.hist(train['Price'], bins=100, align='left')\n",
    "plt.ylabel('Count')\n",
    "plt.xlabel('Price')\n",
    "\n",
    "n = np.insert(n, n.argmax(), n[n.argmax()])\n",
    "nsmoothed = gaussian_filter1d(n, sigma=3)\n",
    "\n",
    "ax = plt.subplot(111)\n",
    "ax.set_xlim(bins[0], bins[-1])\n",
    "\n",
    "plt.plot(bins, nsmoothed)\n",
    "\n",
    "plt.title('Target distribution')\n",
    "plt.show()"
   ]
  },
  {
   "cell_type": "code",
   "execution_count": 7,
   "metadata": {},
   "outputs": [
    {
     "output_type": "execute_result",
     "data": {
      "text/plain": [
       "DistrictId          0\n",
       "Rooms               0\n",
       "Square              0\n",
       "LifeSquare       2113\n",
       "KitchenSquare       0\n",
       "Floor               0\n",
       "HouseFloor          0\n",
       "HouseYear           0\n",
       "Ecology_1           0\n",
       "Ecology_2           0\n",
       "Ecology_3           0\n",
       "Social_1            0\n",
       "Social_2            0\n",
       "Social_3            0\n",
       "Healthcare_1     4798\n",
       "Helthcare_2         0\n",
       "Shops_1             0\n",
       "Shops_2             0\n",
       "Price               0\n",
       "dtype: int64"
      ]
     },
     "metadata": {},
     "execution_count": 7
    }
   ],
   "source": [
    "train = train.set_index('Id')\n",
    "\n",
    "train.isna().sum()"
   ]
  },
  {
   "cell_type": "code",
   "execution_count": 8,
   "metadata": {},
   "outputs": [
    {
     "output_type": "execute_result",
     "data": {
      "text/plain": [
       "         DistrictId         Rooms        Square   LifeSquare  KitchenSquare  \\\n",
       "count  10000.000000  10000.000000  10000.000000  7887.000000   10000.000000   \n",
       "mean      50.400800      1.890500     56.315775    37.199645       6.273300   \n",
       "std       43.587592      0.839512     21.058732    86.241209      28.560917   \n",
       "min        0.000000      0.000000      1.136859     0.370619       0.000000   \n",
       "25%       20.000000      1.000000     41.774881    22.769832       1.000000   \n",
       "50%       36.000000      2.000000     52.513310    32.781260       6.000000   \n",
       "75%       75.000000      2.000000     65.900625    45.128803       9.000000   \n",
       "max      209.000000     19.000000    641.065193  7480.592129    2014.000000   \n",
       "\n",
       "              Floor    HouseFloor     HouseYear     Ecology_1      Social_1  \\\n",
       "count  10000.000000  10000.000000  1.000000e+04  10000.000000  10000.000000   \n",
       "mean       8.526700     12.609400  3.990166e+03      0.118858     24.687000   \n",
       "std        5.241148      6.775974  2.005003e+05      0.119025     17.532614   \n",
       "min        1.000000      0.000000  1.910000e+03      0.000000      0.000000   \n",
       "25%        4.000000      9.000000  1.974000e+03      0.017647      6.000000   \n",
       "50%        7.000000     13.000000  1.977000e+03      0.075424     25.000000   \n",
       "75%       12.000000     17.000000  2.001000e+03      0.195781     36.000000   \n",
       "max       42.000000    117.000000  2.005201e+07      0.521867     74.000000   \n",
       "\n",
       "           Social_2      Social_3  Healthcare_1   Helthcare_2       Shops_1  \\\n",
       "count  10000.000000  10000.000000   5202.000000  10000.000000  10000.000000   \n",
       "mean    5352.157400      8.039200   1142.904460      1.319500      4.231300   \n",
       "std     4006.799803     23.831875   1021.517264      1.493601      4.806341   \n",
       "min      168.000000      0.000000      0.000000      0.000000      0.000000   \n",
       "25%     1564.000000      0.000000    350.000000      0.000000      1.000000   \n",
       "50%     5285.000000      2.000000    900.000000      1.000000      3.000000   \n",
       "75%     7227.000000      5.000000   1548.000000      2.000000      6.000000   \n",
       "max    19083.000000    141.000000   4849.000000      6.000000     23.000000   \n",
       "\n",
       "               Price  \n",
       "count   10000.000000  \n",
       "mean   214138.857399  \n",
       "std     92872.293865  \n",
       "min     59174.778028  \n",
       "25%    153872.633942  \n",
       "50%    192269.644879  \n",
       "75%    249135.462171  \n",
       "max    633233.466570  "
      ],
      "text/html": "<div>\n<style scoped>\n    .dataframe tbody tr th:only-of-type {\n        vertical-align: middle;\n    }\n\n    .dataframe tbody tr th {\n        vertical-align: top;\n    }\n\n    .dataframe thead th {\n        text-align: right;\n    }\n</style>\n<table border=\"1\" class=\"dataframe\">\n  <thead>\n    <tr style=\"text-align: right;\">\n      <th></th>\n      <th>DistrictId</th>\n      <th>Rooms</th>\n      <th>Square</th>\n      <th>LifeSquare</th>\n      <th>KitchenSquare</th>\n      <th>Floor</th>\n      <th>HouseFloor</th>\n      <th>HouseYear</th>\n      <th>Ecology_1</th>\n      <th>Social_1</th>\n      <th>Social_2</th>\n      <th>Social_3</th>\n      <th>Healthcare_1</th>\n      <th>Helthcare_2</th>\n      <th>Shops_1</th>\n      <th>Price</th>\n    </tr>\n  </thead>\n  <tbody>\n    <tr>\n      <th>count</th>\n      <td>10000.000000</td>\n      <td>10000.000000</td>\n      <td>10000.000000</td>\n      <td>7887.000000</td>\n      <td>10000.000000</td>\n      <td>10000.000000</td>\n      <td>10000.000000</td>\n      <td>1.000000e+04</td>\n      <td>10000.000000</td>\n      <td>10000.000000</td>\n      <td>10000.000000</td>\n      <td>10000.000000</td>\n      <td>5202.000000</td>\n      <td>10000.000000</td>\n      <td>10000.000000</td>\n      <td>10000.000000</td>\n    </tr>\n    <tr>\n      <th>mean</th>\n      <td>50.400800</td>\n      <td>1.890500</td>\n      <td>56.315775</td>\n      <td>37.199645</td>\n      <td>6.273300</td>\n      <td>8.526700</td>\n      <td>12.609400</td>\n      <td>3.990166e+03</td>\n      <td>0.118858</td>\n      <td>24.687000</td>\n      <td>5352.157400</td>\n      <td>8.039200</td>\n      <td>1142.904460</td>\n      <td>1.319500</td>\n      <td>4.231300</td>\n      <td>214138.857399</td>\n    </tr>\n    <tr>\n      <th>std</th>\n      <td>43.587592</td>\n      <td>0.839512</td>\n      <td>21.058732</td>\n      <td>86.241209</td>\n      <td>28.560917</td>\n      <td>5.241148</td>\n      <td>6.775974</td>\n      <td>2.005003e+05</td>\n      <td>0.119025</td>\n      <td>17.532614</td>\n      <td>4006.799803</td>\n      <td>23.831875</td>\n      <td>1021.517264</td>\n      <td>1.493601</td>\n      <td>4.806341</td>\n      <td>92872.293865</td>\n    </tr>\n    <tr>\n      <th>min</th>\n      <td>0.000000</td>\n      <td>0.000000</td>\n      <td>1.136859</td>\n      <td>0.370619</td>\n      <td>0.000000</td>\n      <td>1.000000</td>\n      <td>0.000000</td>\n      <td>1.910000e+03</td>\n      <td>0.000000</td>\n      <td>0.000000</td>\n      <td>168.000000</td>\n      <td>0.000000</td>\n      <td>0.000000</td>\n      <td>0.000000</td>\n      <td>0.000000</td>\n      <td>59174.778028</td>\n    </tr>\n    <tr>\n      <th>25%</th>\n      <td>20.000000</td>\n      <td>1.000000</td>\n      <td>41.774881</td>\n      <td>22.769832</td>\n      <td>1.000000</td>\n      <td>4.000000</td>\n      <td>9.000000</td>\n      <td>1.974000e+03</td>\n      <td>0.017647</td>\n      <td>6.000000</td>\n      <td>1564.000000</td>\n      <td>0.000000</td>\n      <td>350.000000</td>\n      <td>0.000000</td>\n      <td>1.000000</td>\n      <td>153872.633942</td>\n    </tr>\n    <tr>\n      <th>50%</th>\n      <td>36.000000</td>\n      <td>2.000000</td>\n      <td>52.513310</td>\n      <td>32.781260</td>\n      <td>6.000000</td>\n      <td>7.000000</td>\n      <td>13.000000</td>\n      <td>1.977000e+03</td>\n      <td>0.075424</td>\n      <td>25.000000</td>\n      <td>5285.000000</td>\n      <td>2.000000</td>\n      <td>900.000000</td>\n      <td>1.000000</td>\n      <td>3.000000</td>\n      <td>192269.644879</td>\n    </tr>\n    <tr>\n      <th>75%</th>\n      <td>75.000000</td>\n      <td>2.000000</td>\n      <td>65.900625</td>\n      <td>45.128803</td>\n      <td>9.000000</td>\n      <td>12.000000</td>\n      <td>17.000000</td>\n      <td>2.001000e+03</td>\n      <td>0.195781</td>\n      <td>36.000000</td>\n      <td>7227.000000</td>\n      <td>5.000000</td>\n      <td>1548.000000</td>\n      <td>2.000000</td>\n      <td>6.000000</td>\n      <td>249135.462171</td>\n    </tr>\n    <tr>\n      <th>max</th>\n      <td>209.000000</td>\n      <td>19.000000</td>\n      <td>641.065193</td>\n      <td>7480.592129</td>\n      <td>2014.000000</td>\n      <td>42.000000</td>\n      <td>117.000000</td>\n      <td>2.005201e+07</td>\n      <td>0.521867</td>\n      <td>74.000000</td>\n      <td>19083.000000</td>\n      <td>141.000000</td>\n      <td>4849.000000</td>\n      <td>6.000000</td>\n      <td>23.000000</td>\n      <td>633233.466570</td>\n    </tr>\n  </tbody>\n</table>\n</div>"
     },
     "metadata": {},
     "execution_count": 8
    }
   ],
   "source": [
    "train.describe()"
   ]
  },
  {
   "cell_type": "code",
   "execution_count": 9,
   "metadata": {},
   "outputs": [
    {
     "output_type": "execute_result",
     "data": {
      "text/plain": [
       "       DistrictId  Rooms      Square  LifeSquare  KitchenSquare  Floor  \\\n",
       "Id                                                                       \n",
       "11809          27    3.0  115.027311         NaN           10.0      4   \n",
       "3013           22    1.0   39.832524   23.169223            8.0      7   \n",
       "8215            1    3.0   78.342215   47.671972           10.0      2   \n",
       "2352            1    1.0   40.409907         NaN            1.0     10   \n",
       "13866          94    2.0   64.285067   38.562517            9.0     16   \n",
       "\n",
       "       HouseFloor  HouseYear  Ecology_1  Social_1  ...  Healthcare_1  \\\n",
       "Id                                                 ...                 \n",
       "11809        10.0       2014   0.075424        11  ...           NaN   \n",
       "3013          8.0       1966   0.118537        30  ...        1183.0   \n",
       "8215         17.0       1988   0.025609        33  ...         240.0   \n",
       "2352         22.0       1977   0.007122         1  ...           NaN   \n",
       "13866        16.0       1972   0.282798        33  ...           NaN   \n",
       "\n",
       "       Helthcare_2  Shops_1          Price  Ecology_2_A  Ecology_2_B  \\\n",
       "Id                                                                     \n",
       "11809            0        0  305018.871089            0            1   \n",
       "3013             1        0  177734.553407            0            1   \n",
       "8215             3        1  282078.720850            0            1   \n",
       "2352             0        1  168106.007630            0            1   \n",
       "13866            0        6  343995.102962            0            1   \n",
       "\n",
       "       Ecology_3_A  Ecology_3_B  Shops_2_A  Shops_2_B  \n",
       "Id                                                     \n",
       "11809            0            1          0          1  \n",
       "3013             0            1          0          1  \n",
       "8215             0            1          0          1  \n",
       "2352             0            1          0          1  \n",
       "13866            0            1          0          1  \n",
       "\n",
       "[5 rows x 22 columns]"
      ],
      "text/html": "<div>\n<style scoped>\n    .dataframe tbody tr th:only-of-type {\n        vertical-align: middle;\n    }\n\n    .dataframe tbody tr th {\n        vertical-align: top;\n    }\n\n    .dataframe thead th {\n        text-align: right;\n    }\n</style>\n<table border=\"1\" class=\"dataframe\">\n  <thead>\n    <tr style=\"text-align: right;\">\n      <th></th>\n      <th>DistrictId</th>\n      <th>Rooms</th>\n      <th>Square</th>\n      <th>LifeSquare</th>\n      <th>KitchenSquare</th>\n      <th>Floor</th>\n      <th>HouseFloor</th>\n      <th>HouseYear</th>\n      <th>Ecology_1</th>\n      <th>Social_1</th>\n      <th>...</th>\n      <th>Healthcare_1</th>\n      <th>Helthcare_2</th>\n      <th>Shops_1</th>\n      <th>Price</th>\n      <th>Ecology_2_A</th>\n      <th>Ecology_2_B</th>\n      <th>Ecology_3_A</th>\n      <th>Ecology_3_B</th>\n      <th>Shops_2_A</th>\n      <th>Shops_2_B</th>\n    </tr>\n    <tr>\n      <th>Id</th>\n      <th></th>\n      <th></th>\n      <th></th>\n      <th></th>\n      <th></th>\n      <th></th>\n      <th></th>\n      <th></th>\n      <th></th>\n      <th></th>\n      <th></th>\n      <th></th>\n      <th></th>\n      <th></th>\n      <th></th>\n      <th></th>\n      <th></th>\n      <th></th>\n      <th></th>\n      <th></th>\n      <th></th>\n    </tr>\n  </thead>\n  <tbody>\n    <tr>\n      <th>11809</th>\n      <td>27</td>\n      <td>3.0</td>\n      <td>115.027311</td>\n      <td>NaN</td>\n      <td>10.0</td>\n      <td>4</td>\n      <td>10.0</td>\n      <td>2014</td>\n      <td>0.075424</td>\n      <td>11</td>\n      <td>...</td>\n      <td>NaN</td>\n      <td>0</td>\n      <td>0</td>\n      <td>305018.871089</td>\n      <td>0</td>\n      <td>1</td>\n      <td>0</td>\n      <td>1</td>\n      <td>0</td>\n      <td>1</td>\n    </tr>\n    <tr>\n      <th>3013</th>\n      <td>22</td>\n      <td>1.0</td>\n      <td>39.832524</td>\n      <td>23.169223</td>\n      <td>8.0</td>\n      <td>7</td>\n      <td>8.0</td>\n      <td>1966</td>\n      <td>0.118537</td>\n      <td>30</td>\n      <td>...</td>\n      <td>1183.0</td>\n      <td>1</td>\n      <td>0</td>\n      <td>177734.553407</td>\n      <td>0</td>\n      <td>1</td>\n      <td>0</td>\n      <td>1</td>\n      <td>0</td>\n      <td>1</td>\n    </tr>\n    <tr>\n      <th>8215</th>\n      <td>1</td>\n      <td>3.0</td>\n      <td>78.342215</td>\n      <td>47.671972</td>\n      <td>10.0</td>\n      <td>2</td>\n      <td>17.0</td>\n      <td>1988</td>\n      <td>0.025609</td>\n      <td>33</td>\n      <td>...</td>\n      <td>240.0</td>\n      <td>3</td>\n      <td>1</td>\n      <td>282078.720850</td>\n      <td>0</td>\n      <td>1</td>\n      <td>0</td>\n      <td>1</td>\n      <td>0</td>\n      <td>1</td>\n    </tr>\n    <tr>\n      <th>2352</th>\n      <td>1</td>\n      <td>1.0</td>\n      <td>40.409907</td>\n      <td>NaN</td>\n      <td>1.0</td>\n      <td>10</td>\n      <td>22.0</td>\n      <td>1977</td>\n      <td>0.007122</td>\n      <td>1</td>\n      <td>...</td>\n      <td>NaN</td>\n      <td>0</td>\n      <td>1</td>\n      <td>168106.007630</td>\n      <td>0</td>\n      <td>1</td>\n      <td>0</td>\n      <td>1</td>\n      <td>0</td>\n      <td>1</td>\n    </tr>\n    <tr>\n      <th>13866</th>\n      <td>94</td>\n      <td>2.0</td>\n      <td>64.285067</td>\n      <td>38.562517</td>\n      <td>9.0</td>\n      <td>16</td>\n      <td>16.0</td>\n      <td>1972</td>\n      <td>0.282798</td>\n      <td>33</td>\n      <td>...</td>\n      <td>NaN</td>\n      <td>0</td>\n      <td>6</td>\n      <td>343995.102962</td>\n      <td>0</td>\n      <td>1</td>\n      <td>0</td>\n      <td>1</td>\n      <td>0</td>\n      <td>1</td>\n    </tr>\n  </tbody>\n</table>\n<p>5 rows × 22 columns</p>\n</div>"
     },
     "metadata": {},
     "execution_count": 9
    }
   ],
   "source": [
    "train = pd.get_dummies(train)\n",
    "train.head()"
   ]
  },
  {
   "cell_type": "code",
   "execution_count": 10,
   "metadata": {},
   "outputs": [
    {
     "output_type": "execute_result",
     "data": {
      "text/plain": [
       "Index(['DistrictId', 'Rooms', 'Square', 'LifeSquare', 'KitchenSquare', 'Floor',\n",
       "       'HouseFloor', 'HouseYear', 'Ecology_1', 'Social_1', 'Social_2',\n",
       "       'Social_3', 'Healthcare_1', 'Helthcare_2', 'Shops_1', 'Price',\n",
       "       'Ecology_2_A', 'Ecology_2_B', 'Ecology_3_A', 'Ecology_3_B', 'Shops_2_A',\n",
       "       'Shops_2_B'],\n",
       "      dtype='object')"
      ]
     },
     "metadata": {},
     "execution_count": 10
    }
   ],
   "source": [
    "train.columns"
   ]
  },
  {
   "cell_type": "code",
   "execution_count": 11,
   "metadata": {},
   "outputs": [
    {
     "output_type": "execute_result",
     "data": {
      "text/plain": [
       "2.0     3880\n",
       "1.0     3705\n",
       "3.0     2235\n",
       "4.0      150\n",
       "5.0       18\n",
       "0.0        8\n",
       "10.0       2\n",
       "19.0       1\n",
       "6.0        1\n",
       "Name: Rooms, dtype: int64"
      ]
     },
     "metadata": {},
     "execution_count": 11
    }
   ],
   "source": [
    "train['Rooms'].value_counts()"
   ]
  },
  {
   "cell_type": "code",
   "execution_count": 19,
   "metadata": {},
   "outputs": [
    {
     "output_type": "execute_result",
     "data": {
      "text/plain": [
       "       DistrictId  Rooms      Square  LifeSquare  KitchenSquare  Social_2  \\\n",
       "Id                                                                          \n",
       "5927           57   10.0   59.056975   36.223072           10.0     19083   \n",
       "3159           88    0.0   38.697117   19.345131            9.0      8429   \n",
       "14865           9   10.0   60.871266   38.420681           10.0      5648   \n",
       "7317           27    0.0   41.790881         NaN            0.0      1892   \n",
       "770            28    0.0   49.483501         NaN            0.0      6207   \n",
       "8491            1   19.0   42.006046   21.779288            7.0       264   \n",
       "9443           27    0.0   87.762616   85.125471            0.0      1892   \n",
       "7917           27    0.0  212.932361  211.231125            0.0      1892   \n",
       "456             6    0.0   81.491446         NaN            0.0      1564   \n",
       "12638          27    0.0  138.427694  136.215499            0.0      3097   \n",
       "3224           27    0.0    2.377248    0.873147            0.0       469   \n",
       "\n",
       "               Price  \n",
       "Id                    \n",
       "5927   317265.323792  \n",
       "3159   158998.110646  \n",
       "14865  172329.270863  \n",
       "7317    98129.976788  \n",
       "770    217009.338463  \n",
       "8491    78364.616704  \n",
       "9443   219281.918007  \n",
       "7917   302211.260887  \n",
       "456    212864.799112  \n",
       "12638  268394.744389  \n",
       "3224   126596.941798  "
      ],
      "text/html": "<div>\n<style scoped>\n    .dataframe tbody tr th:only-of-type {\n        vertical-align: middle;\n    }\n\n    .dataframe tbody tr th {\n        vertical-align: top;\n    }\n\n    .dataframe thead th {\n        text-align: right;\n    }\n</style>\n<table border=\"1\" class=\"dataframe\">\n  <thead>\n    <tr style=\"text-align: right;\">\n      <th></th>\n      <th>DistrictId</th>\n      <th>Rooms</th>\n      <th>Square</th>\n      <th>LifeSquare</th>\n      <th>KitchenSquare</th>\n      <th>Social_2</th>\n      <th>Price</th>\n    </tr>\n    <tr>\n      <th>Id</th>\n      <th></th>\n      <th></th>\n      <th></th>\n      <th></th>\n      <th></th>\n      <th></th>\n      <th></th>\n    </tr>\n  </thead>\n  <tbody>\n    <tr>\n      <th>5927</th>\n      <td>57</td>\n      <td>10.0</td>\n      <td>59.056975</td>\n      <td>36.223072</td>\n      <td>10.0</td>\n      <td>19083</td>\n      <td>317265.323792</td>\n    </tr>\n    <tr>\n      <th>3159</th>\n      <td>88</td>\n      <td>0.0</td>\n      <td>38.697117</td>\n      <td>19.345131</td>\n      <td>9.0</td>\n      <td>8429</td>\n      <td>158998.110646</td>\n    </tr>\n    <tr>\n      <th>14865</th>\n      <td>9</td>\n      <td>10.0</td>\n      <td>60.871266</td>\n      <td>38.420681</td>\n      <td>10.0</td>\n      <td>5648</td>\n      <td>172329.270863</td>\n    </tr>\n    <tr>\n      <th>7317</th>\n      <td>27</td>\n      <td>0.0</td>\n      <td>41.790881</td>\n      <td>NaN</td>\n      <td>0.0</td>\n      <td>1892</td>\n      <td>98129.976788</td>\n    </tr>\n    <tr>\n      <th>770</th>\n      <td>28</td>\n      <td>0.0</td>\n      <td>49.483501</td>\n      <td>NaN</td>\n      <td>0.0</td>\n      <td>6207</td>\n      <td>217009.338463</td>\n    </tr>\n    <tr>\n      <th>8491</th>\n      <td>1</td>\n      <td>19.0</td>\n      <td>42.006046</td>\n      <td>21.779288</td>\n      <td>7.0</td>\n      <td>264</td>\n      <td>78364.616704</td>\n    </tr>\n    <tr>\n      <th>9443</th>\n      <td>27</td>\n      <td>0.0</td>\n      <td>87.762616</td>\n      <td>85.125471</td>\n      <td>0.0</td>\n      <td>1892</td>\n      <td>219281.918007</td>\n    </tr>\n    <tr>\n      <th>7917</th>\n      <td>27</td>\n      <td>0.0</td>\n      <td>212.932361</td>\n      <td>211.231125</td>\n      <td>0.0</td>\n      <td>1892</td>\n      <td>302211.260887</td>\n    </tr>\n    <tr>\n      <th>456</th>\n      <td>6</td>\n      <td>0.0</td>\n      <td>81.491446</td>\n      <td>NaN</td>\n      <td>0.0</td>\n      <td>1564</td>\n      <td>212864.799112</td>\n    </tr>\n    <tr>\n      <th>12638</th>\n      <td>27</td>\n      <td>0.0</td>\n      <td>138.427694</td>\n      <td>136.215499</td>\n      <td>0.0</td>\n      <td>3097</td>\n      <td>268394.744389</td>\n    </tr>\n    <tr>\n      <th>3224</th>\n      <td>27</td>\n      <td>0.0</td>\n      <td>2.377248</td>\n      <td>0.873147</td>\n      <td>0.0</td>\n      <td>469</td>\n      <td>126596.941798</td>\n    </tr>\n  </tbody>\n</table>\n</div>"
     },
     "metadata": {},
     "execution_count": 19
    }
   ],
   "source": [
    "train.loc[(train['Rooms'] < 1) | (train['Rooms'] > 9), ['DistrictId','Rooms','Square','LifeSquare','KitchenSquare','Social_2',target_name]]"
   ]
  },
  {
   "cell_type": "code",
   "execution_count": 23,
   "metadata": {},
   "outputs": [
    {
     "output_type": "execute_result",
     "data": {
      "text/plain": [
       "DistrictId\n",
       "0      48.998792\n",
       "1      60.139271\n",
       "2      47.362676\n",
       "3      47.202193\n",
       "4      53.179791\n",
       "         ...    \n",
       "202    68.245487\n",
       "205    43.226985\n",
       "207    76.780960\n",
       "208    53.860839\n",
       "209    33.533077\n",
       "Name: Square, Length: 205, dtype: float64"
      ]
     },
     "metadata": {},
     "execution_count": 23
    }
   ],
   "source": [
    "train.groupby('DistrictId')['Square'].median()"
   ]
  },
  {
   "cell_type": "code",
   "execution_count": 24,
   "metadata": {},
   "outputs": [
    {
     "output_type": "execute_result",
     "data": {
      "text/plain": [
       "DistrictId\n",
       "0      165963.054142\n",
       "1      183663.443595\n",
       "2      208539.501373\n",
       "3      169094.013281\n",
       "4      278639.482329\n",
       "           ...      \n",
       "202    394150.861857\n",
       "205    220501.566180\n",
       "207    426186.409334\n",
       "208    431137.654083\n",
       "209    140048.802277\n",
       "Name: Price, Length: 205, dtype: float64"
      ]
     },
     "metadata": {},
     "execution_count": 24
    }
   ],
   "source": [
    "train.groupby('DistrictId')['Price'].median()"
   ]
  },
  {
   "cell_type": "code",
   "execution_count": 29,
   "metadata": {},
   "outputs": [
    {
     "output_type": "execute_result",
     "data": {
      "text/plain": [
       "<function matplotlib.pyplot.show(*args, **kw)>"
      ]
     },
     "metadata": {},
     "execution_count": 29
    },
    {
     "output_type": "display_data",
     "data": {
      "text/plain": "<Figure size 432x288 with 1 Axes>",
      "image/svg+xml": "<?xml version=\"1.0\" encoding=\"utf-8\" standalone=\"no\"?>\r\n<!DOCTYPE svg PUBLIC \"-//W3C//DTD SVG 1.1//EN\"\r\n  \"http://www.w3.org/Graphics/SVG/1.1/DTD/svg11.dtd\">\r\n<!-- Created with matplotlib (https://matplotlib.org/) -->\r\n<svg height=\"248.518125pt\" version=\"1.1\" viewBox=\"0 0 375.2875 248.518125\" width=\"375.2875pt\" xmlns=\"http://www.w3.org/2000/svg\" xmlns:xlink=\"http://www.w3.org/1999/xlink\">\r\n <defs>\r\n  <style type=\"text/css\">\r\n*{stroke-linecap:butt;stroke-linejoin:round;}\r\n  </style>\r\n </defs>\r\n <g id=\"figure_1\">\r\n  <g id=\"patch_1\">\r\n   <path d=\"M 0 248.518125 \r\nL 375.2875 248.518125 \r\nL 375.2875 0 \r\nL 0 0 \r\nz\r\n\" style=\"fill:none;\"/>\r\n  </g>\r\n  <g id=\"axes_1\">\r\n   <g id=\"patch_2\">\r\n    <path d=\"M 33.2875 224.64 \r\nL 368.0875 224.64 \r\nL 368.0875 7.2 \r\nL 33.2875 7.2 \r\nz\r\n\" style=\"fill:#ffffff;\"/>\r\n   </g>\r\n   <g id=\"matplotlib.axis_1\">\r\n    <g id=\"xtick_1\">\r\n     <g id=\"line2d_1\">\r\n      <defs>\r\n       <path d=\"M 0 0 \r\nL 0 3.5 \r\n\" id=\"m5e0b565aef\" style=\"stroke:#000000;stroke-width:0.8;\"/>\r\n      </defs>\r\n      <g>\r\n       <use style=\"stroke:#000000;stroke-width:0.8;\" x=\"200.6875\" xlink:href=\"#m5e0b565aef\" y=\"224.64\"/>\r\n      </g>\r\n     </g>\r\n     <g id=\"text_1\">\r\n      <!-- 1 -->\r\n      <defs>\r\n       <path d=\"M 12.40625 8.296875 \r\nL 28.515625 8.296875 \r\nL 28.515625 63.921875 \r\nL 10.984375 60.40625 \r\nL 10.984375 69.390625 \r\nL 28.421875 72.90625 \r\nL 38.28125 72.90625 \r\nL 38.28125 8.296875 \r\nL 54.390625 8.296875 \r\nL 54.390625 0 \r\nL 12.40625 0 \r\nz\r\n\" id=\"DejaVuSans-49\"/>\r\n      </defs>\r\n      <g transform=\"translate(197.50625 239.238437)scale(0.1 -0.1)\">\r\n       <use xlink:href=\"#DejaVuSans-49\"/>\r\n      </g>\r\n     </g>\r\n    </g>\r\n   </g>\r\n   <g id=\"matplotlib.axis_2\">\r\n    <g id=\"ytick_1\">\r\n     <g id=\"line2d_2\">\r\n      <defs>\r\n       <path d=\"M 0 0 \r\nL -3.5 0 \r\n\" id=\"m9eafdbe09f\" style=\"stroke:#000000;stroke-width:0.8;\"/>\r\n      </defs>\r\n      <g>\r\n       <use style=\"stroke:#000000;stroke-width:0.8;\" x=\"33.2875\" xlink:href=\"#m9eafdbe09f\" y=\"215.107537\"/>\r\n      </g>\r\n     </g>\r\n     <g id=\"text_2\">\r\n      <!-- 0 -->\r\n      <defs>\r\n       <path d=\"M 31.78125 66.40625 \r\nQ 24.171875 66.40625 20.328125 58.90625 \r\nQ 16.5 51.421875 16.5 36.375 \r\nQ 16.5 21.390625 20.328125 13.890625 \r\nQ 24.171875 6.390625 31.78125 6.390625 \r\nQ 39.453125 6.390625 43.28125 13.890625 \r\nQ 47.125 21.390625 47.125 36.375 \r\nQ 47.125 51.421875 43.28125 58.90625 \r\nQ 39.453125 66.40625 31.78125 66.40625 \r\nz\r\nM 31.78125 74.21875 \r\nQ 44.046875 74.21875 50.515625 64.515625 \r\nQ 56.984375 54.828125 56.984375 36.375 \r\nQ 56.984375 17.96875 50.515625 8.265625 \r\nQ 44.046875 -1.421875 31.78125 -1.421875 \r\nQ 19.53125 -1.421875 13.0625 8.265625 \r\nQ 6.59375 17.96875 6.59375 36.375 \r\nQ 6.59375 54.828125 13.0625 64.515625 \r\nQ 19.53125 74.21875 31.78125 74.21875 \r\nz\r\n\" id=\"DejaVuSans-48\"/>\r\n      </defs>\r\n      <g transform=\"translate(19.925 218.906756)scale(0.1 -0.1)\">\r\n       <use xlink:href=\"#DejaVuSans-48\"/>\r\n      </g>\r\n     </g>\r\n    </g>\r\n    <g id=\"ytick_2\">\r\n     <g id=\"line2d_3\">\r\n      <g>\r\n       <use style=\"stroke:#000000;stroke-width:0.8;\" x=\"33.2875\" xlink:href=\"#m9eafdbe09f\" y=\"184.217715\"/>\r\n      </g>\r\n     </g>\r\n     <g id=\"text_3\">\r\n      <!-- 100 -->\r\n      <g transform=\"translate(7.2 188.016933)scale(0.1 -0.1)\">\r\n       <use xlink:href=\"#DejaVuSans-49\"/>\r\n       <use x=\"63.623047\" xlink:href=\"#DejaVuSans-48\"/>\r\n       <use x=\"127.246094\" xlink:href=\"#DejaVuSans-48\"/>\r\n      </g>\r\n     </g>\r\n    </g>\r\n    <g id=\"ytick_3\">\r\n     <g id=\"line2d_4\">\r\n      <g>\r\n       <use style=\"stroke:#000000;stroke-width:0.8;\" x=\"33.2875\" xlink:href=\"#m9eafdbe09f\" y=\"153.327892\"/>\r\n      </g>\r\n     </g>\r\n     <g id=\"text_4\">\r\n      <!-- 200 -->\r\n      <defs>\r\n       <path d=\"M 19.1875 8.296875 \r\nL 53.609375 8.296875 \r\nL 53.609375 0 \r\nL 7.328125 0 \r\nL 7.328125 8.296875 \r\nQ 12.9375 14.109375 22.625 23.890625 \r\nQ 32.328125 33.6875 34.8125 36.53125 \r\nQ 39.546875 41.84375 41.421875 45.53125 \r\nQ 43.3125 49.21875 43.3125 52.78125 \r\nQ 43.3125 58.59375 39.234375 62.25 \r\nQ 35.15625 65.921875 28.609375 65.921875 \r\nQ 23.96875 65.921875 18.8125 64.3125 \r\nQ 13.671875 62.703125 7.8125 59.421875 \r\nL 7.8125 69.390625 \r\nQ 13.765625 71.78125 18.9375 73 \r\nQ 24.125 74.21875 28.421875 74.21875 \r\nQ 39.75 74.21875 46.484375 68.546875 \r\nQ 53.21875 62.890625 53.21875 53.421875 \r\nQ 53.21875 48.921875 51.53125 44.890625 \r\nQ 49.859375 40.875 45.40625 35.40625 \r\nQ 44.1875 33.984375 37.640625 27.21875 \r\nQ 31.109375 20.453125 19.1875 8.296875 \r\nz\r\n\" id=\"DejaVuSans-50\"/>\r\n      </defs>\r\n      <g transform=\"translate(7.2 157.127111)scale(0.1 -0.1)\">\r\n       <use xlink:href=\"#DejaVuSans-50\"/>\r\n       <use x=\"63.623047\" xlink:href=\"#DejaVuSans-48\"/>\r\n       <use x=\"127.246094\" xlink:href=\"#DejaVuSans-48\"/>\r\n      </g>\r\n     </g>\r\n    </g>\r\n    <g id=\"ytick_4\">\r\n     <g id=\"line2d_5\">\r\n      <g>\r\n       <use style=\"stroke:#000000;stroke-width:0.8;\" x=\"33.2875\" xlink:href=\"#m9eafdbe09f\" y=\"122.438069\"/>\r\n      </g>\r\n     </g>\r\n     <g id=\"text_5\">\r\n      <!-- 300 -->\r\n      <defs>\r\n       <path d=\"M 40.578125 39.3125 \r\nQ 47.65625 37.796875 51.625 33 \r\nQ 55.609375 28.21875 55.609375 21.1875 \r\nQ 55.609375 10.40625 48.1875 4.484375 \r\nQ 40.765625 -1.421875 27.09375 -1.421875 \r\nQ 22.515625 -1.421875 17.65625 -0.515625 \r\nQ 12.796875 0.390625 7.625 2.203125 \r\nL 7.625 11.71875 \r\nQ 11.71875 9.328125 16.59375 8.109375 \r\nQ 21.484375 6.890625 26.8125 6.890625 \r\nQ 36.078125 6.890625 40.9375 10.546875 \r\nQ 45.796875 14.203125 45.796875 21.1875 \r\nQ 45.796875 27.640625 41.28125 31.265625 \r\nQ 36.765625 34.90625 28.71875 34.90625 \r\nL 20.21875 34.90625 \r\nL 20.21875 43.015625 \r\nL 29.109375 43.015625 \r\nQ 36.375 43.015625 40.234375 45.921875 \r\nQ 44.09375 48.828125 44.09375 54.296875 \r\nQ 44.09375 59.90625 40.109375 62.90625 \r\nQ 36.140625 65.921875 28.71875 65.921875 \r\nQ 24.65625 65.921875 20.015625 65.03125 \r\nQ 15.375 64.15625 9.8125 62.3125 \r\nL 9.8125 71.09375 \r\nQ 15.4375 72.65625 20.34375 73.4375 \r\nQ 25.25 74.21875 29.59375 74.21875 \r\nQ 40.828125 74.21875 47.359375 69.109375 \r\nQ 53.90625 64.015625 53.90625 55.328125 \r\nQ 53.90625 49.265625 50.4375 45.09375 \r\nQ 46.96875 40.921875 40.578125 39.3125 \r\nz\r\n\" id=\"DejaVuSans-51\"/>\r\n      </defs>\r\n      <g transform=\"translate(7.2 126.237288)scale(0.1 -0.1)\">\r\n       <use xlink:href=\"#DejaVuSans-51\"/>\r\n       <use x=\"63.623047\" xlink:href=\"#DejaVuSans-48\"/>\r\n       <use x=\"127.246094\" xlink:href=\"#DejaVuSans-48\"/>\r\n      </g>\r\n     </g>\r\n    </g>\r\n    <g id=\"ytick_5\">\r\n     <g id=\"line2d_6\">\r\n      <g>\r\n       <use style=\"stroke:#000000;stroke-width:0.8;\" x=\"33.2875\" xlink:href=\"#m9eafdbe09f\" y=\"91.548247\"/>\r\n      </g>\r\n     </g>\r\n     <g id=\"text_6\">\r\n      <!-- 400 -->\r\n      <defs>\r\n       <path d=\"M 37.796875 64.3125 \r\nL 12.890625 25.390625 \r\nL 37.796875 25.390625 \r\nz\r\nM 35.203125 72.90625 \r\nL 47.609375 72.90625 \r\nL 47.609375 25.390625 \r\nL 58.015625 25.390625 \r\nL 58.015625 17.1875 \r\nL 47.609375 17.1875 \r\nL 47.609375 0 \r\nL 37.796875 0 \r\nL 37.796875 17.1875 \r\nL 4.890625 17.1875 \r\nL 4.890625 26.703125 \r\nz\r\n\" id=\"DejaVuSans-52\"/>\r\n      </defs>\r\n      <g transform=\"translate(7.2 95.347466)scale(0.1 -0.1)\">\r\n       <use xlink:href=\"#DejaVuSans-52\"/>\r\n       <use x=\"63.623047\" xlink:href=\"#DejaVuSans-48\"/>\r\n       <use x=\"127.246094\" xlink:href=\"#DejaVuSans-48\"/>\r\n      </g>\r\n     </g>\r\n    </g>\r\n    <g id=\"ytick_6\">\r\n     <g id=\"line2d_7\">\r\n      <g>\r\n       <use style=\"stroke:#000000;stroke-width:0.8;\" x=\"33.2875\" xlink:href=\"#m9eafdbe09f\" y=\"60.658424\"/>\r\n      </g>\r\n     </g>\r\n     <g id=\"text_7\">\r\n      <!-- 500 -->\r\n      <defs>\r\n       <path d=\"M 10.796875 72.90625 \r\nL 49.515625 72.90625 \r\nL 49.515625 64.59375 \r\nL 19.828125 64.59375 \r\nL 19.828125 46.734375 \r\nQ 21.96875 47.46875 24.109375 47.828125 \r\nQ 26.265625 48.1875 28.421875 48.1875 \r\nQ 40.625 48.1875 47.75 41.5 \r\nQ 54.890625 34.8125 54.890625 23.390625 \r\nQ 54.890625 11.625 47.5625 5.09375 \r\nQ 40.234375 -1.421875 26.90625 -1.421875 \r\nQ 22.3125 -1.421875 17.546875 -0.640625 \r\nQ 12.796875 0.140625 7.71875 1.703125 \r\nL 7.71875 11.625 \r\nQ 12.109375 9.234375 16.796875 8.0625 \r\nQ 21.484375 6.890625 26.703125 6.890625 \r\nQ 35.15625 6.890625 40.078125 11.328125 \r\nQ 45.015625 15.765625 45.015625 23.390625 \r\nQ 45.015625 31 40.078125 35.4375 \r\nQ 35.15625 39.890625 26.703125 39.890625 \r\nQ 22.75 39.890625 18.8125 39.015625 \r\nQ 14.890625 38.140625 10.796875 36.28125 \r\nz\r\n\" id=\"DejaVuSans-53\"/>\r\n      </defs>\r\n      <g transform=\"translate(7.2 64.457643)scale(0.1 -0.1)\">\r\n       <use xlink:href=\"#DejaVuSans-53\"/>\r\n       <use x=\"63.623047\" xlink:href=\"#DejaVuSans-48\"/>\r\n       <use x=\"127.246094\" xlink:href=\"#DejaVuSans-48\"/>\r\n      </g>\r\n     </g>\r\n    </g>\r\n    <g id=\"ytick_7\">\r\n     <g id=\"line2d_8\">\r\n      <g>\r\n       <use style=\"stroke:#000000;stroke-width:0.8;\" x=\"33.2875\" xlink:href=\"#m9eafdbe09f\" y=\"29.768602\"/>\r\n      </g>\r\n     </g>\r\n     <g id=\"text_8\">\r\n      <!-- 600 -->\r\n      <defs>\r\n       <path d=\"M 33.015625 40.375 \r\nQ 26.375 40.375 22.484375 35.828125 \r\nQ 18.609375 31.296875 18.609375 23.390625 \r\nQ 18.609375 15.53125 22.484375 10.953125 \r\nQ 26.375 6.390625 33.015625 6.390625 \r\nQ 39.65625 6.390625 43.53125 10.953125 \r\nQ 47.40625 15.53125 47.40625 23.390625 \r\nQ 47.40625 31.296875 43.53125 35.828125 \r\nQ 39.65625 40.375 33.015625 40.375 \r\nz\r\nM 52.59375 71.296875 \r\nL 52.59375 62.3125 \r\nQ 48.875 64.0625 45.09375 64.984375 \r\nQ 41.3125 65.921875 37.59375 65.921875 \r\nQ 27.828125 65.921875 22.671875 59.328125 \r\nQ 17.53125 52.734375 16.796875 39.40625 \r\nQ 19.671875 43.65625 24.015625 45.921875 \r\nQ 28.375 48.1875 33.59375 48.1875 \r\nQ 44.578125 48.1875 50.953125 41.515625 \r\nQ 57.328125 34.859375 57.328125 23.390625 \r\nQ 57.328125 12.15625 50.6875 5.359375 \r\nQ 44.046875 -1.421875 33.015625 -1.421875 \r\nQ 20.359375 -1.421875 13.671875 8.265625 \r\nQ 6.984375 17.96875 6.984375 36.375 \r\nQ 6.984375 53.65625 15.1875 63.9375 \r\nQ 23.390625 74.21875 37.203125 74.21875 \r\nQ 40.921875 74.21875 44.703125 73.484375 \r\nQ 48.484375 72.75 52.59375 71.296875 \r\nz\r\n\" id=\"DejaVuSans-54\"/>\r\n      </defs>\r\n      <g transform=\"translate(7.2 33.56782)scale(0.1 -0.1)\">\r\n       <use xlink:href=\"#DejaVuSans-54\"/>\r\n       <use x=\"63.623047\" xlink:href=\"#DejaVuSans-48\"/>\r\n       <use x=\"127.246094\" xlink:href=\"#DejaVuSans-48\"/>\r\n      </g>\r\n     </g>\r\n    </g>\r\n   </g>\r\n   <g id=\"line2d_9\">\r\n    <path clip-path=\"url(#p1c4da0fe2d)\" d=\"M 175.5775 202.203351 \r\nL 225.7975 202.203351 \r\nL 225.7975 194.750951 \r\nL 175.5775 194.750951 \r\nL 175.5775 202.203351 \r\n\" style=\"fill:none;stroke:#000000;stroke-linecap:square;\"/>\r\n   </g>\r\n   <g id=\"line2d_10\">\r\n    <path clip-path=\"url(#p1c4da0fe2d)\" d=\"M 200.6875 202.203351 \r\nL 200.6875 210.849417 \r\n\" style=\"fill:none;stroke:#000000;stroke-linecap:square;\"/>\r\n   </g>\r\n   <g id=\"line2d_11\">\r\n    <path clip-path=\"url(#p1c4da0fe2d)\" d=\"M 200.6875 194.750951 \r\nL 200.6875 183.582321 \r\n\" style=\"fill:none;stroke:#000000;stroke-linecap:square;\"/>\r\n   </g>\r\n   <g id=\"line2d_12\">\r\n    <path clip-path=\"url(#p1c4da0fe2d)\" d=\"M 188.1325 210.849417 \r\nL 213.2425 210.849417 \r\n\" style=\"fill:none;stroke:#000000;stroke-linecap:square;\"/>\r\n   </g>\r\n   <g id=\"line2d_13\">\r\n    <path clip-path=\"url(#p1c4da0fe2d)\" d=\"M 188.1325 183.582321 \r\nL 213.2425 183.582321 \r\n\" style=\"fill:none;stroke:#000000;stroke-linecap:square;\"/>\r\n   </g>\r\n   <g id=\"line2d_14\">\r\n    <defs>\r\n     <path d=\"M 0 3 \r\nC 0.795609 3 1.55874 2.683901 2.12132 2.12132 \r\nC 2.683901 1.55874 3 0.795609 3 0 \r\nC 3 -0.795609 2.683901 -1.55874 2.12132 -2.12132 \r\nC 1.55874 -2.683901 0.795609 -3 0 -3 \r\nC -0.795609 -3 -1.55874 -2.683901 -2.12132 -2.12132 \r\nC -2.683901 -1.55874 -3 -0.795609 -3 0 \r\nC -3 0.795609 -2.683901 1.55874 -2.12132 2.12132 \r\nC -1.55874 2.683901 -0.795609 3 0 3 \r\nz\r\n\" id=\"m88ef099354\" style=\"stroke:#000000;\"/>\r\n    </defs>\r\n    <g clip-path=\"url(#p1c4da0fe2d)\">\r\n     <use style=\"fill-opacity:0;stroke:#000000;\" x=\"200.6875\" xlink:href=\"#m88ef099354\" y=\"214.194957\"/>\r\n     <use style=\"fill-opacity:0;stroke:#000000;\" x=\"200.6875\" xlink:href=\"#m88ef099354\" y=\"213.751372\"/>\r\n     <use style=\"fill-opacity:0;stroke:#000000;\" x=\"200.6875\" xlink:href=\"#m88ef099354\" y=\"213.52313\"/>\r\n     <use style=\"fill-opacity:0;stroke:#000000;\" x=\"200.6875\" xlink:href=\"#m88ef099354\" y=\"214.493156\"/>\r\n     <use style=\"fill-opacity:0;stroke:#000000;\" x=\"200.6875\" xlink:href=\"#m88ef099354\" y=\"213.716635\"/>\r\n     <use style=\"fill-opacity:0;stroke:#000000;\" x=\"200.6875\" xlink:href=\"#m88ef099354\" y=\"213.676258\"/>\r\n     <use style=\"fill-opacity:0;stroke:#000000;\" x=\"200.6875\" xlink:href=\"#m88ef099354\" y=\"213.409505\"/>\r\n     <use style=\"fill-opacity:0;stroke:#000000;\" x=\"200.6875\" xlink:href=\"#m88ef099354\" y=\"214.756364\"/>\r\n     <use style=\"fill-opacity:0;stroke:#000000;\" x=\"200.6875\" xlink:href=\"#m88ef099354\" y=\"214.305529\"/>\r\n     <use style=\"fill-opacity:0;stroke:#000000;\" x=\"200.6875\" xlink:href=\"#m88ef099354\" y=\"213.754339\"/>\r\n     <use style=\"fill-opacity:0;stroke:#000000;\" x=\"200.6875\" xlink:href=\"#m88ef099354\" y=\"213.617511\"/>\r\n     <use style=\"fill-opacity:0;stroke:#000000;\" x=\"200.6875\" xlink:href=\"#m88ef099354\" y=\"214.37321\"/>\r\n     <use style=\"fill-opacity:0;stroke:#000000;\" x=\"200.6875\" xlink:href=\"#m88ef099354\" y=\"179.575805\"/>\r\n     <use style=\"fill-opacity:0;stroke:#000000;\" x=\"200.6875\" xlink:href=\"#m88ef099354\" y=\"182.744572\"/>\r\n     <use style=\"fill-opacity:0;stroke:#000000;\" x=\"200.6875\" xlink:href=\"#m88ef099354\" y=\"182.525182\"/>\r\n     <use style=\"fill-opacity:0;stroke:#000000;\" x=\"200.6875\" xlink:href=\"#m88ef099354\" y=\"183.43859\"/>\r\n     <use style=\"fill-opacity:0;stroke:#000000;\" x=\"200.6875\" xlink:href=\"#m88ef099354\" y=\"178.06601\"/>\r\n     <use style=\"fill-opacity:0;stroke:#000000;\" x=\"200.6875\" xlink:href=\"#m88ef099354\" y=\"181.890222\"/>\r\n     <use style=\"fill-opacity:0;stroke:#000000;\" x=\"200.6875\" xlink:href=\"#m88ef099354\" y=\"179.107606\"/>\r\n     <use style=\"fill-opacity:0;stroke:#000000;\" x=\"200.6875\" xlink:href=\"#m88ef099354\" y=\"176.980207\"/>\r\n     <use style=\"fill-opacity:0;stroke:#000000;\" x=\"200.6875\" xlink:href=\"#m88ef099354\" y=\"181.392997\"/>\r\n     <use style=\"fill-opacity:0;stroke:#000000;\" x=\"200.6875\" xlink:href=\"#m88ef099354\" y=\"177.470141\"/>\r\n     <use style=\"fill-opacity:0;stroke:#000000;\" x=\"200.6875\" xlink:href=\"#m88ef099354\" y=\"158.461079\"/>\r\n     <use style=\"fill-opacity:0;stroke:#000000;\" x=\"200.6875\" xlink:href=\"#m88ef099354\" y=\"177.801522\"/>\r\n     <use style=\"fill-opacity:0;stroke:#000000;\" x=\"200.6875\" xlink:href=\"#m88ef099354\" y=\"180.469073\"/>\r\n     <use style=\"fill-opacity:0;stroke:#000000;\" x=\"200.6875\" xlink:href=\"#m88ef099354\" y=\"176.515866\"/>\r\n     <use style=\"fill-opacity:0;stroke:#000000;\" x=\"200.6875\" xlink:href=\"#m88ef099354\" y=\"182.128723\"/>\r\n     <use style=\"fill-opacity:0;stroke:#000000;\" x=\"200.6875\" xlink:href=\"#m88ef099354\" y=\"182.490304\"/>\r\n     <use style=\"fill-opacity:0;stroke:#000000;\" x=\"200.6875\" xlink:href=\"#m88ef099354\" y=\"172.172228\"/>\r\n     <use style=\"fill-opacity:0;stroke:#000000;\" x=\"200.6875\" xlink:href=\"#m88ef099354\" y=\"177.17385\"/>\r\n     <use style=\"fill-opacity:0;stroke:#000000;\" x=\"200.6875\" xlink:href=\"#m88ef099354\" y=\"28.314935\"/>\r\n     <use style=\"fill-opacity:0;stroke:#000000;\" x=\"200.6875\" xlink:href=\"#m88ef099354\" y=\"166.722777\"/>\r\n     <use style=\"fill-opacity:0;stroke:#000000;\" x=\"200.6875\" xlink:href=\"#m88ef099354\" y=\"178.851922\"/>\r\n     <use style=\"fill-opacity:0;stroke:#000000;\" x=\"200.6875\" xlink:href=\"#m88ef099354\" y=\"182.422614\"/>\r\n     <use style=\"fill-opacity:0;stroke:#000000;\" x=\"200.6875\" xlink:href=\"#m88ef099354\" y=\"182.823998\"/>\r\n     <use style=\"fill-opacity:0;stroke:#000000;\" x=\"200.6875\" xlink:href=\"#m88ef099354\" y=\"183.079873\"/>\r\n     <use style=\"fill-opacity:0;stroke:#000000;\" x=\"200.6875\" xlink:href=\"#m88ef099354\" y=\"181.221734\"/>\r\n     <use style=\"fill-opacity:0;stroke:#000000;\" x=\"200.6875\" xlink:href=\"#m88ef099354\" y=\"181.065727\"/>\r\n     <use style=\"fill-opacity:0;stroke:#000000;\" x=\"200.6875\" xlink:href=\"#m88ef099354\" y=\"176.150978\"/>\r\n     <use style=\"fill-opacity:0;stroke:#000000;\" x=\"200.6875\" xlink:href=\"#m88ef099354\" y=\"181.10548\"/>\r\n     <use style=\"fill-opacity:0;stroke:#000000;\" x=\"200.6875\" xlink:href=\"#m88ef099354\" y=\"182.205487\"/>\r\n     <use style=\"fill-opacity:0;stroke:#000000;\" x=\"200.6875\" xlink:href=\"#m88ef099354\" y=\"178.702037\"/>\r\n     <use style=\"fill-opacity:0;stroke:#000000;\" x=\"200.6875\" xlink:href=\"#m88ef099354\" y=\"178.697539\"/>\r\n     <use style=\"fill-opacity:0;stroke:#000000;\" x=\"200.6875\" xlink:href=\"#m88ef099354\" y=\"183.180705\"/>\r\n     <use style=\"fill-opacity:0;stroke:#000000;\" x=\"200.6875\" xlink:href=\"#m88ef099354\" y=\"177.425644\"/>\r\n     <use style=\"fill-opacity:0;stroke:#000000;\" x=\"200.6875\" xlink:href=\"#m88ef099354\" y=\"182.290307\"/>\r\n     <use style=\"fill-opacity:0;stroke:#000000;\" x=\"200.6875\" xlink:href=\"#m88ef099354\" y=\"183.031975\"/>\r\n     <use style=\"fill-opacity:0;stroke:#000000;\" x=\"200.6875\" xlink:href=\"#m88ef099354\" y=\"174.951152\"/>\r\n     <use style=\"fill-opacity:0;stroke:#000000;\" x=\"200.6875\" xlink:href=\"#m88ef099354\" y=\"181.517727\"/>\r\n     <use style=\"fill-opacity:0;stroke:#000000;\" x=\"200.6875\" xlink:href=\"#m88ef099354\" y=\"172.955563\"/>\r\n     <use style=\"fill-opacity:0;stroke:#000000;\" x=\"200.6875\" xlink:href=\"#m88ef099354\" y=\"182.539724\"/>\r\n     <use style=\"fill-opacity:0;stroke:#000000;\" x=\"200.6875\" xlink:href=\"#m88ef099354\" y=\"181.005165\"/>\r\n     <use style=\"fill-opacity:0;stroke:#000000;\" x=\"200.6875\" xlink:href=\"#m88ef099354\" y=\"162.867533\"/>\r\n     <use style=\"fill-opacity:0;stroke:#000000;\" x=\"200.6875\" xlink:href=\"#m88ef099354\" y=\"182.976078\"/>\r\n     <use style=\"fill-opacity:0;stroke:#000000;\" x=\"200.6875\" xlink:href=\"#m88ef099354\" y=\"177.552487\"/>\r\n     <use style=\"fill-opacity:0;stroke:#000000;\" x=\"200.6875\" xlink:href=\"#m88ef099354\" y=\"183.061147\"/>\r\n     <use style=\"fill-opacity:0;stroke:#000000;\" x=\"200.6875\" xlink:href=\"#m88ef099354\" y=\"156.151936\"/>\r\n     <use style=\"fill-opacity:0;stroke:#000000;\" x=\"200.6875\" xlink:href=\"#m88ef099354\" y=\"172.176609\"/>\r\n     <use style=\"fill-opacity:0;stroke:#000000;\" x=\"200.6875\" xlink:href=\"#m88ef099354\" y=\"177.460562\"/>\r\n     <use style=\"fill-opacity:0;stroke:#000000;\" x=\"200.6875\" xlink:href=\"#m88ef099354\" y=\"178.873768\"/>\r\n     <use style=\"fill-opacity:0;stroke:#000000;\" x=\"200.6875\" xlink:href=\"#m88ef099354\" y=\"177.267429\"/>\r\n     <use style=\"fill-opacity:0;stroke:#000000;\" x=\"200.6875\" xlink:href=\"#m88ef099354\" y=\"153.224553\"/>\r\n     <use style=\"fill-opacity:0;stroke:#000000;\" x=\"200.6875\" xlink:href=\"#m88ef099354\" y=\"182.068132\"/>\r\n     <use style=\"fill-opacity:0;stroke:#000000;\" x=\"200.6875\" xlink:href=\"#m88ef099354\" y=\"174.063691\"/>\r\n     <use style=\"fill-opacity:0;stroke:#000000;\" x=\"200.6875\" xlink:href=\"#m88ef099354\" y=\"129.961198\"/>\r\n     <use style=\"fill-opacity:0;stroke:#000000;\" x=\"200.6875\" xlink:href=\"#m88ef099354\" y=\"177.772699\"/>\r\n     <use style=\"fill-opacity:0;stroke:#000000;\" x=\"200.6875\" xlink:href=\"#m88ef099354\" y=\"177.509148\"/>\r\n     <use style=\"fill-opacity:0;stroke:#000000;\" x=\"200.6875\" xlink:href=\"#m88ef099354\" y=\"175.728702\"/>\r\n     <use style=\"fill-opacity:0;stroke:#000000;\" x=\"200.6875\" xlink:href=\"#m88ef099354\" y=\"176.489894\"/>\r\n     <use style=\"fill-opacity:0;stroke:#000000;\" x=\"200.6875\" xlink:href=\"#m88ef099354\" y=\"168.417367\"/>\r\n     <use style=\"fill-opacity:0;stroke:#000000;\" x=\"200.6875\" xlink:href=\"#m88ef099354\" y=\"183.43673\"/>\r\n     <use style=\"fill-opacity:0;stroke:#000000;\" x=\"200.6875\" xlink:href=\"#m88ef099354\" y=\"176.97196\"/>\r\n     <use style=\"fill-opacity:0;stroke:#000000;\" x=\"200.6875\" xlink:href=\"#m88ef099354\" y=\"182.655923\"/>\r\n     <use style=\"fill-opacity:0;stroke:#000000;\" x=\"200.6875\" xlink:href=\"#m88ef099354\" y=\"177.286611\"/>\r\n     <use style=\"fill-opacity:0;stroke:#000000;\" x=\"200.6875\" xlink:href=\"#m88ef099354\" y=\"172.14897\"/>\r\n     <use style=\"fill-opacity:0;stroke:#000000;\" x=\"200.6875\" xlink:href=\"#m88ef099354\" y=\"173.723536\"/>\r\n     <use style=\"fill-opacity:0;stroke:#000000;\" x=\"200.6875\" xlink:href=\"#m88ef099354\" y=\"182.481846\"/>\r\n     <use style=\"fill-opacity:0;stroke:#000000;\" x=\"200.6875\" xlink:href=\"#m88ef099354\" y=\"174.186337\"/>\r\n     <use style=\"fill-opacity:0;stroke:#000000;\" x=\"200.6875\" xlink:href=\"#m88ef099354\" y=\"173.186631\"/>\r\n     <use style=\"fill-opacity:0;stroke:#000000;\" x=\"200.6875\" xlink:href=\"#m88ef099354\" y=\"176.521691\"/>\r\n     <use style=\"fill-opacity:0;stroke:#000000;\" x=\"200.6875\" xlink:href=\"#m88ef099354\" y=\"183.38874\"/>\r\n     <use style=\"fill-opacity:0;stroke:#000000;\" x=\"200.6875\" xlink:href=\"#m88ef099354\" y=\"183.23036\"/>\r\n     <use style=\"fill-opacity:0;stroke:#000000;\" x=\"200.6875\" xlink:href=\"#m88ef099354\" y=\"179.408228\"/>\r\n     <use style=\"fill-opacity:0;stroke:#000000;\" x=\"200.6875\" xlink:href=\"#m88ef099354\" y=\"169.480396\"/>\r\n     <use style=\"fill-opacity:0;stroke:#000000;\" x=\"200.6875\" xlink:href=\"#m88ef099354\" y=\"182.232214\"/>\r\n     <use style=\"fill-opacity:0;stroke:#000000;\" x=\"200.6875\" xlink:href=\"#m88ef099354\" y=\"175.112934\"/>\r\n     <use style=\"fill-opacity:0;stroke:#000000;\" x=\"200.6875\" xlink:href=\"#m88ef099354\" y=\"182.096313\"/>\r\n     <use style=\"fill-opacity:0;stroke:#000000;\" x=\"200.6875\" xlink:href=\"#m88ef099354\" y=\"157.681381\"/>\r\n     <use style=\"fill-opacity:0;stroke:#000000;\" x=\"200.6875\" xlink:href=\"#m88ef099354\" y=\"177.540243\"/>\r\n     <use style=\"fill-opacity:0;stroke:#000000;\" x=\"200.6875\" xlink:href=\"#m88ef099354\" y=\"182.127191\"/>\r\n     <use style=\"fill-opacity:0;stroke:#000000;\" x=\"200.6875\" xlink:href=\"#m88ef099354\" y=\"183.098958\"/>\r\n     <use style=\"fill-opacity:0;stroke:#000000;\" x=\"200.6875\" xlink:href=\"#m88ef099354\" y=\"183.312738\"/>\r\n     <use style=\"fill-opacity:0;stroke:#000000;\" x=\"200.6875\" xlink:href=\"#m88ef099354\" y=\"177.276963\"/>\r\n     <use style=\"fill-opacity:0;stroke:#000000;\" x=\"200.6875\" xlink:href=\"#m88ef099354\" y=\"182.885197\"/>\r\n     <use style=\"fill-opacity:0;stroke:#000000;\" x=\"200.6875\" xlink:href=\"#m88ef099354\" y=\"178.734483\"/>\r\n     <use style=\"fill-opacity:0;stroke:#000000;\" x=\"200.6875\" xlink:href=\"#m88ef099354\" y=\"183.518893\"/>\r\n     <use style=\"fill-opacity:0;stroke:#000000;\" x=\"200.6875\" xlink:href=\"#m88ef099354\" y=\"183.109616\"/>\r\n     <use style=\"fill-opacity:0;stroke:#000000;\" x=\"200.6875\" xlink:href=\"#m88ef099354\" y=\"177.764605\"/>\r\n     <use style=\"fill-opacity:0;stroke:#000000;\" x=\"200.6875\" xlink:href=\"#m88ef099354\" y=\"178.237378\"/>\r\n     <use style=\"fill-opacity:0;stroke:#000000;\" x=\"200.6875\" xlink:href=\"#m88ef099354\" y=\"181.797736\"/>\r\n     <use style=\"fill-opacity:0;stroke:#000000;\" x=\"200.6875\" xlink:href=\"#m88ef099354\" y=\"166.94103\"/>\r\n     <use style=\"fill-opacity:0;stroke:#000000;\" x=\"200.6875\" xlink:href=\"#m88ef099354\" y=\"164.604119\"/>\r\n     <use style=\"fill-opacity:0;stroke:#000000;\" x=\"200.6875\" xlink:href=\"#m88ef099354\" y=\"180.832254\"/>\r\n     <use style=\"fill-opacity:0;stroke:#000000;\" x=\"200.6875\" xlink:href=\"#m88ef099354\" y=\"181.882932\"/>\r\n     <use style=\"fill-opacity:0;stroke:#000000;\" x=\"200.6875\" xlink:href=\"#m88ef099354\" y=\"182.813534\"/>\r\n     <use style=\"fill-opacity:0;stroke:#000000;\" x=\"200.6875\" xlink:href=\"#m88ef099354\" y=\"178.904067\"/>\r\n     <use style=\"fill-opacity:0;stroke:#000000;\" x=\"200.6875\" xlink:href=\"#m88ef099354\" y=\"180.100157\"/>\r\n     <use style=\"fill-opacity:0;stroke:#000000;\" x=\"200.6875\" xlink:href=\"#m88ef099354\" y=\"181.091943\"/>\r\n     <use style=\"fill-opacity:0;stroke:#000000;\" x=\"200.6875\" xlink:href=\"#m88ef099354\" y=\"182.283919\"/>\r\n     <use style=\"fill-opacity:0;stroke:#000000;\" x=\"200.6875\" xlink:href=\"#m88ef099354\" y=\"183.354303\"/>\r\n     <use style=\"fill-opacity:0;stroke:#000000;\" x=\"200.6875\" xlink:href=\"#m88ef099354\" y=\"183.297021\"/>\r\n     <use style=\"fill-opacity:0;stroke:#000000;\" x=\"200.6875\" xlink:href=\"#m88ef099354\" y=\"180.60959\"/>\r\n     <use style=\"fill-opacity:0;stroke:#000000;\" x=\"200.6875\" xlink:href=\"#m88ef099354\" y=\"183.082003\"/>\r\n     <use style=\"fill-opacity:0;stroke:#000000;\" x=\"200.6875\" xlink:href=\"#m88ef099354\" y=\"176.851441\"/>\r\n     <use style=\"fill-opacity:0;stroke:#000000;\" x=\"200.6875\" xlink:href=\"#m88ef099354\" y=\"183.283443\"/>\r\n     <use style=\"fill-opacity:0;stroke:#000000;\" x=\"200.6875\" xlink:href=\"#m88ef099354\" y=\"183.519897\"/>\r\n     <use style=\"fill-opacity:0;stroke:#000000;\" x=\"200.6875\" xlink:href=\"#m88ef099354\" y=\"183.255964\"/>\r\n     <use style=\"fill-opacity:0;stroke:#000000;\" x=\"200.6875\" xlink:href=\"#m88ef099354\" y=\"183.3038\"/>\r\n     <use style=\"fill-opacity:0;stroke:#000000;\" x=\"200.6875\" xlink:href=\"#m88ef099354\" y=\"179.259019\"/>\r\n     <use style=\"fill-opacity:0;stroke:#000000;\" x=\"200.6875\" xlink:href=\"#m88ef099354\" y=\"181.819104\"/>\r\n     <use style=\"fill-opacity:0;stroke:#000000;\" x=\"200.6875\" xlink:href=\"#m88ef099354\" y=\"183.198989\"/>\r\n     <use style=\"fill-opacity:0;stroke:#000000;\" x=\"200.6875\" xlink:href=\"#m88ef099354\" y=\"179.357269\"/>\r\n     <use style=\"fill-opacity:0;stroke:#000000;\" x=\"200.6875\" xlink:href=\"#m88ef099354\" y=\"162.784754\"/>\r\n     <use style=\"fill-opacity:0;stroke:#000000;\" x=\"200.6875\" xlink:href=\"#m88ef099354\" y=\"178.389347\"/>\r\n     <use style=\"fill-opacity:0;stroke:#000000;\" x=\"200.6875\" xlink:href=\"#m88ef099354\" y=\"179.120828\"/>\r\n     <use style=\"fill-opacity:0;stroke:#000000;\" x=\"200.6875\" xlink:href=\"#m88ef099354\" y=\"183.088896\"/>\r\n     <use style=\"fill-opacity:0;stroke:#000000;\" x=\"200.6875\" xlink:href=\"#m88ef099354\" y=\"171.786727\"/>\r\n     <use style=\"fill-opacity:0;stroke:#000000;\" x=\"200.6875\" xlink:href=\"#m88ef099354\" y=\"172.263325\"/>\r\n     <use style=\"fill-opacity:0;stroke:#000000;\" x=\"200.6875\" xlink:href=\"#m88ef099354\" y=\"182.916822\"/>\r\n     <use style=\"fill-opacity:0;stroke:#000000;\" x=\"200.6875\" xlink:href=\"#m88ef099354\" y=\"182.704558\"/>\r\n     <use style=\"fill-opacity:0;stroke:#000000;\" x=\"200.6875\" xlink:href=\"#m88ef099354\" y=\"183.191957\"/>\r\n     <use style=\"fill-opacity:0;stroke:#000000;\" x=\"200.6875\" xlink:href=\"#m88ef099354\" y=\"182.288213\"/>\r\n     <use style=\"fill-opacity:0;stroke:#000000;\" x=\"200.6875\" xlink:href=\"#m88ef099354\" y=\"176.618432\"/>\r\n     <use style=\"fill-opacity:0;stroke:#000000;\" x=\"200.6875\" xlink:href=\"#m88ef099354\" y=\"179.666262\"/>\r\n     <use style=\"fill-opacity:0;stroke:#000000;\" x=\"200.6875\" xlink:href=\"#m88ef099354\" y=\"175.994425\"/>\r\n     <use style=\"fill-opacity:0;stroke:#000000;\" x=\"200.6875\" xlink:href=\"#m88ef099354\" y=\"181.98046\"/>\r\n     <use style=\"fill-opacity:0;stroke:#000000;\" x=\"200.6875\" xlink:href=\"#m88ef099354\" y=\"162.589627\"/>\r\n     <use style=\"fill-opacity:0;stroke:#000000;\" x=\"200.6875\" xlink:href=\"#m88ef099354\" y=\"176.06604\"/>\r\n     <use style=\"fill-opacity:0;stroke:#000000;\" x=\"200.6875\" xlink:href=\"#m88ef099354\" y=\"161.15861\"/>\r\n     <use style=\"fill-opacity:0;stroke:#000000;\" x=\"200.6875\" xlink:href=\"#m88ef099354\" y=\"181.430667\"/>\r\n     <use style=\"fill-opacity:0;stroke:#000000;\" x=\"200.6875\" xlink:href=\"#m88ef099354\" y=\"179.931725\"/>\r\n     <use style=\"fill-opacity:0;stroke:#000000;\" x=\"200.6875\" xlink:href=\"#m88ef099354\" y=\"182.844259\"/>\r\n     <use style=\"fill-opacity:0;stroke:#000000;\" x=\"200.6875\" xlink:href=\"#m88ef099354\" y=\"183.516594\"/>\r\n     <use style=\"fill-opacity:0;stroke:#000000;\" x=\"200.6875\" xlink:href=\"#m88ef099354\" y=\"172.87274\"/>\r\n     <use style=\"fill-opacity:0;stroke:#000000;\" x=\"200.6875\" xlink:href=\"#m88ef099354\" y=\"175.676297\"/>\r\n     <use style=\"fill-opacity:0;stroke:#000000;\" x=\"200.6875\" xlink:href=\"#m88ef099354\" y=\"177.662699\"/>\r\n     <use style=\"fill-opacity:0;stroke:#000000;\" x=\"200.6875\" xlink:href=\"#m88ef099354\" y=\"176.406549\"/>\r\n     <use style=\"fill-opacity:0;stroke:#000000;\" x=\"200.6875\" xlink:href=\"#m88ef099354\" y=\"181.728799\"/>\r\n     <use style=\"fill-opacity:0;stroke:#000000;\" x=\"200.6875\" xlink:href=\"#m88ef099354\" y=\"180.805687\"/>\r\n     <use style=\"fill-opacity:0;stroke:#000000;\" x=\"200.6875\" xlink:href=\"#m88ef099354\" y=\"181.450825\"/>\r\n     <use style=\"fill-opacity:0;stroke:#000000;\" x=\"200.6875\" xlink:href=\"#m88ef099354\" y=\"181.823564\"/>\r\n     <use style=\"fill-opacity:0;stroke:#000000;\" x=\"200.6875\" xlink:href=\"#m88ef099354\" y=\"163.185963\"/>\r\n     <use style=\"fill-opacity:0;stroke:#000000;\" x=\"200.6875\" xlink:href=\"#m88ef099354\" y=\"183.446834\"/>\r\n     <use style=\"fill-opacity:0;stroke:#000000;\" x=\"200.6875\" xlink:href=\"#m88ef099354\" y=\"183.427918\"/>\r\n     <use style=\"fill-opacity:0;stroke:#000000;\" x=\"200.6875\" xlink:href=\"#m88ef099354\" y=\"181.241438\"/>\r\n     <use style=\"fill-opacity:0;stroke:#000000;\" x=\"200.6875\" xlink:href=\"#m88ef099354\" y=\"163.2846\"/>\r\n     <use style=\"fill-opacity:0;stroke:#000000;\" x=\"200.6875\" xlink:href=\"#m88ef099354\" y=\"182.256444\"/>\r\n     <use style=\"fill-opacity:0;stroke:#000000;\" x=\"200.6875\" xlink:href=\"#m88ef099354\" y=\"181.264677\"/>\r\n     <use style=\"fill-opacity:0;stroke:#000000;\" x=\"200.6875\" xlink:href=\"#m88ef099354\" y=\"179.505552\"/>\r\n     <use style=\"fill-opacity:0;stroke:#000000;\" x=\"200.6875\" xlink:href=\"#m88ef099354\" y=\"177.767441\"/>\r\n     <use style=\"fill-opacity:0;stroke:#000000;\" x=\"200.6875\" xlink:href=\"#m88ef099354\" y=\"164.668484\"/>\r\n     <use style=\"fill-opacity:0;stroke:#000000;\" x=\"200.6875\" xlink:href=\"#m88ef099354\" y=\"175.910456\"/>\r\n     <use style=\"fill-opacity:0;stroke:#000000;\" x=\"200.6875\" xlink:href=\"#m88ef099354\" y=\"173.355546\"/>\r\n     <use style=\"fill-opacity:0;stroke:#000000;\" x=\"200.6875\" xlink:href=\"#m88ef099354\" y=\"179.796222\"/>\r\n     <use style=\"fill-opacity:0;stroke:#000000;\" x=\"200.6875\" xlink:href=\"#m88ef099354\" y=\"180.124551\"/>\r\n     <use style=\"fill-opacity:0;stroke:#000000;\" x=\"200.6875\" xlink:href=\"#m88ef099354\" y=\"172.700159\"/>\r\n     <use style=\"fill-opacity:0;stroke:#000000;\" x=\"200.6875\" xlink:href=\"#m88ef099354\" y=\"183.148982\"/>\r\n     <use style=\"fill-opacity:0;stroke:#000000;\" x=\"200.6875\" xlink:href=\"#m88ef099354\" y=\"181.704029\"/>\r\n     <use style=\"fill-opacity:0;stroke:#000000;\" x=\"200.6875\" xlink:href=\"#m88ef099354\" y=\"164.884428\"/>\r\n     <use style=\"fill-opacity:0;stroke:#000000;\" x=\"200.6875\" xlink:href=\"#m88ef099354\" y=\"174.079475\"/>\r\n     <use style=\"fill-opacity:0;stroke:#000000;\" x=\"200.6875\" xlink:href=\"#m88ef099354\" y=\"172.97176\"/>\r\n     <use style=\"fill-opacity:0;stroke:#000000;\" x=\"200.6875\" xlink:href=\"#m88ef099354\" y=\"183.396129\"/>\r\n     <use style=\"fill-opacity:0;stroke:#000000;\" x=\"200.6875\" xlink:href=\"#m88ef099354\" y=\"173.274836\"/>\r\n     <use style=\"fill-opacity:0;stroke:#000000;\" x=\"200.6875\" xlink:href=\"#m88ef099354\" y=\"181.839723\"/>\r\n     <use style=\"fill-opacity:0;stroke:#000000;\" x=\"200.6875\" xlink:href=\"#m88ef099354\" y=\"182.989705\"/>\r\n     <use style=\"fill-opacity:0;stroke:#000000;\" x=\"200.6875\" xlink:href=\"#m88ef099354\" y=\"175.833864\"/>\r\n     <use style=\"fill-opacity:0;stroke:#000000;\" x=\"200.6875\" xlink:href=\"#m88ef099354\" y=\"181.768492\"/>\r\n     <use style=\"fill-opacity:0;stroke:#000000;\" x=\"200.6875\" xlink:href=\"#m88ef099354\" y=\"182.340693\"/>\r\n     <use style=\"fill-opacity:0;stroke:#000000;\" x=\"200.6875\" xlink:href=\"#m88ef099354\" y=\"169.335299\"/>\r\n     <use style=\"fill-opacity:0;stroke:#000000;\" x=\"200.6875\" xlink:href=\"#m88ef099354\" y=\"183.402151\"/>\r\n     <use style=\"fill-opacity:0;stroke:#000000;\" x=\"200.6875\" xlink:href=\"#m88ef099354\" y=\"176.515017\"/>\r\n     <use style=\"fill-opacity:0;stroke:#000000;\" x=\"200.6875\" xlink:href=\"#m88ef099354\" y=\"88.636825\"/>\r\n     <use style=\"fill-opacity:0;stroke:#000000;\" x=\"200.6875\" xlink:href=\"#m88ef099354\" y=\"183.531787\"/>\r\n     <use style=\"fill-opacity:0;stroke:#000000;\" x=\"200.6875\" xlink:href=\"#m88ef099354\" y=\"177.873144\"/>\r\n     <use style=\"fill-opacity:0;stroke:#000000;\" x=\"200.6875\" xlink:href=\"#m88ef099354\" y=\"176.458859\"/>\r\n     <use style=\"fill-opacity:0;stroke:#000000;\" x=\"200.6875\" xlink:href=\"#m88ef099354\" y=\"180.936838\"/>\r\n     <use style=\"fill-opacity:0;stroke:#000000;\" x=\"200.6875\" xlink:href=\"#m88ef099354\" y=\"182.536199\"/>\r\n     <use style=\"fill-opacity:0;stroke:#000000;\" x=\"200.6875\" xlink:href=\"#m88ef099354\" y=\"176.971648\"/>\r\n     <use style=\"fill-opacity:0;stroke:#000000;\" x=\"200.6875\" xlink:href=\"#m88ef099354\" y=\"182.966946\"/>\r\n     <use style=\"fill-opacity:0;stroke:#000000;\" x=\"200.6875\" xlink:href=\"#m88ef099354\" y=\"183.186006\"/>\r\n     <use style=\"fill-opacity:0;stroke:#000000;\" x=\"200.6875\" xlink:href=\"#m88ef099354\" y=\"183.301996\"/>\r\n     <use style=\"fill-opacity:0;stroke:#000000;\" x=\"200.6875\" xlink:href=\"#m88ef099354\" y=\"149.333109\"/>\r\n     <use style=\"fill-opacity:0;stroke:#000000;\" x=\"200.6875\" xlink:href=\"#m88ef099354\" y=\"178.688831\"/>\r\n     <use style=\"fill-opacity:0;stroke:#000000;\" x=\"200.6875\" xlink:href=\"#m88ef099354\" y=\"173.180198\"/>\r\n     <use style=\"fill-opacity:0;stroke:#000000;\" x=\"200.6875\" xlink:href=\"#m88ef099354\" y=\"179.150025\"/>\r\n     <use style=\"fill-opacity:0;stroke:#000000;\" x=\"200.6875\" xlink:href=\"#m88ef099354\" y=\"183.471834\"/>\r\n     <use style=\"fill-opacity:0;stroke:#000000;\" x=\"200.6875\" xlink:href=\"#m88ef099354\" y=\"176.312844\"/>\r\n     <use style=\"fill-opacity:0;stroke:#000000;\" x=\"200.6875\" xlink:href=\"#m88ef099354\" y=\"179.17572\"/>\r\n     <use style=\"fill-opacity:0;stroke:#000000;\" x=\"200.6875\" xlink:href=\"#m88ef099354\" y=\"182.629841\"/>\r\n     <use style=\"fill-opacity:0;stroke:#000000;\" x=\"200.6875\" xlink:href=\"#m88ef099354\" y=\"178.377187\"/>\r\n     <use style=\"fill-opacity:0;stroke:#000000;\" x=\"200.6875\" xlink:href=\"#m88ef099354\" y=\"157.438524\"/>\r\n     <use style=\"fill-opacity:0;stroke:#000000;\" x=\"200.6875\" xlink:href=\"#m88ef099354\" y=\"179.977508\"/>\r\n     <use style=\"fill-opacity:0;stroke:#000000;\" x=\"200.6875\" xlink:href=\"#m88ef099354\" y=\"162.477614\"/>\r\n     <use style=\"fill-opacity:0;stroke:#000000;\" x=\"200.6875\" xlink:href=\"#m88ef099354\" y=\"172.508068\"/>\r\n     <use style=\"fill-opacity:0;stroke:#000000;\" x=\"200.6875\" xlink:href=\"#m88ef099354\" y=\"182.262265\"/>\r\n     <use style=\"fill-opacity:0;stroke:#000000;\" x=\"200.6875\" xlink:href=\"#m88ef099354\" y=\"177.324996\"/>\r\n     <use style=\"fill-opacity:0;stroke:#000000;\" x=\"200.6875\" xlink:href=\"#m88ef099354\" y=\"179.588954\"/>\r\n     <use style=\"fill-opacity:0;stroke:#000000;\" x=\"200.6875\" xlink:href=\"#m88ef099354\" y=\"179.050171\"/>\r\n     <use style=\"fill-opacity:0;stroke:#000000;\" x=\"200.6875\" xlink:href=\"#m88ef099354\" y=\"182.050068\"/>\r\n     <use style=\"fill-opacity:0;stroke:#000000;\" x=\"200.6875\" xlink:href=\"#m88ef099354\" y=\"173.109281\"/>\r\n     <use style=\"fill-opacity:0;stroke:#000000;\" x=\"200.6875\" xlink:href=\"#m88ef099354\" y=\"179.962749\"/>\r\n     <use style=\"fill-opacity:0;stroke:#000000;\" x=\"200.6875\" xlink:href=\"#m88ef099354\" y=\"182.751929\"/>\r\n     <use style=\"fill-opacity:0;stroke:#000000;\" x=\"200.6875\" xlink:href=\"#m88ef099354\" y=\"179.268024\"/>\r\n     <use style=\"fill-opacity:0;stroke:#000000;\" x=\"200.6875\" xlink:href=\"#m88ef099354\" y=\"178.388202\"/>\r\n     <use style=\"fill-opacity:0;stroke:#000000;\" x=\"200.6875\" xlink:href=\"#m88ef099354\" y=\"180.843575\"/>\r\n     <use style=\"fill-opacity:0;stroke:#000000;\" x=\"200.6875\" xlink:href=\"#m88ef099354\" y=\"182.538447\"/>\r\n     <use style=\"fill-opacity:0;stroke:#000000;\" x=\"200.6875\" xlink:href=\"#m88ef099354\" y=\"173.64366\"/>\r\n     <use style=\"fill-opacity:0;stroke:#000000;\" x=\"200.6875\" xlink:href=\"#m88ef099354\" y=\"181.554373\"/>\r\n     <use style=\"fill-opacity:0;stroke:#000000;\" x=\"200.6875\" xlink:href=\"#m88ef099354\" y=\"183.562983\"/>\r\n     <use style=\"fill-opacity:0;stroke:#000000;\" x=\"200.6875\" xlink:href=\"#m88ef099354\" y=\"162.746217\"/>\r\n     <use style=\"fill-opacity:0;stroke:#000000;\" x=\"200.6875\" xlink:href=\"#m88ef099354\" y=\"182.920318\"/>\r\n     <use style=\"fill-opacity:0;stroke:#000000;\" x=\"200.6875\" xlink:href=\"#m88ef099354\" y=\"178.745721\"/>\r\n     <use style=\"fill-opacity:0;stroke:#000000;\" x=\"200.6875\" xlink:href=\"#m88ef099354\" y=\"179.929243\"/>\r\n     <use style=\"fill-opacity:0;stroke:#000000;\" x=\"200.6875\" xlink:href=\"#m88ef099354\" y=\"165.483782\"/>\r\n     <use style=\"fill-opacity:0;stroke:#000000;\" x=\"200.6875\" xlink:href=\"#m88ef099354\" y=\"175.748479\"/>\r\n     <use style=\"fill-opacity:0;stroke:#000000;\" x=\"200.6875\" xlink:href=\"#m88ef099354\" y=\"183.104046\"/>\r\n     <use style=\"fill-opacity:0;stroke:#000000;\" x=\"200.6875\" xlink:href=\"#m88ef099354\" y=\"17.083636\"/>\r\n     <use style=\"fill-opacity:0;stroke:#000000;\" x=\"200.6875\" xlink:href=\"#m88ef099354\" y=\"178.892989\"/>\r\n     <use style=\"fill-opacity:0;stroke:#000000;\" x=\"200.6875\" xlink:href=\"#m88ef099354\" y=\"153.658357\"/>\r\n     <use style=\"fill-opacity:0;stroke:#000000;\" x=\"200.6875\" xlink:href=\"#m88ef099354\" y=\"183.072994\"/>\r\n     <use style=\"fill-opacity:0;stroke:#000000;\" x=\"200.6875\" xlink:href=\"#m88ef099354\" y=\"183.462387\"/>\r\n     <use style=\"fill-opacity:0;stroke:#000000;\" x=\"200.6875\" xlink:href=\"#m88ef099354\" y=\"173.706426\"/>\r\n     <use style=\"fill-opacity:0;stroke:#000000;\" x=\"200.6875\" xlink:href=\"#m88ef099354\" y=\"178.346175\"/>\r\n     <use style=\"fill-opacity:0;stroke:#000000;\" x=\"200.6875\" xlink:href=\"#m88ef099354\" y=\"173.399937\"/>\r\n     <use style=\"fill-opacity:0;stroke:#000000;\" x=\"200.6875\" xlink:href=\"#m88ef099354\" y=\"181.742647\"/>\r\n     <use style=\"fill-opacity:0;stroke:#000000;\" x=\"200.6875\" xlink:href=\"#m88ef099354\" y=\"182.657337\"/>\r\n     <use style=\"fill-opacity:0;stroke:#000000;\" x=\"200.6875\" xlink:href=\"#m88ef099354\" y=\"172.347468\"/>\r\n     <use style=\"fill-opacity:0;stroke:#000000;\" x=\"200.6875\" xlink:href=\"#m88ef099354\" y=\"169.183039\"/>\r\n     <use style=\"fill-opacity:0;stroke:#000000;\" x=\"200.6875\" xlink:href=\"#m88ef099354\" y=\"179.122627\"/>\r\n     <use style=\"fill-opacity:0;stroke:#000000;\" x=\"200.6875\" xlink:href=\"#m88ef099354\" y=\"177.365754\"/>\r\n     <use style=\"fill-opacity:0;stroke:#000000;\" x=\"200.6875\" xlink:href=\"#m88ef099354\" y=\"181.157812\"/>\r\n     <use style=\"fill-opacity:0;stroke:#000000;\" x=\"200.6875\" xlink:href=\"#m88ef099354\" y=\"182.472585\"/>\r\n    </g>\r\n   </g>\r\n   <g id=\"line2d_15\">\r\n    <path clip-path=\"url(#p1c4da0fe2d)\" d=\"M 175.5775 198.886269 \r\nL 225.7975 198.886269 \r\n\" style=\"fill:none;stroke:#ff7f0e;stroke-linecap:square;\"/>\r\n   </g>\r\n   <g id=\"patch_3\">\r\n    <path d=\"M 33.2875 224.64 \r\nL 33.2875 7.2 \r\n\" style=\"fill:none;stroke:#000000;stroke-linecap:square;stroke-linejoin:miter;stroke-width:0.8;\"/>\r\n   </g>\r\n   <g id=\"patch_4\">\r\n    <path d=\"M 368.0875 224.64 \r\nL 368.0875 7.2 \r\n\" style=\"fill:none;stroke:#000000;stroke-linecap:square;stroke-linejoin:miter;stroke-width:0.8;\"/>\r\n   </g>\r\n   <g id=\"patch_5\">\r\n    <path d=\"M 33.2875 224.64 \r\nL 368.0875 224.64 \r\n\" style=\"fill:none;stroke:#000000;stroke-linecap:square;stroke-linejoin:miter;stroke-width:0.8;\"/>\r\n   </g>\r\n   <g id=\"patch_6\">\r\n    <path d=\"M 33.2875 7.2 \r\nL 368.0875 7.2 \r\n\" style=\"fill:none;stroke:#000000;stroke-linecap:square;stroke-linejoin:miter;stroke-width:0.8;\"/>\r\n   </g>\r\n  </g>\r\n </g>\r\n <defs>\r\n  <clipPath id=\"p1c4da0fe2d\">\r\n   <rect height=\"217.44\" width=\"334.8\" x=\"33.2875\" y=\"7.2\"/>\r\n  </clipPath>\r\n </defs>\r\n</svg>\r\n"
     },
     "metadata": {
      "needs_background": "light"
     }
    }
   ],
   "source": [
    "plt.boxplot(train['Square'])\n",
    "plt.show"
   ]
  },
  {
   "cell_type": "code",
   "execution_count": 31,
   "metadata": {},
   "outputs": [
    {
     "output_type": "execute_result",
     "data": {
      "text/plain": [
       "(100.90624548226137, 32.10518291149681)"
      ]
     },
     "metadata": {},
     "execution_count": 31
    }
   ],
   "source": [
    "train['Square'].quantile(.975), train['Square'].quantile(.025)"
   ]
  },
  {
   "cell_type": "code",
   "execution_count": 37,
   "metadata": {},
   "outputs": [
    {
     "output_type": "execute_result",
     "data": {
      "text/plain": [
       "       DistrictId  Rooms      Square  LifeSquare  KitchenSquare  Social_2  \\\n",
       "Id                                                                          \n",
       "15947         129    4.0  185.906396   84.830074           31.0      5613   \n",
       "3233          129    4.0  186.692602   87.487080           32.0      5613   \n",
       "3718           56    3.0  190.857689  107.376164           19.0      5067   \n",
       "4249           23    5.0  198.930182  123.139863           10.0       475   \n",
       "16568          27    4.0  200.334539  201.627361           25.0     14892   \n",
       "7917           27    0.0  212.932361  211.231125            0.0      1892   \n",
       "5548           86    5.0  275.645284  233.949309           26.0      7010   \n",
       "2307          102    1.0  409.425181  410.639749           10.0      3889   \n",
       "28              9    2.0  604.705972         NaN            1.0      5648   \n",
       "11602          30    2.0  641.065193  638.163193           10.0      6398   \n",
       "\n",
       "               Price  \n",
       "Id                    \n",
       "15947  340273.238253  \n",
       "3233   423443.464367  \n",
       "3718   338644.075979  \n",
       "4249   345665.209100  \n",
       "16568  528560.506016  \n",
       "7917   302211.260887  \n",
       "5548   455264.882666  \n",
       "2307    90470.430830  \n",
       "28     187717.242538  \n",
       "11602  133529.681562  "
      ],
      "text/html": "<div>\n<style scoped>\n    .dataframe tbody tr th:only-of-type {\n        vertical-align: middle;\n    }\n\n    .dataframe tbody tr th {\n        vertical-align: top;\n    }\n\n    .dataframe thead th {\n        text-align: right;\n    }\n</style>\n<table border=\"1\" class=\"dataframe\">\n  <thead>\n    <tr style=\"text-align: right;\">\n      <th></th>\n      <th>DistrictId</th>\n      <th>Rooms</th>\n      <th>Square</th>\n      <th>LifeSquare</th>\n      <th>KitchenSquare</th>\n      <th>Social_2</th>\n      <th>Price</th>\n    </tr>\n    <tr>\n      <th>Id</th>\n      <th></th>\n      <th></th>\n      <th></th>\n      <th></th>\n      <th></th>\n      <th></th>\n      <th></th>\n    </tr>\n  </thead>\n  <tbody>\n    <tr>\n      <th>15947</th>\n      <td>129</td>\n      <td>4.0</td>\n      <td>185.906396</td>\n      <td>84.830074</td>\n      <td>31.0</td>\n      <td>5613</td>\n      <td>340273.238253</td>\n    </tr>\n    <tr>\n      <th>3233</th>\n      <td>129</td>\n      <td>4.0</td>\n      <td>186.692602</td>\n      <td>87.487080</td>\n      <td>32.0</td>\n      <td>5613</td>\n      <td>423443.464367</td>\n    </tr>\n    <tr>\n      <th>3718</th>\n      <td>56</td>\n      <td>3.0</td>\n      <td>190.857689</td>\n      <td>107.376164</td>\n      <td>19.0</td>\n      <td>5067</td>\n      <td>338644.075979</td>\n    </tr>\n    <tr>\n      <th>4249</th>\n      <td>23</td>\n      <td>5.0</td>\n      <td>198.930182</td>\n      <td>123.139863</td>\n      <td>10.0</td>\n      <td>475</td>\n      <td>345665.209100</td>\n    </tr>\n    <tr>\n      <th>16568</th>\n      <td>27</td>\n      <td>4.0</td>\n      <td>200.334539</td>\n      <td>201.627361</td>\n      <td>25.0</td>\n      <td>14892</td>\n      <td>528560.506016</td>\n    </tr>\n    <tr>\n      <th>7917</th>\n      <td>27</td>\n      <td>0.0</td>\n      <td>212.932361</td>\n      <td>211.231125</td>\n      <td>0.0</td>\n      <td>1892</td>\n      <td>302211.260887</td>\n    </tr>\n    <tr>\n      <th>5548</th>\n      <td>86</td>\n      <td>5.0</td>\n      <td>275.645284</td>\n      <td>233.949309</td>\n      <td>26.0</td>\n      <td>7010</td>\n      <td>455264.882666</td>\n    </tr>\n    <tr>\n      <th>2307</th>\n      <td>102</td>\n      <td>1.0</td>\n      <td>409.425181</td>\n      <td>410.639749</td>\n      <td>10.0</td>\n      <td>3889</td>\n      <td>90470.430830</td>\n    </tr>\n    <tr>\n      <th>28</th>\n      <td>9</td>\n      <td>2.0</td>\n      <td>604.705972</td>\n      <td>NaN</td>\n      <td>1.0</td>\n      <td>5648</td>\n      <td>187717.242538</td>\n    </tr>\n    <tr>\n      <th>11602</th>\n      <td>30</td>\n      <td>2.0</td>\n      <td>641.065193</td>\n      <td>638.163193</td>\n      <td>10.0</td>\n      <td>6398</td>\n      <td>133529.681562</td>\n    </tr>\n  </tbody>\n</table>\n</div>"
     },
     "metadata": {},
     "execution_count": 37
    }
   ],
   "source": [
    "train.loc[train['Square']>train['Square'].quantile(.975), ['DistrictId','Rooms','Square','LifeSquare','KitchenSquare','Social_2',target_name]].sort_values('Square').tail(10)"
   ]
  },
  {
   "source": [
    "* Площадь на комнату"
   ],
   "cell_type": "markdown",
   "metadata": {}
  },
  {
   "cell_type": "code",
   "execution_count": 53,
   "metadata": {},
   "outputs": [
    {
     "output_type": "execute_result",
     "data": {
      "text/plain": [
       "       DistrictId  Rooms      Square  LifeSquare  KitchenSquare  Floor  \\\n",
       "Id                                                                       \n",
       "11809          27    3.0  115.027311         NaN           10.0      4   \n",
       "2352            1    1.0   40.409907         NaN            1.0     10   \n",
       "4581            1    1.0   47.582480         NaN            1.0     16   \n",
       "8768           63    1.0   50.974891         NaN            1.0      7   \n",
       "4717           27    1.0   44.203947         NaN            0.0      2   \n",
       "...           ...    ...         ...         ...            ...    ...   \n",
       "4944            6    2.0   52.573133         NaN            1.0     18   \n",
       "4851            1    1.0   39.314342         NaN            1.0     13   \n",
       "6753           62    2.0   73.092686         NaN            1.0      4   \n",
       "647             1    2.0   63.324025         NaN            1.0      4   \n",
       "11173           6    2.0   62.648779         NaN            0.0      6   \n",
       "\n",
       "       HouseFloor  HouseYear  Ecology_1  Social_1  ...  Helthcare_2  Shops_1  \\\n",
       "Id                                                 ...                         \n",
       "11809        10.0       2014   0.075424        11  ...            0        0   \n",
       "2352         22.0       1977   0.007122         1  ...            0        1   \n",
       "4581         16.0       1977   0.007122         1  ...            0        1   \n",
       "8768         16.0       2018   0.238617        26  ...            3        6   \n",
       "4717          0.0       1977   0.072158         2  ...            0        0   \n",
       "...           ...        ...        ...       ...  ...          ...      ...   \n",
       "4944         17.0       1977   0.243205         5  ...            0        0   \n",
       "4851         17.0       1977   0.007122         1  ...            0        1   \n",
       "6753         16.0       2017   0.072158         2  ...            0        0   \n",
       "647          17.0       1977   0.007122         1  ...            0        1   \n",
       "11173        17.0       1977   0.243205         5  ...            0        0   \n",
       "\n",
       "               Price  Ecology_2_A  Ecology_2_B  Ecology_3_A  Ecology_3_B  \\\n",
       "Id                                                                         \n",
       "11809  305018.871089            0            1            0            1   \n",
       "2352   168106.007630            0            1            0            1   \n",
       "4581   128803.593810            0            1            0            1   \n",
       "8768   260328.413376            0            1            0            1   \n",
       "4717   135466.559958            0            1            0            1   \n",
       "...              ...          ...          ...          ...          ...   \n",
       "4944   154366.031184            0            1            0            1   \n",
       "4851   137782.941940            0            1            0            1   \n",
       "6753   159077.198056            0            1            0            1   \n",
       "647    183809.327114            0            1            0            1   \n",
       "11173  182625.548872            0            1            0            1   \n",
       "\n",
       "       Shops_2_A  Shops_2_B  SquareByRoom  \n",
       "Id                                         \n",
       "11809          0          1     38.342437  \n",
       "2352           0          1     40.409907  \n",
       "4581           0          1     47.582480  \n",
       "8768           0          1     50.974891  \n",
       "4717           1          0     44.203947  \n",
       "...          ...        ...           ...  \n",
       "4944           0          1     26.286566  \n",
       "4851           0          1     39.314342  \n",
       "6753           1          0     36.546343  \n",
       "647            0          1     31.662012  \n",
       "11173          0          1     31.324389  \n",
       "\n",
       "[2113 rows x 23 columns]"
      ],
      "text/html": "<div>\n<style scoped>\n    .dataframe tbody tr th:only-of-type {\n        vertical-align: middle;\n    }\n\n    .dataframe tbody tr th {\n        vertical-align: top;\n    }\n\n    .dataframe thead th {\n        text-align: right;\n    }\n</style>\n<table border=\"1\" class=\"dataframe\">\n  <thead>\n    <tr style=\"text-align: right;\">\n      <th></th>\n      <th>DistrictId</th>\n      <th>Rooms</th>\n      <th>Square</th>\n      <th>LifeSquare</th>\n      <th>KitchenSquare</th>\n      <th>Floor</th>\n      <th>HouseFloor</th>\n      <th>HouseYear</th>\n      <th>Ecology_1</th>\n      <th>Social_1</th>\n      <th>...</th>\n      <th>Helthcare_2</th>\n      <th>Shops_1</th>\n      <th>Price</th>\n      <th>Ecology_2_A</th>\n      <th>Ecology_2_B</th>\n      <th>Ecology_3_A</th>\n      <th>Ecology_3_B</th>\n      <th>Shops_2_A</th>\n      <th>Shops_2_B</th>\n      <th>SquareByRoom</th>\n    </tr>\n    <tr>\n      <th>Id</th>\n      <th></th>\n      <th></th>\n      <th></th>\n      <th></th>\n      <th></th>\n      <th></th>\n      <th></th>\n      <th></th>\n      <th></th>\n      <th></th>\n      <th></th>\n      <th></th>\n      <th></th>\n      <th></th>\n      <th></th>\n      <th></th>\n      <th></th>\n      <th></th>\n      <th></th>\n      <th></th>\n      <th></th>\n    </tr>\n  </thead>\n  <tbody>\n    <tr>\n      <th>11809</th>\n      <td>27</td>\n      <td>3.0</td>\n      <td>115.027311</td>\n      <td>NaN</td>\n      <td>10.0</td>\n      <td>4</td>\n      <td>10.0</td>\n      <td>2014</td>\n      <td>0.075424</td>\n      <td>11</td>\n      <td>...</td>\n      <td>0</td>\n      <td>0</td>\n      <td>305018.871089</td>\n      <td>0</td>\n      <td>1</td>\n      <td>0</td>\n      <td>1</td>\n      <td>0</td>\n      <td>1</td>\n      <td>38.342437</td>\n    </tr>\n    <tr>\n      <th>2352</th>\n      <td>1</td>\n      <td>1.0</td>\n      <td>40.409907</td>\n      <td>NaN</td>\n      <td>1.0</td>\n      <td>10</td>\n      <td>22.0</td>\n      <td>1977</td>\n      <td>0.007122</td>\n      <td>1</td>\n      <td>...</td>\n      <td>0</td>\n      <td>1</td>\n      <td>168106.007630</td>\n      <td>0</td>\n      <td>1</td>\n      <td>0</td>\n      <td>1</td>\n      <td>0</td>\n      <td>1</td>\n      <td>40.409907</td>\n    </tr>\n    <tr>\n      <th>4581</th>\n      <td>1</td>\n      <td>1.0</td>\n      <td>47.582480</td>\n      <td>NaN</td>\n      <td>1.0</td>\n      <td>16</td>\n      <td>16.0</td>\n      <td>1977</td>\n      <td>0.007122</td>\n      <td>1</td>\n      <td>...</td>\n      <td>0</td>\n      <td>1</td>\n      <td>128803.593810</td>\n      <td>0</td>\n      <td>1</td>\n      <td>0</td>\n      <td>1</td>\n      <td>0</td>\n      <td>1</td>\n      <td>47.582480</td>\n    </tr>\n    <tr>\n      <th>8768</th>\n      <td>63</td>\n      <td>1.0</td>\n      <td>50.974891</td>\n      <td>NaN</td>\n      <td>1.0</td>\n      <td>7</td>\n      <td>16.0</td>\n      <td>2018</td>\n      <td>0.238617</td>\n      <td>26</td>\n      <td>...</td>\n      <td>3</td>\n      <td>6</td>\n      <td>260328.413376</td>\n      <td>0</td>\n      <td>1</td>\n      <td>0</td>\n      <td>1</td>\n      <td>0</td>\n      <td>1</td>\n      <td>50.974891</td>\n    </tr>\n    <tr>\n      <th>4717</th>\n      <td>27</td>\n      <td>1.0</td>\n      <td>44.203947</td>\n      <td>NaN</td>\n      <td>0.0</td>\n      <td>2</td>\n      <td>0.0</td>\n      <td>1977</td>\n      <td>0.072158</td>\n      <td>2</td>\n      <td>...</td>\n      <td>0</td>\n      <td>0</td>\n      <td>135466.559958</td>\n      <td>0</td>\n      <td>1</td>\n      <td>0</td>\n      <td>1</td>\n      <td>1</td>\n      <td>0</td>\n      <td>44.203947</td>\n    </tr>\n    <tr>\n      <th>...</th>\n      <td>...</td>\n      <td>...</td>\n      <td>...</td>\n      <td>...</td>\n      <td>...</td>\n      <td>...</td>\n      <td>...</td>\n      <td>...</td>\n      <td>...</td>\n      <td>...</td>\n      <td>...</td>\n      <td>...</td>\n      <td>...</td>\n      <td>...</td>\n      <td>...</td>\n      <td>...</td>\n      <td>...</td>\n      <td>...</td>\n      <td>...</td>\n      <td>...</td>\n      <td>...</td>\n    </tr>\n    <tr>\n      <th>4944</th>\n      <td>6</td>\n      <td>2.0</td>\n      <td>52.573133</td>\n      <td>NaN</td>\n      <td>1.0</td>\n      <td>18</td>\n      <td>17.0</td>\n      <td>1977</td>\n      <td>0.243205</td>\n      <td>5</td>\n      <td>...</td>\n      <td>0</td>\n      <td>0</td>\n      <td>154366.031184</td>\n      <td>0</td>\n      <td>1</td>\n      <td>0</td>\n      <td>1</td>\n      <td>0</td>\n      <td>1</td>\n      <td>26.286566</td>\n    </tr>\n    <tr>\n      <th>4851</th>\n      <td>1</td>\n      <td>1.0</td>\n      <td>39.314342</td>\n      <td>NaN</td>\n      <td>1.0</td>\n      <td>13</td>\n      <td>17.0</td>\n      <td>1977</td>\n      <td>0.007122</td>\n      <td>1</td>\n      <td>...</td>\n      <td>0</td>\n      <td>1</td>\n      <td>137782.941940</td>\n      <td>0</td>\n      <td>1</td>\n      <td>0</td>\n      <td>1</td>\n      <td>0</td>\n      <td>1</td>\n      <td>39.314342</td>\n    </tr>\n    <tr>\n      <th>6753</th>\n      <td>62</td>\n      <td>2.0</td>\n      <td>73.092686</td>\n      <td>NaN</td>\n      <td>1.0</td>\n      <td>4</td>\n      <td>16.0</td>\n      <td>2017</td>\n      <td>0.072158</td>\n      <td>2</td>\n      <td>...</td>\n      <td>0</td>\n      <td>0</td>\n      <td>159077.198056</td>\n      <td>0</td>\n      <td>1</td>\n      <td>0</td>\n      <td>1</td>\n      <td>1</td>\n      <td>0</td>\n      <td>36.546343</td>\n    </tr>\n    <tr>\n      <th>647</th>\n      <td>1</td>\n      <td>2.0</td>\n      <td>63.324025</td>\n      <td>NaN</td>\n      <td>1.0</td>\n      <td>4</td>\n      <td>17.0</td>\n      <td>1977</td>\n      <td>0.007122</td>\n      <td>1</td>\n      <td>...</td>\n      <td>0</td>\n      <td>1</td>\n      <td>183809.327114</td>\n      <td>0</td>\n      <td>1</td>\n      <td>0</td>\n      <td>1</td>\n      <td>0</td>\n      <td>1</td>\n      <td>31.662012</td>\n    </tr>\n    <tr>\n      <th>11173</th>\n      <td>6</td>\n      <td>2.0</td>\n      <td>62.648779</td>\n      <td>NaN</td>\n      <td>0.0</td>\n      <td>6</td>\n      <td>17.0</td>\n      <td>1977</td>\n      <td>0.243205</td>\n      <td>5</td>\n      <td>...</td>\n      <td>0</td>\n      <td>0</td>\n      <td>182625.548872</td>\n      <td>0</td>\n      <td>1</td>\n      <td>0</td>\n      <td>1</td>\n      <td>0</td>\n      <td>1</td>\n      <td>31.324389</td>\n    </tr>\n  </tbody>\n</table>\n<p>2113 rows × 23 columns</p>\n</div>"
     },
     "metadata": {},
     "execution_count": 53
    }
   ],
   "source": [
    "train.loc[train['LifeSquare'].isna()]"
   ]
  },
  {
   "cell_type": "code",
   "execution_count": 51,
   "metadata": {},
   "outputs": [
    {
     "output_type": "execute_result",
     "data": {
      "text/plain": [
       "       DistrictId  Rooms     Square  LifeSquare  KitchenSquare  Floor  \\\n",
       "Id                                                                      \n",
       "3013           22    1.0  39.832524   23.169223            8.0      7   \n",
       "8215            1    3.0  78.342215   47.671972           10.0      2   \n",
       "13866          94    2.0  64.285067   38.562517            9.0     16   \n",
       "5804           99    3.0  62.528465   47.103833            6.0      9   \n",
       "8864           44    1.0  33.938750   21.772930            9.0      1   \n",
       "...           ...    ...        ...         ...            ...    ...   \n",
       "1260           61    2.0  49.090728   33.272626            6.0      3   \n",
       "16265          27    2.0  64.307684   37.038420            9.0     13   \n",
       "2795          178    1.0  29.648057   16.555363            5.0      3   \n",
       "14561          21    1.0  32.330292   22.326870            5.0      3   \n",
       "7202           94    1.0  35.815476   22.301367            6.0      9   \n",
       "\n",
       "       HouseFloor  HouseYear  Ecology_1  Social_1  ...  Helthcare_2  Shops_1  \\\n",
       "Id                                                 ...                         \n",
       "3013          8.0       1966   0.118537        30  ...            1        0   \n",
       "8215         17.0       1988   0.025609        33  ...            3        1   \n",
       "13866        16.0       1972   0.282798        33  ...            0        6   \n",
       "5804          9.0       1972   0.012339        35  ...            2        4   \n",
       "8864         12.0       1968   0.232205        24  ...            0        3   \n",
       "...           ...        ...        ...       ...  ...          ...      ...   \n",
       "1260         12.0       1981   0.300323        52  ...            1        9   \n",
       "16265         0.0       1977   0.072158         2  ...            0        0   \n",
       "2795          5.0       1958   0.460556        20  ...            1        5   \n",
       "14561         9.0       1969   0.194489        47  ...            3        5   \n",
       "7202          9.0       1975   0.127376        43  ...            3        9   \n",
       "\n",
       "               Price  Ecology_2_A  Ecology_2_B  Ecology_3_A  Ecology_3_B  \\\n",
       "Id                                                                         \n",
       "3013   177734.553407            0            1            0            1   \n",
       "8215   282078.720850            0            1            0            1   \n",
       "13866  343995.102962            0            1            0            1   \n",
       "5804   161044.944138            0            1            0            1   \n",
       "8864   142402.739272            0            1            0            1   \n",
       "...              ...          ...          ...          ...          ...   \n",
       "1260   119367.455796            0            1            0            1   \n",
       "16265  199715.148807            0            1            0            1   \n",
       "2795   165953.912580            0            1            0            1   \n",
       "14561  171842.411855            0            1            0            1   \n",
       "7202   177685.627486            0            1            0            1   \n",
       "\n",
       "       Shops_2_A  Shops_2_B  SquareByRoom  \n",
       "Id                                         \n",
       "3013           0          1     39.832524  \n",
       "8215           0          1     26.114072  \n",
       "13866          0          1     32.142534  \n",
       "5804           0          1     20.842822  \n",
       "8864           0          1     33.938750  \n",
       "...          ...        ...           ...  \n",
       "1260           0          1     24.545364  \n",
       "16265          1          0     32.153842  \n",
       "2795           0          1     29.648057  \n",
       "14561          0          1     32.330292  \n",
       "7202           0          1     35.815476  \n",
       "\n",
       "[7887 rows x 23 columns]"
      ],
      "text/html": "<div>\n<style scoped>\n    .dataframe tbody tr th:only-of-type {\n        vertical-align: middle;\n    }\n\n    .dataframe tbody tr th {\n        vertical-align: top;\n    }\n\n    .dataframe thead th {\n        text-align: right;\n    }\n</style>\n<table border=\"1\" class=\"dataframe\">\n  <thead>\n    <tr style=\"text-align: right;\">\n      <th></th>\n      <th>DistrictId</th>\n      <th>Rooms</th>\n      <th>Square</th>\n      <th>LifeSquare</th>\n      <th>KitchenSquare</th>\n      <th>Floor</th>\n      <th>HouseFloor</th>\n      <th>HouseYear</th>\n      <th>Ecology_1</th>\n      <th>Social_1</th>\n      <th>...</th>\n      <th>Helthcare_2</th>\n      <th>Shops_1</th>\n      <th>Price</th>\n      <th>Ecology_2_A</th>\n      <th>Ecology_2_B</th>\n      <th>Ecology_3_A</th>\n      <th>Ecology_3_B</th>\n      <th>Shops_2_A</th>\n      <th>Shops_2_B</th>\n      <th>SquareByRoom</th>\n    </tr>\n    <tr>\n      <th>Id</th>\n      <th></th>\n      <th></th>\n      <th></th>\n      <th></th>\n      <th></th>\n      <th></th>\n      <th></th>\n      <th></th>\n      <th></th>\n      <th></th>\n      <th></th>\n      <th></th>\n      <th></th>\n      <th></th>\n      <th></th>\n      <th></th>\n      <th></th>\n      <th></th>\n      <th></th>\n      <th></th>\n      <th></th>\n    </tr>\n  </thead>\n  <tbody>\n    <tr>\n      <th>3013</th>\n      <td>22</td>\n      <td>1.0</td>\n      <td>39.832524</td>\n      <td>23.169223</td>\n      <td>8.0</td>\n      <td>7</td>\n      <td>8.0</td>\n      <td>1966</td>\n      <td>0.118537</td>\n      <td>30</td>\n      <td>...</td>\n      <td>1</td>\n      <td>0</td>\n      <td>177734.553407</td>\n      <td>0</td>\n      <td>1</td>\n      <td>0</td>\n      <td>1</td>\n      <td>0</td>\n      <td>1</td>\n      <td>39.832524</td>\n    </tr>\n    <tr>\n      <th>8215</th>\n      <td>1</td>\n      <td>3.0</td>\n      <td>78.342215</td>\n      <td>47.671972</td>\n      <td>10.0</td>\n      <td>2</td>\n      <td>17.0</td>\n      <td>1988</td>\n      <td>0.025609</td>\n      <td>33</td>\n      <td>...</td>\n      <td>3</td>\n      <td>1</td>\n      <td>282078.720850</td>\n      <td>0</td>\n      <td>1</td>\n      <td>0</td>\n      <td>1</td>\n      <td>0</td>\n      <td>1</td>\n      <td>26.114072</td>\n    </tr>\n    <tr>\n      <th>13866</th>\n      <td>94</td>\n      <td>2.0</td>\n      <td>64.285067</td>\n      <td>38.562517</td>\n      <td>9.0</td>\n      <td>16</td>\n      <td>16.0</td>\n      <td>1972</td>\n      <td>0.282798</td>\n      <td>33</td>\n      <td>...</td>\n      <td>0</td>\n      <td>6</td>\n      <td>343995.102962</td>\n      <td>0</td>\n      <td>1</td>\n      <td>0</td>\n      <td>1</td>\n      <td>0</td>\n      <td>1</td>\n      <td>32.142534</td>\n    </tr>\n    <tr>\n      <th>5804</th>\n      <td>99</td>\n      <td>3.0</td>\n      <td>62.528465</td>\n      <td>47.103833</td>\n      <td>6.0</td>\n      <td>9</td>\n      <td>9.0</td>\n      <td>1972</td>\n      <td>0.012339</td>\n      <td>35</td>\n      <td>...</td>\n      <td>2</td>\n      <td>4</td>\n      <td>161044.944138</td>\n      <td>0</td>\n      <td>1</td>\n      <td>0</td>\n      <td>1</td>\n      <td>0</td>\n      <td>1</td>\n      <td>20.842822</td>\n    </tr>\n    <tr>\n      <th>8864</th>\n      <td>44</td>\n      <td>1.0</td>\n      <td>33.938750</td>\n      <td>21.772930</td>\n      <td>9.0</td>\n      <td>1</td>\n      <td>12.0</td>\n      <td>1968</td>\n      <td>0.232205</td>\n      <td>24</td>\n      <td>...</td>\n      <td>0</td>\n      <td>3</td>\n      <td>142402.739272</td>\n      <td>0</td>\n      <td>1</td>\n      <td>0</td>\n      <td>1</td>\n      <td>0</td>\n      <td>1</td>\n      <td>33.938750</td>\n    </tr>\n    <tr>\n      <th>...</th>\n      <td>...</td>\n      <td>...</td>\n      <td>...</td>\n      <td>...</td>\n      <td>...</td>\n      <td>...</td>\n      <td>...</td>\n      <td>...</td>\n      <td>...</td>\n      <td>...</td>\n      <td>...</td>\n      <td>...</td>\n      <td>...</td>\n      <td>...</td>\n      <td>...</td>\n      <td>...</td>\n      <td>...</td>\n      <td>...</td>\n      <td>...</td>\n      <td>...</td>\n      <td>...</td>\n    </tr>\n    <tr>\n      <th>1260</th>\n      <td>61</td>\n      <td>2.0</td>\n      <td>49.090728</td>\n      <td>33.272626</td>\n      <td>6.0</td>\n      <td>3</td>\n      <td>12.0</td>\n      <td>1981</td>\n      <td>0.300323</td>\n      <td>52</td>\n      <td>...</td>\n      <td>1</td>\n      <td>9</td>\n      <td>119367.455796</td>\n      <td>0</td>\n      <td>1</td>\n      <td>0</td>\n      <td>1</td>\n      <td>0</td>\n      <td>1</td>\n      <td>24.545364</td>\n    </tr>\n    <tr>\n      <th>16265</th>\n      <td>27</td>\n      <td>2.0</td>\n      <td>64.307684</td>\n      <td>37.038420</td>\n      <td>9.0</td>\n      <td>13</td>\n      <td>0.0</td>\n      <td>1977</td>\n      <td>0.072158</td>\n      <td>2</td>\n      <td>...</td>\n      <td>0</td>\n      <td>0</td>\n      <td>199715.148807</td>\n      <td>0</td>\n      <td>1</td>\n      <td>0</td>\n      <td>1</td>\n      <td>1</td>\n      <td>0</td>\n      <td>32.153842</td>\n    </tr>\n    <tr>\n      <th>2795</th>\n      <td>178</td>\n      <td>1.0</td>\n      <td>29.648057</td>\n      <td>16.555363</td>\n      <td>5.0</td>\n      <td>3</td>\n      <td>5.0</td>\n      <td>1958</td>\n      <td>0.460556</td>\n      <td>20</td>\n      <td>...</td>\n      <td>1</td>\n      <td>5</td>\n      <td>165953.912580</td>\n      <td>0</td>\n      <td>1</td>\n      <td>0</td>\n      <td>1</td>\n      <td>0</td>\n      <td>1</td>\n      <td>29.648057</td>\n    </tr>\n    <tr>\n      <th>14561</th>\n      <td>21</td>\n      <td>1.0</td>\n      <td>32.330292</td>\n      <td>22.326870</td>\n      <td>5.0</td>\n      <td>3</td>\n      <td>9.0</td>\n      <td>1969</td>\n      <td>0.194489</td>\n      <td>47</td>\n      <td>...</td>\n      <td>3</td>\n      <td>5</td>\n      <td>171842.411855</td>\n      <td>0</td>\n      <td>1</td>\n      <td>0</td>\n      <td>1</td>\n      <td>0</td>\n      <td>1</td>\n      <td>32.330292</td>\n    </tr>\n    <tr>\n      <th>7202</th>\n      <td>94</td>\n      <td>1.0</td>\n      <td>35.815476</td>\n      <td>22.301367</td>\n      <td>6.0</td>\n      <td>9</td>\n      <td>9.0</td>\n      <td>1975</td>\n      <td>0.127376</td>\n      <td>43</td>\n      <td>...</td>\n      <td>3</td>\n      <td>9</td>\n      <td>177685.627486</td>\n      <td>0</td>\n      <td>1</td>\n      <td>0</td>\n      <td>1</td>\n      <td>0</td>\n      <td>1</td>\n      <td>35.815476</td>\n    </tr>\n  </tbody>\n</table>\n<p>7887 rows × 23 columns</p>\n</div>"
     },
     "metadata": {},
     "execution_count": 51
    }
   ],
   "source": [
    "train.loc[train['Square'].isna()]\n",
    "\n",
    "train.loc[train['LifeSquare'].notna() & train['Square']]"
   ]
  },
  {
   "cell_type": "code",
   "execution_count": 47,
   "metadata": {},
   "outputs": [
    {
     "output_type": "execute_result",
     "data": {
      "text/plain": [
       "Id\n",
       "11809     True\n",
       "3013     False\n",
       "8215     False\n",
       "2352      True\n",
       "13866    False\n",
       "         ...  \n",
       "1260     False\n",
       "16265    False\n",
       "2795     False\n",
       "14561    False\n",
       "7202     False\n",
       "Name: LifeSquare, Length: 10000, dtype: bool"
      ]
     },
     "metadata": {},
     "execution_count": 47
    }
   ],
   "source": [
    "train['LifeSquare'].isna()"
   ]
  },
  {
   "cell_type": "code",
   "execution_count": 39,
   "metadata": {},
   "outputs": [],
   "source": [
    "train['SquareByRoom'] = train['Square']/train['Rooms']"
   ]
  },
  {
   "cell_type": "code",
   "execution_count": 42,
   "metadata": {},
   "outputs": [
    {
     "output_type": "execute_result",
     "data": {
      "text/plain": [
       "DistrictId\n",
       "0      31.030143\n",
       "1      33.183093\n",
       "2      28.338771\n",
       "3      28.826026\n",
       "4      25.042796\n",
       "         ...    \n",
       "202    26.277953\n",
       "205    43.226985\n",
       "207    25.593653\n",
       "208    26.930419\n",
       "209    33.533077\n",
       "Name: SquareByRoom, Length: 205, dtype: float64"
      ]
     },
     "metadata": {},
     "execution_count": 42
    }
   ],
   "source": [
    "train.groupby('DistrictId')['SquareByRoom'].median()"
   ]
  },
  {
   "cell_type": "code",
   "execution_count": 44,
   "metadata": {},
   "outputs": [
    {
     "output_type": "execute_result",
     "data": {
      "text/plain": [
       "       DistrictId  Rooms      Square  LifeSquare  KitchenSquare  Social_2  \\\n",
       "Id                                                                          \n",
       "3224           27    0.0    2.377248    0.873147            0.0       469   \n",
       "3159           88    0.0   38.697117   19.345131            9.0      8429   \n",
       "7317           27    0.0   41.790881         NaN            0.0      1892   \n",
       "770            28    0.0   49.483501         NaN            0.0      6207   \n",
       "16268          44    1.0   51.924152   48.723285           12.0      4378   \n",
       "...           ...    ...         ...         ...            ...       ...   \n",
       "7917           27    0.0  212.932361  211.231125            0.0      1892   \n",
       "5548           86    5.0  275.645284  233.949309           26.0      7010   \n",
       "2307          102    1.0  409.425181  410.639749           10.0      3889   \n",
       "28              9    2.0  604.705972         NaN            1.0      5648   \n",
       "11602          30    2.0  641.065193  638.163193           10.0      6398   \n",
       "\n",
       "               Price  \n",
       "Id                    \n",
       "3224   126596.941798  \n",
       "3159   158998.110646  \n",
       "7317    98129.976788  \n",
       "770    217009.338463  \n",
       "16268  244348.950472  \n",
       "...              ...  \n",
       "7917   302211.260887  \n",
       "5548   455264.882666  \n",
       "2307    90470.430830  \n",
       "28     187717.242538  \n",
       "11602  133529.681562  \n",
       "\n",
       "[250 rows x 7 columns]"
      ],
      "text/html": "<div>\n<style scoped>\n    .dataframe tbody tr th:only-of-type {\n        vertical-align: middle;\n    }\n\n    .dataframe tbody tr th {\n        vertical-align: top;\n    }\n\n    .dataframe thead th {\n        text-align: right;\n    }\n</style>\n<table border=\"1\" class=\"dataframe\">\n  <thead>\n    <tr style=\"text-align: right;\">\n      <th></th>\n      <th>DistrictId</th>\n      <th>Rooms</th>\n      <th>Square</th>\n      <th>LifeSquare</th>\n      <th>KitchenSquare</th>\n      <th>Social_2</th>\n      <th>Price</th>\n    </tr>\n    <tr>\n      <th>Id</th>\n      <th></th>\n      <th></th>\n      <th></th>\n      <th></th>\n      <th></th>\n      <th></th>\n      <th></th>\n    </tr>\n  </thead>\n  <tbody>\n    <tr>\n      <th>3224</th>\n      <td>27</td>\n      <td>0.0</td>\n      <td>2.377248</td>\n      <td>0.873147</td>\n      <td>0.0</td>\n      <td>469</td>\n      <td>126596.941798</td>\n    </tr>\n    <tr>\n      <th>3159</th>\n      <td>88</td>\n      <td>0.0</td>\n      <td>38.697117</td>\n      <td>19.345131</td>\n      <td>9.0</td>\n      <td>8429</td>\n      <td>158998.110646</td>\n    </tr>\n    <tr>\n      <th>7317</th>\n      <td>27</td>\n      <td>0.0</td>\n      <td>41.790881</td>\n      <td>NaN</td>\n      <td>0.0</td>\n      <td>1892</td>\n      <td>98129.976788</td>\n    </tr>\n    <tr>\n      <th>770</th>\n      <td>28</td>\n      <td>0.0</td>\n      <td>49.483501</td>\n      <td>NaN</td>\n      <td>0.0</td>\n      <td>6207</td>\n      <td>217009.338463</td>\n    </tr>\n    <tr>\n      <th>16268</th>\n      <td>44</td>\n      <td>1.0</td>\n      <td>51.924152</td>\n      <td>48.723285</td>\n      <td>12.0</td>\n      <td>4378</td>\n      <td>244348.950472</td>\n    </tr>\n    <tr>\n      <th>...</th>\n      <td>...</td>\n      <td>...</td>\n      <td>...</td>\n      <td>...</td>\n      <td>...</td>\n      <td>...</td>\n      <td>...</td>\n    </tr>\n    <tr>\n      <th>7917</th>\n      <td>27</td>\n      <td>0.0</td>\n      <td>212.932361</td>\n      <td>211.231125</td>\n      <td>0.0</td>\n      <td>1892</td>\n      <td>302211.260887</td>\n    </tr>\n    <tr>\n      <th>5548</th>\n      <td>86</td>\n      <td>5.0</td>\n      <td>275.645284</td>\n      <td>233.949309</td>\n      <td>26.0</td>\n      <td>7010</td>\n      <td>455264.882666</td>\n    </tr>\n    <tr>\n      <th>2307</th>\n      <td>102</td>\n      <td>1.0</td>\n      <td>409.425181</td>\n      <td>410.639749</td>\n      <td>10.0</td>\n      <td>3889</td>\n      <td>90470.430830</td>\n    </tr>\n    <tr>\n      <th>28</th>\n      <td>9</td>\n      <td>2.0</td>\n      <td>604.705972</td>\n      <td>NaN</td>\n      <td>1.0</td>\n      <td>5648</td>\n      <td>187717.242538</td>\n    </tr>\n    <tr>\n      <th>11602</th>\n      <td>30</td>\n      <td>2.0</td>\n      <td>641.065193</td>\n      <td>638.163193</td>\n      <td>10.0</td>\n      <td>6398</td>\n      <td>133529.681562</td>\n    </tr>\n  </tbody>\n</table>\n<p>250 rows × 7 columns</p>\n</div>"
     },
     "metadata": {},
     "execution_count": 44
    }
   ],
   "source": [
    "train.loc[train['SquareByRoom']>train['SquareByRoom'].quantile(.975), ['DistrictId','Rooms','Square','LifeSquare','KitchenSquare','Social_2',target_name]].sort_values('Square')"
   ]
  },
  {
   "cell_type": "code",
   "execution_count": null,
   "metadata": {},
   "outputs": [],
   "source": [
    "train[]"
   ]
  }
 ]
}