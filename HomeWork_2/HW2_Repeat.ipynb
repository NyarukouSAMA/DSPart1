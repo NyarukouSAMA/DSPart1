{
 "metadata": {
  "language_info": {
   "codemirror_mode": {
    "name": "ipython",
    "version": 3
   },
   "file_extension": ".py",
   "mimetype": "text/x-python",
   "name": "python",
   "nbconvert_exporter": "python",
   "pygments_lexer": "ipython3",
   "version": "3.7.3-final"
  },
  "orig_nbformat": 2,
  "kernelspec": {
   "name": "python3",
   "display_name": "Python 3"
  }
 },
 "nbformat": 4,
 "nbformat_minor": 2,
 "cells": [
  {
   "cell_type": "code",
   "execution_count": null,
   "metadata": {},
   "outputs": [],
   "source": [
    "import numpy as np"
   ]
  },
  {
   "cell_type": "code",
   "execution_count": null,
   "metadata": {},
   "outputs": [],
   "source": [
    "a = np.arange(12,24)"
   ]
  },
  {
   "cell_type": "code",
   "execution_count": 53,
   "metadata": {},
   "outputs": [],
   "source": [
    "def randomize2DShapeArray(shapeQuntifier):\n",
    "    for i in range(0, a.shape[0]):\n",
    "        if i < 2:\n",
    "            continue\n",
    "        elif a.shape[0] % i == 0:\n",
    "            first_dim_array.append(i)\n",
    "    first_dim = np.random.choice(first_dim_array)\n",
    "    second_dim = a.shape[0] // first_dim\n",
    "    return np.reshape(np.random.choice(a, 12, False), (first_dim, second_dim))\n",
    "    "
   ]
  },
  {
   "cell_type": "code",
   "execution_count": 56,
   "metadata": {},
   "outputs": [
    {
     "output_type": "execute_result",
     "data": {
      "text/plain": [
       "[array([[19, 23, 16, 14],\n",
       "        [15, 12, 13, 20],\n",
       "        [18, 22, 17, 21]]),\n",
       " array([[12, 14],\n",
       "        [15, 23],\n",
       "        [22, 17],\n",
       "        [16, 20],\n",
       "        [21, 19],\n",
       "        [13, 18]]),\n",
       " array([[16, 15],\n",
       "        [14, 18],\n",
       "        [22, 19],\n",
       "        [23, 20],\n",
       "        [12, 17],\n",
       "        [21, 13]]),\n",
       " array([[15, 21, 18, 17, 23, 14],\n",
       "        [16, 13, 12, 22, 20, 19]]),\n",
       " array([[21, 23, 20, 15, 12, 14],\n",
       "        [13, 19, 22, 16, 18, 17]])]"
      ]
     },
     "metadata": {},
     "execution_count": 56
    }
   ],
   "source": [
    "result = [randomize2DShapeArray(a.shape[0]) for i in range(0, 5)]\n",
    "result"
   ]
  },
  {
   "cell_type": "code",
   "execution_count": null,
   "metadata": {},
   "outputs": [],
   "source": [
    "12 % 3"
   ]
  },
  {
   "cell_type": "code",
   "execution_count": null,
   "metadata": {},
   "outputs": [],
   "source": []
  }
 ]
}